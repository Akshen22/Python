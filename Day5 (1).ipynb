{
 "cells": [
  {
   "cell_type": "code",
   "execution_count": 1,
   "id": "66a57dac",
   "metadata": {},
   "outputs": [
    {
     "name": "stdout",
     "output_type": "stream",
     "text": [
      "[1, 2]\n",
      "[5, 8]\n",
      "[9, 11]\n",
      "python\n"
     ]
    }
   ],
   "source": [
    "list1 = [  [1,2],  [5,8], [9,11], \"python\" ]\n",
    "\n",
    "for i in list1:\n",
    "    print(i)"
   ]
  },
  {
   "cell_type": "code",
   "execution_count": 2,
   "id": "17ba9824",
   "metadata": {},
   "outputs": [
    {
     "data": {
      "text/plain": [
       "10"
      ]
     },
     "execution_count": 2,
     "metadata": {},
     "output_type": "execute_result"
    }
   ],
   "source": [
    "a,b = 10, 20\n",
    "a"
   ]
  },
  {
   "cell_type": "code",
   "execution_count": 3,
   "id": "919235df",
   "metadata": {},
   "outputs": [
    {
     "data": {
      "text/plain": [
       "20"
      ]
     },
     "execution_count": 3,
     "metadata": {},
     "output_type": "execute_result"
    }
   ],
   "source": [
    "b"
   ]
  },
  {
   "cell_type": "code",
   "execution_count": 4,
   "id": "8f6f39be",
   "metadata": {},
   "outputs": [
    {
     "data": {
      "text/plain": [
       "10"
      ]
     },
     "execution_count": 4,
     "metadata": {},
     "output_type": "execute_result"
    }
   ],
   "source": [
    "a,b, c = 10, 20, 40\n",
    "a"
   ]
  },
  {
   "cell_type": "code",
   "execution_count": 5,
   "id": "e8209c29",
   "metadata": {},
   "outputs": [
    {
     "data": {
      "text/plain": [
       "(10, 20, 80)"
      ]
     },
     "execution_count": 5,
     "metadata": {},
     "output_type": "execute_result"
    }
   ],
   "source": [
    "a= 10,20,80\n",
    "a"
   ]
  },
  {
   "cell_type": "code",
   "execution_count": 6,
   "id": "c51e343a",
   "metadata": {},
   "outputs": [
    {
     "ename": "ValueError",
     "evalue": "not enough values to unpack (expected 3, got 2)",
     "output_type": "error",
     "traceback": [
      "\u001b[1;31m---------------------------------------------------------------------------\u001b[0m",
      "\u001b[1;31mValueError\u001b[0m                                Traceback (most recent call last)",
      "Cell \u001b[1;32mIn[6], line 1\u001b[0m\n\u001b[1;32m----> 1\u001b[0m a,b, c \u001b[38;5;241m=\u001b[39m  [\u001b[38;5;241m1\u001b[39m,\u001b[38;5;241m2\u001b[39m] \n\u001b[0;32m      2\u001b[0m a\n",
      "\u001b[1;31mValueError\u001b[0m: not enough values to unpack (expected 3, got 2)"
     ]
    }
   ],
   "source": [
    "a,b, c =  [1,2] \n",
    "a"
   ]
  },
  {
   "cell_type": "code",
   "execution_count": 7,
   "id": "889e89e6",
   "metadata": {},
   "outputs": [
    {
     "data": {
      "text/plain": [
       "20"
      ]
     },
     "execution_count": 7,
     "metadata": {},
     "output_type": "execute_result"
    }
   ],
   "source": [
    "b"
   ]
  },
  {
   "cell_type": "code",
   "execution_count": null,
   "id": "41b02aaf",
   "metadata": {},
   "outputs": [],
   "source": [
    "list1 = [  [1,2],  [5,8], [9,11], \"py\"]\n",
    "for i, j  in list1:\n",
    "    print(\"Value of i\", i)\n",
    "    print(\"value of j\", j)\n",
    "    print(\"-\"*10)"
   ]
  },
  {
   "cell_type": "code",
   "execution_count": null,
   "id": "1637d2be",
   "metadata": {},
   "outputs": [],
   "source": [
    "list1 = [1,2,3]\n",
    "list2 = [1,2,3]\n",
    "for i,j in zip(list1,list2):\n",
    "    print(i*j)"
   ]
  },
  {
   "cell_type": "code",
   "execution_count": null,
   "id": "8059dc86",
   "metadata": {},
   "outputs": [],
   "source": [
    "# functions -\n",
    "def Factors(num):\n",
    "    list_fac = []\n",
    "    \n",
    "    for i in range(1, num):\n",
    "        if num%i == 0:\n",
    "            list_fac.append(i)\n",
    "    return list_fac"
   ]
  },
  {
   "cell_type": "code",
   "execution_count": null,
   "id": "03a5cccf",
   "metadata": {},
   "outputs": [],
   "source": [
    "if sum(Factors(220)) == 284   and sum(Factors(284)) == 220:\n",
    "    print(\"Amicable\")\n",
    "else:\n",
    "    print(\"Not Amicable\")"
   ]
  },
  {
   "cell_type": "code",
   "execution_count": 13,
   "id": "ac9f212e",
   "metadata": {},
   "outputs": [],
   "source": [
    "def Factors(num):\n",
    "    list_fac = []\n",
    "    \n",
    "    for i in range(1, num):\n",
    "        if num%i == 0:\n",
    "            list_fac.append(i)\n",
    "    print(list_fac)"
   ]
  },
  {
   "cell_type": "code",
   "execution_count": 14,
   "id": "7137559b",
   "metadata": {},
   "outputs": [
    {
     "name": "stdout",
     "output_type": "stream",
     "text": [
      "[1, 2, 4, 5, 10, 11, 20, 22, 44, 55, 110]\n"
     ]
    }
   ],
   "source": [
    "fac_220 = Factors(220)"
   ]
  },
  {
   "cell_type": "code",
   "execution_count": null,
   "id": "e2486091",
   "metadata": {},
   "outputs": [],
   "source": [
    "x = print(\"hello\")"
   ]
  },
  {
   "cell_type": "code",
   "execution_count": null,
   "id": "3da0ecea",
   "metadata": {},
   "outputs": [],
   "source": [
    "print(x)"
   ]
  },
  {
   "cell_type": "code",
   "execution_count": null,
   "id": "0b5e4b82",
   "metadata": {},
   "outputs": [],
   "source": [
    "print(fac_220)"
   ]
  },
  {
   "cell_type": "code",
   "execution_count": null,
   "id": "b8d140bb",
   "metadata": {},
   "outputs": [],
   "source": [
    "# Types of arguments\n",
    "# No arguments\n",
    "# Positional argument\n",
    "# Keyword arguments\n",
    "# Default\n",
    "# Variable length\n",
    "# Keyword Variable length"
   ]
  },
  {
   "cell_type": "code",
   "execution_count": 8,
   "id": "f5a8ddb3",
   "metadata": {},
   "outputs": [],
   "source": [
    "# No arguments\n",
    "def Greet():\n",
    "    return \"Good Morning\""
   ]
  },
  {
   "cell_type": "code",
   "execution_count": 9,
   "id": "4278e166",
   "metadata": {},
   "outputs": [
    {
     "data": {
      "text/plain": [
       "'Good Morning'"
      ]
     },
     "execution_count": 9,
     "metadata": {},
     "output_type": "execute_result"
    }
   ],
   "source": [
    "Greet()"
   ]
  },
  {
   "cell_type": "code",
   "execution_count": 10,
   "id": "39ab3598",
   "metadata": {
    "collapsed": true
   },
   "outputs": [
    {
     "ename": "TypeError",
     "evalue": "Greet() takes 0 positional arguments but 1 was given",
     "output_type": "error",
     "traceback": [
      "\u001b[1;31m---------------------------------------------------------------------------\u001b[0m",
      "\u001b[1;31mTypeError\u001b[0m                                 Traceback (most recent call last)",
      "Cell \u001b[1;32mIn[10], line 1\u001b[0m\n\u001b[1;32m----> 1\u001b[0m Greet(\u001b[38;5;124m\"\u001b[39m\u001b[38;5;124mJohn\u001b[39m\u001b[38;5;124m\"\u001b[39m)\n",
      "\u001b[1;31mTypeError\u001b[0m: Greet() takes 0 positional arguments but 1 was given"
     ]
    }
   ],
   "source": [
    "Greet(\"John\")"
   ]
  },
  {
   "cell_type": "code",
   "execution_count": 11,
   "id": "dd8a65b9",
   "metadata": {},
   "outputs": [],
   "source": [
    "# Positional arguments\n",
    "def NewPrice(price, discount):\n",
    "    new_price = price - (price* (discount/100))\n",
    "    return new_price"
   ]
  },
  {
   "cell_type": "code",
   "execution_count": 12,
   "id": "08a91367",
   "metadata": {},
   "outputs": [
    {
     "data": {
      "text/plain": [
       "450.0"
      ]
     },
     "execution_count": 12,
     "metadata": {},
     "output_type": "execute_result"
    }
   ],
   "source": [
    "NewPrice(500, 10)"
   ]
  },
  {
   "cell_type": "code",
   "execution_count": 15,
   "id": "fd43bdab",
   "metadata": {},
   "outputs": [
    {
     "data": {
      "text/plain": [
       "-40.0"
      ]
     },
     "execution_count": 15,
     "metadata": {},
     "output_type": "execute_result"
    }
   ],
   "source": [
    "NewPrice(10, 500)  # keyword arguments"
   ]
  },
  {
   "cell_type": "code",
   "execution_count": null,
   "id": "e815a66a",
   "metadata": {},
   "outputs": [],
   "source": [
    "NewPrice(discount = 10, price = 500)  # keyword arguments"
   ]
  },
  {
   "cell_type": "code",
   "execution_count": null,
   "id": "1252d37d",
   "metadata": {},
   "outputs": [],
   "source": [
    "# Positional arguments\n",
    "def NewPrice(price, discount, prodname):\n",
    "    new_price = price - (price* (discount/100))\n",
    "    return f\"New price of {prodname} is {new_price}\""
   ]
  },
  {
   "cell_type": "code",
   "execution_count": null,
   "id": "d0ff1295",
   "metadata": {},
   "outputs": [],
   "source": [
    "NewPrice(200,5, \"Mouse\")"
   ]
  },
  {
   "cell_type": "code",
   "execution_count": null,
   "id": "427c26ce",
   "metadata": {},
   "outputs": [],
   "source": [
    "NewPrice(price = 200,discount = 5, prodname = \"Mouse\")"
   ]
  },
  {
   "cell_type": "code",
   "execution_count": null,
   "id": "b560de4c",
   "metadata": {},
   "outputs": [],
   "source": [
    "NewPrice(200, 5, prodname = \"Mouse\")"
   ]
  },
  {
   "cell_type": "code",
   "execution_count": null,
   "id": "b1c76879",
   "metadata": {},
   "outputs": [],
   "source": [
    "NewPrice(price = 200, 5,  \"Mouse\")"
   ]
  },
  {
   "cell_type": "code",
   "execution_count": null,
   "id": "2c376cb3",
   "metadata": {},
   "outputs": [],
   "source": [
    "NewPrice(500, prodname = \"Shoes\", price = 300)"
   ]
  },
  {
   "cell_type": "code",
   "execution_count": 16,
   "id": "b0301ba8",
   "metadata": {},
   "outputs": [],
   "source": [
    "# Default arguments\n",
    "def NewPrice(price, discount = 10):\n",
    "    new_price = price - (price* (discount/100))\n",
    "    return new_price"
   ]
  },
  {
   "cell_type": "code",
   "execution_count": 17,
   "id": "19b7de7a",
   "metadata": {},
   "outputs": [
    {
     "data": {
      "text/plain": [
       "450.0"
      ]
     },
     "execution_count": 17,
     "metadata": {},
     "output_type": "execute_result"
    }
   ],
   "source": [
    "NewPrice(500)"
   ]
  },
  {
   "cell_type": "code",
   "execution_count": null,
   "id": "05193a5e",
   "metadata": {},
   "outputs": [],
   "source": [
    "NewPrice(500, 15)"
   ]
  },
  {
   "cell_type": "code",
   "execution_count": null,
   "id": "3fb8675f",
   "metadata": {},
   "outputs": [],
   "source": [
    "NewPrice(200)"
   ]
  },
  {
   "cell_type": "code",
   "execution_count": null,
   "id": "6dde47a9",
   "metadata": {},
   "outputs": [],
   "source": [
    "# Default arguments\n",
    "def NewPrice(price, discount = 10):\n",
    "    '''\n",
    "    Returns new price after applying discount.\n",
    "    \n",
    "    Arguments : price - number\n",
    "                discount = 10 default\n",
    "    \n",
    "    '''\n",
    "    new_price = price - (price* (discount/100))\n",
    "    return new_price"
   ]
  },
  {
   "cell_type": "code",
   "execution_count": null,
   "id": "723324b6",
   "metadata": {},
   "outputs": [],
   "source": [
    "NewPrice(230)"
   ]
  },
  {
   "cell_type": "code",
   "execution_count": null,
   "id": "d651181a",
   "metadata": {},
   "outputs": [],
   "source": [
    "# variable length argument\n",
    "# max(10,12, 4, 14, 10, 88)"
   ]
  },
  {
   "cell_type": "code",
   "execution_count": null,
   "id": "1b061ee7",
   "metadata": {},
   "outputs": [],
   "source": [
    "a, *b = 10,20, 40, 50\n",
    "a"
   ]
  },
  {
   "cell_type": "code",
   "execution_count": null,
   "id": "90f02c55",
   "metadata": {},
   "outputs": [],
   "source": [
    "b"
   ]
  },
  {
   "cell_type": "code",
   "execution_count": null,
   "id": "1304df44",
   "metadata": {},
   "outputs": [],
   "source": [
    "*a, b = 10,20, 40\n",
    "a"
   ]
  },
  {
   "cell_type": "code",
   "execution_count": null,
   "id": "68a89031",
   "metadata": {},
   "outputs": [],
   "source": [
    "b"
   ]
  },
  {
   "cell_type": "code",
   "execution_count": 2,
   "id": "26afa289",
   "metadata": {},
   "outputs": [],
   "source": [
    "def VarLenFunc(*args):\n",
    "    return args"
   ]
  },
  {
   "cell_type": "code",
   "execution_count": 5,
   "id": "40e2a320",
   "metadata": {
    "collapsed": true
   },
   "outputs": [
    {
     "data": {
      "text/plain": [
       "(20, 30)"
      ]
     },
     "execution_count": 5,
     "metadata": {},
     "output_type": "execute_result"
    }
   ],
   "source": [
    "VarLenFunc(20,30)"
   ]
  },
  {
   "cell_type": "code",
   "execution_count": null,
   "id": "14088bd1",
   "metadata": {},
   "outputs": [],
   "source": [
    "# func to find count of passed and failed \n",
    "def PassNFailCount(*marks):\n",
    "    c_p = 0\n",
    "    c_f = 0\n",
    "    \n",
    "    for i in marks:\n",
    "        if i >= 30:\n",
    "            c_p += 1\n",
    "        else:\n",
    "            c_f += 1\n",
    "    return c_p, c_f\n",
    "    "
   ]
  },
  {
   "cell_type": "code",
   "execution_count": null,
   "id": "aed81f66",
   "metadata": {},
   "outputs": [],
   "source": [
    "p, f = PassNFailCount(22,34,23,45,22)\n",
    "p"
   ]
  },
  {
   "cell_type": "code",
   "execution_count": null,
   "id": "9b025f1c",
   "metadata": {},
   "outputs": [],
   "source": [
    "f"
   ]
  },
  {
   "cell_type": "code",
   "execution_count": null,
   "id": "eac8d63a",
   "metadata": {},
   "outputs": [],
   "source": [
    "p, f = PassNFailCount(22,34,23,45,22, 34, 36)\n",
    "p"
   ]
  },
  {
   "cell_type": "code",
   "execution_count": null,
   "id": "aea51e43",
   "metadata": {},
   "outputs": [],
   "source": [
    "f"
   ]
  },
  {
   "cell_type": "code",
   "execution_count": null,
   "id": "c98460ee",
   "metadata": {},
   "outputs": [],
   "source": [
    "# keyword variable len argument\n",
    "def KeyVarFunc(**kwargs):\n",
    "    return kwargs"
   ]
  },
  {
   "cell_type": "code",
   "execution_count": null,
   "id": "41560e87",
   "metadata": {},
   "outputs": [],
   "source": [
    "KeyVarFunc(S1 = 22, S2 = 34, S3 = 44, S4 = 46)"
   ]
  },
  {
   "cell_type": "code",
   "execution_count": 6,
   "id": "2c348102",
   "metadata": {},
   "outputs": [],
   "source": [
    "# Variables\n",
    "\n",
    "Z = 10  # global variable\n",
    "\n",
    "def Func():\n",
    "    X = 200  # local variable\n",
    "    return X + Z"
   ]
  },
  {
   "cell_type": "code",
   "execution_count": 7,
   "id": "29f7a3ae",
   "metadata": {
    "collapsed": true
   },
   "outputs": [
    {
     "data": {
      "text/plain": [
       "210"
      ]
     },
     "execution_count": 7,
     "metadata": {},
     "output_type": "execute_result"
    }
   ],
   "source": [
    "Func()"
   ]
  },
  {
   "cell_type": "code",
   "execution_count": 8,
   "id": "5fd2a181",
   "metadata": {
    "collapsed": true
   },
   "outputs": [
    {
     "name": "stdout",
     "output_type": "stream",
     "text": [
      "10\n"
     ]
    }
   ],
   "source": [
    "print(Z)"
   ]
  },
  {
   "cell_type": "code",
   "execution_count": 9,
   "id": "e2f9a6e3",
   "metadata": {
    "collapsed": true
   },
   "outputs": [
    {
     "ename": "NameError",
     "evalue": "name 'X' is not defined",
     "output_type": "error",
     "traceback": [
      "\u001b[1;31m---------------------------------------------------------------------------\u001b[0m",
      "\u001b[1;31mNameError\u001b[0m                                 Traceback (most recent call last)",
      "Cell \u001b[1;32mIn[9], line 1\u001b[0m\n\u001b[1;32m----> 1\u001b[0m \u001b[38;5;28mprint\u001b[39m(X)\n",
      "\u001b[1;31mNameError\u001b[0m: name 'X' is not defined"
     ]
    }
   ],
   "source": [
    "print(X)"
   ]
  },
  {
   "cell_type": "code",
   "execution_count": 12,
   "id": "66935238",
   "metadata": {},
   "outputs": [],
   "source": [
    "# Variables\n",
    "\n",
    "Z = 10  # global variable\n",
    "\n",
    "def Func():\n",
    "    global Z\n",
    "    Z += 200\n",
    "    return Z"
   ]
  },
  {
   "cell_type": "code",
   "execution_count": 17,
   "id": "1dfe9ba3",
   "metadata": {},
   "outputs": [
    {
     "data": {
      "text/plain": [
       "610"
      ]
     },
     "execution_count": 17,
     "metadata": {},
     "output_type": "execute_result"
    }
   ],
   "source": [
    "Func()"
   ]
  },
  {
   "cell_type": "code",
   "execution_count": 18,
   "id": "ddb57917",
   "metadata": {},
   "outputs": [
    {
     "name": "stdout",
     "output_type": "stream",
     "text": [
      "610\n"
     ]
    }
   ],
   "source": [
    "print(Z)"
   ]
  },
  {
   "cell_type": "code",
   "execution_count": 25,
   "id": "2379f405",
   "metadata": {
    "collapsed": true
   },
   "outputs": [
    {
     "data": {
      "text/plain": [
       "30"
      ]
     },
     "execution_count": 25,
     "metadata": {},
     "output_type": "execute_result"
    }
   ],
   "source": [
    "add = lambda x, y : x+y\n",
    "add(10,20)"
   ]
  },
  {
   "cell_type": "code",
   "execution_count": 24,
   "id": "a60c266c",
   "metadata": {
    "collapsed": true
   },
   "outputs": [
    {
     "data": {
      "text/plain": [
       "30"
      ]
     },
     "execution_count": 24,
     "metadata": {},
     "output_type": "execute_result"
    }
   ],
   "source": [
    "def Add(x,y) :\n",
    "    return x + y\n",
    "\n",
    "a2= Add\n",
    "a2(10,20)"
   ]
  },
  {
   "cell_type": "code",
   "execution_count": 27,
   "id": "d70bcf01",
   "metadata": {
    "collapsed": true
   },
   "outputs": [
    {
     "data": {
      "text/plain": [
       "20"
      ]
     },
     "execution_count": 27,
     "metadata": {},
     "output_type": "execute_result"
    }
   ],
   "source": [
    "h2 = lambda x, y : x if x > y else y\n",
    "h2(10,20)"
   ]
  },
  {
   "cell_type": "code",
   "execution_count": null,
   "id": "93b4f554",
   "metadata": {},
   "outputs": [],
   "source": [
    "# map, filter\n",
    "# map(   func,     *iterables)"
   ]
  },
  {
   "cell_type": "code",
   "execution_count": 30,
   "id": "3bd96543",
   "metadata": {
    "collapsed": true
   },
   "outputs": [
    {
     "data": {
      "text/plain": [
       "['fail', 'fail', 'pass', 'pass', 'pass', 'fail']"
      ]
     },
     "execution_count": 30,
     "metadata": {},
     "output_type": "execute_result"
    }
   ],
   "source": [
    "my_list = [22,24,33,43,36,21]\n",
    "val1 = map(  lambda x : \"pass\" if x >= 30 else \"fail\",  my_list )  \n",
    "# iterator - it can be used just once then it is destroyed\n",
    "list(val1)"
   ]
  },
  {
   "cell_type": "code",
   "execution_count": 31,
   "id": "8390fe52",
   "metadata": {
    "collapsed": true
   },
   "outputs": [
    {
     "data": {
      "text/plain": [
       "[]"
      ]
     },
     "execution_count": 31,
     "metadata": {},
     "output_type": "execute_result"
    }
   ],
   "source": [
    "list(val1)"
   ]
  },
  {
   "cell_type": "code",
   "execution_count": 34,
   "id": "5fe88286",
   "metadata": {},
   "outputs": [],
   "source": [
    "def Passfail(x):\n",
    "    if x >= 30:\n",
    "        return \"Pass\"\n",
    "    else:\n",
    "        return \"Fail\""
   ]
  },
  {
   "cell_type": "code",
   "execution_count": 35,
   "id": "cd84dfcb",
   "metadata": {
    "collapsed": true
   },
   "outputs": [
    {
     "data": {
      "text/plain": [
       "['Fail', 'Fail', 'Pass', 'Pass', 'Pass', 'Fail']"
      ]
     },
     "execution_count": 35,
     "metadata": {},
     "output_type": "execute_result"
    }
   ],
   "source": [
    "my_list = [22,24,33,43,36,21]\n",
    "val1 = map(Passfail  ,  my_list )  \n",
    "# iterator - it can be used just once then it is destroyed\n",
    "list(val1)"
   ]
  },
  {
   "cell_type": "code",
   "execution_count": 36,
   "id": "165ccef2",
   "metadata": {
    "collapsed": true
   },
   "outputs": [
    {
     "data": {
      "text/plain": [
       "[9, 5, 8, 7]"
      ]
     },
     "execution_count": 36,
     "metadata": {},
     "output_type": "execute_result"
    }
   ],
   "source": [
    "names = [\"Manvendra\", \"Vidya\", \"Gowthami\", \"Bhushan\"]\n",
    "val1 = map(len  ,  names )  \n",
    "# iterator - it can be used just once then it is destroyed\n",
    "list(val1)"
   ]
  },
  {
   "cell_type": "code",
   "execution_count": 38,
   "id": "9d3a19fc",
   "metadata": {
    "collapsed": true
   },
   "outputs": [
    {
     "data": {
      "text/plain": [
       "['22', '24', '33', '43', '36', '21']"
      ]
     },
     "execution_count": 38,
     "metadata": {},
     "output_type": "execute_result"
    }
   ],
   "source": [
    "my_list = [22,24,33,43,36,21]\n",
    "list(map(str, my_list))"
   ]
  },
  {
   "cell_type": "code",
   "execution_count": 42,
   "id": "aba61700",
   "metadata": {
    "collapsed": true
   },
   "outputs": [
    {
     "data": {
      "text/plain": [
       "['S1 - 22 ', 'S2 - 24 ', 'S3 - 33 ', 'S4 - 43 ', 'S5 - 36 ', 'S6 - 21 ']"
      ]
     },
     "execution_count": 42,
     "metadata": {},
     "output_type": "execute_result"
    }
   ],
   "source": [
    "marks = [22,24,33,43,36,21]\n",
    "names = [\"S1\", \"S2\", \"S3\", \"S4\", \"S5\", \"S6\"]\n",
    "list(map(   lambda x, y : f\"{y} - {x} \"     , marks,   names))"
   ]
  },
  {
   "cell_type": "code",
   "execution_count": 43,
   "id": "a90739dd",
   "metadata": {
    "collapsed": true
   },
   "outputs": [
    {
     "data": {
      "text/plain": [
       "['S1 - 22 ', 'S2 - 24 ', 'S3 - 33 ', 'S4 - 43 ', 'S5 - 36 ', 'S6 - 21 ']"
      ]
     },
     "execution_count": 43,
     "metadata": {},
     "output_type": "execute_result"
    }
   ],
   "source": [
    "marks = [22,24,33,43,36,21]\n",
    "names = [\"S1\", \"S2\", \"S3\", \"S4\", \"S5\", \"S6\"]\n",
    "def MapMarks(x,y):\n",
    "    return f\"{y} - {x} \"\n",
    "list(map(   MapMarks     , marks,   names))"
   ]
  },
  {
   "cell_type": "code",
   "execution_count": 47,
   "id": "b261531b",
   "metadata": {},
   "outputs": [
    {
     "data": {
      "text/plain": [
       "['Manvendra', 'Gowthami', 'Bhushan']"
      ]
     },
     "execution_count": 47,
     "metadata": {},
     "output_type": "execute_result"
    }
   ],
   "source": [
    "# filter\n",
    "names = [\"Manvendra\", \"Vidya\", \"Gowthami\", \"Bhushan\"]\n",
    "list( filter(  lambda x :   len(x) > 5   , names)  )"
   ]
  },
  {
   "cell_type": "code",
   "execution_count": 50,
   "id": "ce25195f",
   "metadata": {},
   "outputs": [],
   "source": [
    "def FilterNames(x):\n",
    "    return len(x)> 5"
   ]
  },
  {
   "cell_type": "code",
   "execution_count": 51,
   "id": "4f362ad6",
   "metadata": {},
   "outputs": [
    {
     "data": {
      "text/plain": [
       "['Manvendra', 'Gowthami', 'Bhushan']"
      ]
     },
     "execution_count": 51,
     "metadata": {},
     "output_type": "execute_result"
    }
   ],
   "source": [
    "list( filter(  FilterNames   , names)  )"
   ]
  },
  {
   "cell_type": "code",
   "execution_count": 52,
   "id": "d51d3a0b",
   "metadata": {},
   "outputs": [
    {
     "data": {
      "text/plain": [
       "['vidya', 'gowthami']"
      ]
     },
     "execution_count": 52,
     "metadata": {},
     "output_type": "execute_result"
    }
   ],
   "source": [
    "names = [\"Manvendra\", \"vidya\", \"gowthami\", \"Bhushan\"]\n",
    "# filter the name which has first letter in lower case\n",
    "list(filter(  lambda x  : x[0].islower(),   names))"
   ]
  },
  {
   "cell_type": "code",
   "execution_count": 54,
   "id": "a0472680",
   "metadata": {},
   "outputs": [
    {
     "data": {
      "text/plain": [
       "['Manvendra']"
      ]
     },
     "execution_count": 54,
     "metadata": {},
     "output_type": "execute_result"
    }
   ],
   "source": [
    "# filter the names which has 2 a in their name\n",
    "list(filter(  lambda x  : x.count(\"a\") == 2,   names))"
   ]
  },
  {
   "cell_type": "code",
   "execution_count": 57,
   "id": "17b02631",
   "metadata": {},
   "outputs": [
    {
     "data": {
      "text/plain": [
       "[22, 24, 33, 36, 21]"
      ]
     },
     "execution_count": 57,
     "metadata": {},
     "output_type": "execute_result"
    }
   ],
   "source": [
    "marks = [22,24,33,\"\",36,21]\n",
    "list(filter(None, marks))"
   ]
  },
  {
   "cell_type": "code",
   "execution_count": 1,
   "id": "fd152f24",
   "metadata": {},
   "outputs": [],
   "source": [
    "# str = \"hello\"\n",
    "# str"
   ]
  },
  {
   "cell_type": "code",
   "execution_count": 2,
   "id": "64d83ba5",
   "metadata": {},
   "outputs": [
    {
     "data": {
      "text/plain": [
       "'10'"
      ]
     },
     "execution_count": 2,
     "metadata": {},
     "output_type": "execute_result"
    }
   ],
   "source": [
    "str(10)"
   ]
  },
  {
   "cell_type": "code",
   "execution_count": 3,
   "id": "6183c837",
   "metadata": {},
   "outputs": [],
   "source": [
    "# reduce, accumulate\n",
    "import calculator"
   ]
  },
  {
   "cell_type": "code",
   "execution_count": 5,
   "id": "afaf3822",
   "metadata": {},
   "outputs": [
    {
     "data": {
      "text/plain": [
       "30"
      ]
     },
     "execution_count": 5,
     "metadata": {},
     "output_type": "execute_result"
    }
   ],
   "source": [
    "calculator.Addition(10,20)"
   ]
  },
  {
   "cell_type": "code",
   "execution_count": 6,
   "id": "954f3a42",
   "metadata": {
    "collapsed": true
   },
   "outputs": [
    {
     "name": "stdout",
     "output_type": "stream",
     "text": [
      "['__doc__', '__loader__', '__name__', '__package__', '__spec__', '_grouper', '_tee', '_tee_dataobject', 'accumulate', 'chain', 'combinations', 'combinations_with_replacement', 'compress', 'count', 'cycle', 'dropwhile', 'filterfalse', 'groupby', 'islice', 'pairwise', 'permutations', 'product', 'repeat', 'starmap', 'takewhile', 'tee', 'zip_longest']\n"
     ]
    }
   ],
   "source": [
    "# itertools, functools\n",
    "import itertools\n",
    "print(dir(itertools))"
   ]
  },
  {
   "cell_type": "code",
   "execution_count": 7,
   "id": "7b59736b",
   "metadata": {
    "collapsed": true
   },
   "outputs": [
    {
     "name": "stdout",
     "output_type": "stream",
     "text": [
      "['GenericAlias', 'RLock', 'WRAPPER_ASSIGNMENTS', 'WRAPPER_UPDATES', '_CacheInfo', '_HashedSeq', '_NOT_FOUND', '__all__', '__builtins__', '__cached__', '__doc__', '__file__', '__loader__', '__name__', '__package__', '__spec__', '_c3_merge', '_c3_mro', '_compose_mro', '_convert', '_find_impl', '_ge_from_gt', '_ge_from_le', '_ge_from_lt', '_gt_from_ge', '_gt_from_le', '_gt_from_lt', '_initial_missing', '_le_from_ge', '_le_from_gt', '_le_from_lt', '_lru_cache_wrapper', '_lt_from_ge', '_lt_from_gt', '_lt_from_le', '_make_key', '_unwrap_partial', 'cache', 'cached_property', 'cmp_to_key', 'get_cache_token', 'lru_cache', 'namedtuple', 'partial', 'partialmethod', 'recursive_repr', 'reduce', 'singledispatch', 'singledispatchmethod', 'total_ordering', 'update_wrapper', 'wraps']\n"
     ]
    }
   ],
   "source": [
    "import functools\n",
    "print(dir(functools))"
   ]
  },
  {
   "cell_type": "code",
   "execution_count": 16,
   "id": "c28540af",
   "metadata": {
    "collapsed": true
   },
   "outputs": [
    {
     "data": {
      "text/plain": [
       "179"
      ]
     },
     "execution_count": 16,
     "metadata": {},
     "output_type": "execute_result"
    }
   ],
   "source": [
    "marks = [22,24,33,43,36,21]\n",
    "functools.reduce(lambda x,y : x+y, marks)"
   ]
  },
  {
   "cell_type": "code",
   "execution_count": 24,
   "id": "6866365c",
   "metadata": {},
   "outputs": [],
   "source": [
    "# x = 22    # 22\n",
    "# y = 24\n",
    "# x = x + y  # 46\n",
    "# y = 33\n",
    "# x = x + y  # 79\n",
    "# y = 43\n",
    "# x = x+ y  # 122\n",
    "# y = 36\n",
    "# x = x+ y   # 158\n",
    "# y = 21\n",
    "# x = x+ y  # 179\n",
    "# x"
   ]
  },
  {
   "cell_type": "code",
   "execution_count": 23,
   "id": "c7ae7ff7",
   "metadata": {},
   "outputs": [
    {
     "data": {
      "text/plain": [
       "[22, 46, 79, 122, 158, 179]"
      ]
     },
     "execution_count": 23,
     "metadata": {},
     "output_type": "execute_result"
    }
   ],
   "source": [
    "list(itertools.accumulate(marks, lambda x,y : x+y ))"
   ]
  },
  {
   "cell_type": "code",
   "execution_count": null,
   "id": "31a80f34",
   "metadata": {},
   "outputs": [],
   "source": []
  }
 ],
 "metadata": {
  "kernelspec": {
   "display_name": "Python 3 (ipykernel)",
   "language": "python",
   "name": "python3"
  },
  "language_info": {
   "codemirror_mode": {
    "name": "ipython",
    "version": 3
   },
   "file_extension": ".py",
   "mimetype": "text/x-python",
   "name": "python",
   "nbconvert_exporter": "python",
   "pygments_lexer": "ipython3",
   "version": "3.11.4"
  }
 },
 "nbformat": 4,
 "nbformat_minor": 5
}
