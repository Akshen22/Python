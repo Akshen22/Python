{
 "cells": [
  {
   "cell_type": "markdown",
   "id": "84f459f1",
   "metadata": {},
   "source": [
    "print using sep, end:"
   ]
  },
  {
   "cell_type": "code",
   "execution_count": 1,
   "id": "7de63e0d",
   "metadata": {},
   "outputs": [
    {
     "name": "stdout",
     "output_type": "stream",
     "text": [
      "Hello World\n"
     ]
    }
   ],
   "source": [
    "print('Hello World')"
   ]
  },
  {
   "cell_type": "code",
   "execution_count": 2,
   "id": "38f2bdbd",
   "metadata": {},
   "outputs": [
    {
     "name": "stdout",
     "output_type": "stream",
     "text": [
      "\n",
      "\n"
     ]
    }
   ],
   "source": [
    "print()\n",
    "print()"
   ]
  },
  {
   "cell_type": "code",
   "execution_count": 3,
   "id": "41b819cb",
   "metadata": {},
   "outputs": [
    {
     "name": "stdout",
     "output_type": "stream",
     "text": [
      "Hello World\n"
     ]
    }
   ],
   "source": [
    "print('Hello', 'World')"
   ]
  },
  {
   "cell_type": "code",
   "execution_count": 6,
   "id": "55e02ead",
   "metadata": {},
   "outputs": [
    {
     "name": "stdout",
     "output_type": "stream",
     "text": [
      "Hello \n",
      "World\n"
     ]
    }
   ],
   "source": [
    "print('Hello','\\n' 'World')"
   ]
  },
  {
   "cell_type": "code",
   "execution_count": 7,
   "id": "260a7410",
   "metadata": {},
   "outputs": [
    {
     "name": "stdout",
     "output_type": "stream",
     "text": [
      "Hello\n",
      "\n",
      "World\n"
     ]
    }
   ],
   "source": [
    "print('Hello','\\n' 'World',sep='\\n')"
   ]
  },
  {
   "cell_type": "code",
   "execution_count": 15,
   "id": "80980cde",
   "metadata": {},
   "outputs": [
    {
     "name": "stdout",
     "output_type": "stream",
     "text": [
      "Hello World\n"
     ]
    }
   ],
   "source": [
    "print('Hello', 'World',sep=' ')"
   ]
  },
  {
   "cell_type": "code",
   "execution_count": 10,
   "id": "e9f30cc5",
   "metadata": {},
   "outputs": [
    {
     "name": "stdout",
     "output_type": "stream",
     "text": [
      "Hello \n",
      "World\n"
     ]
    }
   ],
   "source": [
    "print('Hello','\\nWorld')"
   ]
  },
  {
   "cell_type": "code",
   "execution_count": 18,
   "id": "78cd7249",
   "metadata": {},
   "outputs": [
    {
     "name": "stdout",
     "output_type": "stream",
     "text": [
      "Myself Akshen Dhami\n"
     ]
    }
   ],
   "source": [
    "print('Myself Akshen Dhami',sep=\",\")"
   ]
  },
  {
   "cell_type": "code",
   "execution_count": 20,
   "id": "5b1eaa4b",
   "metadata": {},
   "outputs": [
    {
     "name": "stdout",
     "output_type": "stream",
     "text": [
      "MyselfAkshen Dhami\n"
     ]
    }
   ],
   "source": [
    "print('Myself','Akshen Dhami',sep=\"\")"
   ]
  },
  {
   "cell_type": "code",
   "execution_count": 27,
   "id": "c9780227",
   "metadata": {},
   "outputs": [
    {
     "name": "stdout",
     "output_type": "stream",
     "text": [
      "Myself Akshen Dhami, BE Comp\n"
     ]
    }
   ],
   "source": [
    "print('Myself Akshen Dhami',end=\", \")\n",
    "print('BE Comp')"
   ]
  },
  {
   "cell_type": "code",
   "execution_count": 30,
   "id": "a13f1382",
   "metadata": {},
   "outputs": [
    {
     "name": "stdout",
     "output_type": "stream",
     "text": [
      "Myself Akshen Dhami\n",
      "BE Comp\n"
     ]
    }
   ],
   "source": [
    "print('Myself Akshen Dhami',end=\"\\n\") \n",
    "print('BE Comp')"
   ]
  },
  {
   "cell_type": "code",
   "execution_count": 32,
   "id": "2008bfb9",
   "metadata": {},
   "outputs": [
    {
     "name": "stdout",
     "output_type": "stream",
     "text": [
      "Myself Akshen Dhami BE Comp\n"
     ]
    }
   ],
   "source": [
    "print('Myself Akshen Dhami',end=\" \")\n",
    "print('BE Comp')"
   ]
  },
  {
   "cell_type": "code",
   "execution_count": 39,
   "id": "7d2e6feb",
   "metadata": {},
   "outputs": [
    {
     "name": "stdout",
     "output_type": "stream",
     "text": [
      "Myself\tAkshen\tDhami\n",
      "BE Comp\n"
     ]
    }
   ],
   "source": [
    "print('Myself','Akshen','Dhami',sep=\"\\t\")\n",
    "print('BE Comp')"
   ]
  },
  {
   "cell_type": "code",
   "execution_count": 40,
   "id": "2dece49f",
   "metadata": {},
   "outputs": [
    {
     "name": "stdout",
     "output_type": "stream",
     "text": [
      "Myself Akshen Dhami\tBE Comp\n"
     ]
    }
   ],
   "source": [
    "print('Myself','Akshen','Dhami',end=\"\\t\")\n",
    "print('BE Comp')"
   ]
  },
  {
   "cell_type": "code",
   "execution_count": 59,
   "id": "ccdd48e6",
   "metadata": {},
   "outputs": [
    {
     "name": "stdout",
     "output_type": "stream",
     "text": [
      "1) Python\n",
      "1) Coding\n",
      "2) Python Coding\n",
      "3)\n",
      "Python\n",
      "Coding\n",
      "4) Python Coding\n",
      "5) Python Coding\n",
      "6) Python Coding 7),Python,Coding\n",
      "8) Python Coding,9)\tPython\tCoding\n",
      "10) Python Coding\t"
     ]
    }
   ],
   "source": [
    "m1='Python'\n",
    "m2='Coding'\n",
    "print('1)',m1),print('1)',m2)\n",
    "print('2)',m1,m2)\n",
    "print('3)',m1,m2,sep='\\n')\n",
    "print('4)',m1,m2,end='\\n')\n",
    "print('5)',m1,m2,sep=' ')\n",
    "print('6)',m1,m2,end=' ')\n",
    "print('7)',m1,m2,sep=',')\n",
    "print('8)',m1,m2,end=',')\n",
    "print('9)',m1,m2,sep='\\t')\n",
    "print('10)',m1,m2,end='\\t')"
   ]
  },
  {
   "cell_type": "markdown",
   "id": "b258c501",
   "metadata": {},
   "source": [
    "input:"
   ]
  },
  {
   "cell_type": "code",
   "execution_count": 62,
   "id": "4a56e849",
   "metadata": {},
   "outputs": [
    {
     "name": "stdout",
     "output_type": "stream",
     "text": [
      "Enter your nameAkshen\n"
     ]
    },
    {
     "data": {
      "text/plain": [
       "'Akshen'"
      ]
     },
     "execution_count": 62,
     "metadata": {},
     "output_type": "execute_result"
    }
   ],
   "source": [
    "a=input('Enter your name')\n",
    "a"
   ]
  },
  {
   "cell_type": "code",
   "execution_count": 63,
   "id": "151268c8",
   "metadata": {},
   "outputs": [
    {
     "data": {
      "text/plain": [
       "'Akshen'"
      ]
     },
     "execution_count": 63,
     "metadata": {},
     "output_type": "execute_result"
    }
   ],
   "source": [
    "a"
   ]
  },
  {
   "cell_type": "code",
   "execution_count": 64,
   "id": "9a6f7aaf",
   "metadata": {},
   "outputs": [
    {
     "data": {
      "text/plain": [
       "1790945436528"
      ]
     },
     "execution_count": 64,
     "metadata": {},
     "output_type": "execute_result"
    }
   ],
   "source": [
    "id(a) -- unique identifier (memory address) "
   ]
  },
  {
   "cell_type": "code",
   "execution_count": 65,
   "id": "8f36d7bf",
   "metadata": {},
   "outputs": [
    {
     "name": "stdout",
     "output_type": "stream",
     "text": [
      "1790945436528\n"
     ]
    }
   ],
   "source": [
    "print(id(a))"
   ]
  },
  {
   "cell_type": "markdown",
   "id": "2a817133",
   "metadata": {},
   "source": [
    "Rules to be followed:"
   ]
  },
  {
   "cell_type": "code",
   "execution_count": 66,
   "id": "5f7217d9",
   "metadata": {},
   "outputs": [
    {
     "ename": "SyntaxError",
     "evalue": "invalid decimal literal (1943876939.py, line 2)",
     "output_type": "error",
     "traceback": [
      "\u001b[1;36m  Cell \u001b[1;32mIn[66], line 2\u001b[1;36m\u001b[0m\n\u001b[1;33m    9A = 20\u001b[0m\n\u001b[1;37m    ^\u001b[0m\n\u001b[1;31mSyntaxError\u001b[0m\u001b[1;31m:\u001b[0m invalid decimal literal\n"
     ]
    }
   ],
   "source": [
    "#a variable name cannot start with number\n",
    "9A = 20"
   ]
  },
  {
   "cell_type": "code",
   "execution_count": 67,
   "id": "2c3bfce9",
   "metadata": {},
   "outputs": [],
   "source": [
    "A9=20"
   ]
  },
  {
   "cell_type": "code",
   "execution_count": 68,
   "id": "faa7c96e",
   "metadata": {},
   "outputs": [
    {
     "ename": "SyntaxError",
     "evalue": "invalid syntax (1210189233.py, line 3)",
     "output_type": "error",
     "traceback": [
      "\u001b[1;36m  Cell \u001b[1;32mIn[68], line 3\u001b[1;36m\u001b[0m\n\u001b[1;33m    A@ = 20\u001b[0m\n\u001b[1;37m       ^\u001b[0m\n\u001b[1;31mSyntaxError\u001b[0m\u001b[1;31m:\u001b[0m invalid syntax\n"
     ]
    }
   ],
   "source": [
    "#a variable name cannot start with number\n",
    "# A variable name should not have any special char other than underscore\n",
    "A@ = 20"
   ]
  },
  {
   "cell_type": "code",
   "execution_count": 69,
   "id": "7b01bc54",
   "metadata": {},
   "outputs": [],
   "source": [
    "A_B = 100"
   ]
  },
  {
   "cell_type": "code",
   "execution_count": 70,
   "id": "e144c4c6",
   "metadata": {},
   "outputs": [],
   "source": [
    "#a variable name cannot start with number\n",
    "# A variable name should not have any special char other than underscore\n",
    "# python is case senstive - variable names are case sensitive\n",
    "y = 200"
   ]
  },
  {
   "cell_type": "code",
   "execution_count": 71,
   "id": "a22569cd",
   "metadata": {},
   "outputs": [
    {
     "name": "stdout",
     "output_type": "stream",
     "text": [
      "300\n"
     ]
    }
   ],
   "source": [
    "Y=300\n",
    "print(Y)"
   ]
  },
  {
   "cell_type": "code",
   "execution_count": 72,
   "id": "a277c498",
   "metadata": {},
   "outputs": [
    {
     "ename": "SyntaxError",
     "evalue": "invalid syntax (1921505499.py, line 5)",
     "output_type": "error",
     "traceback": [
      "\u001b[1;36m  Cell \u001b[1;32mIn[72], line 5\u001b[1;36m\u001b[0m\n\u001b[1;33m    first num = 230\u001b[0m\n\u001b[1;37m          ^\u001b[0m\n\u001b[1;31mSyntaxError\u001b[0m\u001b[1;31m:\u001b[0m invalid syntax\n"
     ]
    }
   ],
   "source": [
    "#a variable name cannot start with number\n",
    "# A variable name should not have any special char other than underscore\n",
    "# python is case senstive - variable names are case sensitive\n",
    "# we cannot have space b/w the variable name\n",
    "first num = 230"
   ]
  },
  {
   "cell_type": "code",
   "execution_count": 73,
   "id": "2a79a05c",
   "metadata": {},
   "outputs": [
    {
     "name": "stdout",
     "output_type": "stream",
     "text": [
      "230\n"
     ]
    }
   ],
   "source": [
    "first_num = 230\n",
    "print(first_num)"
   ]
  },
  {
   "cell_type": "code",
   "execution_count": 74,
   "id": "4cc3a4a4",
   "metadata": {},
   "outputs": [],
   "source": [
    "#a variable name cannot start with number\n",
    "# A variable name should not have any special char other than underscore\n",
    "# python is case senstive - variable names are case sensitive\n",
    "# we cannot have space b/w the variable name\n",
    "# A python keyword or function should not be used as variable name\n",
    "# print = \"hello\", else whatever you will print will get only hello"
   ]
  },
  {
   "cell_type": "markdown",
   "id": "c45b6937",
   "metadata": {},
   "source": [
    "print together:"
   ]
  },
  {
   "cell_type": "code",
   "execution_count": 75,
   "id": "bbdb4199",
   "metadata": {},
   "outputs": [
    {
     "name": "stdout",
     "output_type": "stream",
     "text": [
      "Enter your name: Akshen\n",
      "Enter your age: 23\n"
     ]
    }
   ],
   "source": [
    "name=input('Enter your name: ')\n",
    "age=input('Enter your age: ')"
   ]
  },
  {
   "cell_type": "code",
   "execution_count": 85,
   "id": "3f798dda",
   "metadata": {},
   "outputs": [
    {
     "name": "stdout",
     "output_type": "stream",
     "text": [
      "Your name is: Akshen and your age is: 23\n"
     ]
    }
   ],
   "source": [
    "print('Your name is:', name, 'and', 'your age is:',age, end='\\n')"
   ]
  },
  {
   "cell_type": "code",
   "execution_count": 86,
   "id": "0d0f3426",
   "metadata": {},
   "outputs": [
    {
     "name": "stdout",
     "output_type": "stream",
     "text": [
      "Enter your name - Akshen\n",
      "Enter your age - 23\n",
      "Name is Akshen and age is 23\n"
     ]
    }
   ],
   "source": [
    "name = input(\"Enter your name - \") \n",
    "age = input(\"Enter your age - \") \n",
    "\n",
    "print(\"Name is {} and age is {}\".format(name,age))"
   ]
  },
  {
   "cell_type": "markdown",
   "id": "acd1e7ff",
   "metadata": {},
   "source": [
    "function:"
   ]
  },
  {
   "cell_type": "code",
   "execution_count": 90,
   "id": "84a82fc7",
   "metadata": {},
   "outputs": [],
   "source": [
    "def Total(itp,sql):\n",
    "    total=itp+sql\n",
    "    return total"
   ]
  },
  {
   "cell_type": "code",
   "execution_count": 92,
   "id": "41477ca5",
   "metadata": {},
   "outputs": [
    {
     "data": {
      "text/plain": [
       "27"
      ]
     },
     "execution_count": 92,
     "metadata": {},
     "output_type": "execute_result"
    }
   ],
   "source": [
    "Total(12,15)"
   ]
  },
  {
   "cell_type": "code",
   "execution_count": 93,
   "id": "38c48e80",
   "metadata": {},
   "outputs": [],
   "source": [
    "def Average(itp,sql):\n",
    "    avg=(itp+sql)/2\n",
    "    return avg"
   ]
  },
  {
   "cell_type": "code",
   "execution_count": 94,
   "id": "20bc11e6",
   "metadata": {},
   "outputs": [
    {
     "data": {
      "text/plain": [
       "90.0"
      ]
     },
     "execution_count": 94,
     "metadata": {},
     "output_type": "execute_result"
    }
   ],
   "source": [
    "Average(100, 80)"
   ]
  },
  {
   "cell_type": "markdown",
   "id": "e6b288fb",
   "metadata": {},
   "source": [
    "'',''' ''',\"\":"
   ]
  },
  {
   "cell_type": "code",
   "execution_count": 95,
   "id": "dfa88e8a",
   "metadata": {},
   "outputs": [
    {
     "data": {
      "text/plain": [
       "'python'"
      ]
     },
     "execution_count": 95,
     "metadata": {},
     "output_type": "execute_result"
    }
   ],
   "source": [
    "s='python'\n",
    "s"
   ]
  },
  {
   "cell_type": "code",
   "execution_count": 97,
   "id": "f1c7140e",
   "metadata": {},
   "outputs": [
    {
     "data": {
      "text/plain": [
       "\"'python'\""
      ]
     },
     "execution_count": 97,
     "metadata": {},
     "output_type": "execute_result"
    }
   ],
   "source": [
    "s=\"'python'\"\n",
    "s"
   ]
  },
  {
   "cell_type": "code",
   "execution_count": 98,
   "id": "41c85760",
   "metadata": {},
   "outputs": [
    {
     "data": {
      "text/plain": [
       "\"i can't tolerate it\""
      ]
     },
     "execution_count": 98,
     "metadata": {},
     "output_type": "execute_result"
    }
   ],
   "source": [
    "s= \"i can't tolerate it\"\n",
    "s"
   ]
  },
  {
   "cell_type": "code",
   "execution_count": 99,
   "id": "f5b03689",
   "metadata": {},
   "outputs": [
    {
     "data": {
      "text/plain": [
       "\"i can't tolerate it\""
      ]
     },
     "execution_count": 99,
     "metadata": {},
     "output_type": "execute_result"
    }
   ],
   "source": [
    "s= '''i can't tolerate it'''\n",
    "s"
   ]
  },
  {
   "cell_type": "markdown",
   "id": "b8c5befd",
   "metadata": {},
   "source": [
    "Basic datatype:"
   ]
  },
  {
   "cell_type": "code",
   "execution_count": 106,
   "id": "026e039f",
   "metadata": {},
   "outputs": [
    {
     "name": "stdout",
     "output_type": "stream",
     "text": [
      "20\n",
      "<class 'int'>\n"
     ]
    }
   ],
   "source": [
    "#20\n",
    "a=20\n",
    "print(a)\n",
    "print(type(a))"
   ]
  },
  {
   "cell_type": "code",
   "execution_count": 107,
   "id": "889f8517",
   "metadata": {},
   "outputs": [
    {
     "name": "stdout",
     "output_type": "stream",
     "text": [
      "20.0\n",
      "<class 'float'>\n"
     ]
    }
   ],
   "source": [
    "b=float(a)\n",
    "print(b)\n",
    "print(type(b))"
   ]
  },
  {
   "cell_type": "code",
   "execution_count": 109,
   "id": "55e1a2ac",
   "metadata": {},
   "outputs": [
    {
     "name": "stdout",
     "output_type": "stream",
     "text": [
      "20\n",
      "<class 'str'>\n"
     ]
    }
   ],
   "source": [
    "c=str(a)\n",
    "print(c)\n",
    "print(type(c))"
   ]
  },
  {
   "cell_type": "code",
   "execution_count": 110,
   "id": "239b457e",
   "metadata": {
    "scrolled": true
   },
   "outputs": [
    {
     "name": "stdout",
     "output_type": "stream",
     "text": [
      "(20+0j)\n",
      "<class 'complex'>\n"
     ]
    }
   ],
   "source": [
    "d=complex(a)\n",
    "print(d)\n",
    "print(type(d))"
   ]
  },
  {
   "cell_type": "code",
   "execution_count": 113,
   "id": "27f8ed32",
   "metadata": {},
   "outputs": [
    {
     "name": "stdout",
     "output_type": "stream",
     "text": [
      "20.0\n",
      "0.0\n"
     ]
    }
   ],
   "source": [
    "print(d.real)\n",
    "print(d.imag)"
   ]
  },
  {
   "cell_type": "code",
   "execution_count": 111,
   "id": "62190a68",
   "metadata": {},
   "outputs": [
    {
     "name": "stdout",
     "output_type": "stream",
     "text": [
      "True\n",
      "<class 'bool'>\n"
     ]
    }
   ],
   "source": [
    "e=bool(a)\n",
    "print(e)\n",
    "print(type(e))"
   ]
  },
  {
   "cell_type": "markdown",
   "id": "927fe42d",
   "metadata": {},
   "source": [
    "in bool less than and equal to 0 are considered false"
   ]
  },
  {
   "cell_type": "code",
   "execution_count": 100,
   "id": "62b79333",
   "metadata": {},
   "outputs": [
    {
     "data": {
      "text/plain": [
       "2"
      ]
     },
     "execution_count": 100,
     "metadata": {},
     "output_type": "execute_result"
    }
   ],
   "source": [
    "# type casting\n",
    "# implicit type casting\n",
    "True + False + True"
   ]
  },
  {
   "cell_type": "markdown",
   "id": "2ebf4814",
   "metadata": {},
   "source": [
    "Operator:"
   ]
  },
  {
   "cell_type": "code",
   "execution_count": 114,
   "id": "68da1f81",
   "metadata": {},
   "outputs": [
    {
     "name": "stdout",
     "output_type": "stream",
     "text": [
      "30 -10 200 0.5 0 10 100000000000000000000\n"
     ]
    }
   ],
   "source": [
    "#Arithmetic\n",
    "x=10\n",
    "y=20\n",
    "print(x+y, x-y, x*y, x/y, x//y, x%y, x**y)\n",
    "\n",
    "# BODMAS\n",
    "# PEMDAS"
   ]
  },
  {
   "cell_type": "code",
   "execution_count": 142,
   "id": "88bef1ae",
   "metadata": {},
   "outputs": [
    {
     "name": "stdout",
     "output_type": "stream",
     "text": [
      "AkshenDhami\n"
     ]
    }
   ],
   "source": [
    "s='Akshen'\n",
    "s2='Dhami'\n",
    "print(s+s2, sep=',')"
   ]
  },
  {
   "cell_type": "code",
   "execution_count": 143,
   "id": "a9d3c0e4",
   "metadata": {},
   "outputs": [
    {
     "ename": "TypeError",
     "evalue": "can only concatenate str (not \"int\") to str",
     "output_type": "error",
     "traceback": [
      "\u001b[1;31m---------------------------------------------------------------------------\u001b[0m",
      "\u001b[1;31mTypeError\u001b[0m                                 Traceback (most recent call last)",
      "Cell \u001b[1;32mIn[143], line 3\u001b[0m\n\u001b[0;32m      1\u001b[0m s\u001b[38;5;241m=\u001b[39m\u001b[38;5;124m'\u001b[39m\u001b[38;5;124mAkshen\u001b[39m\u001b[38;5;124m'\u001b[39m\n\u001b[0;32m      2\u001b[0m s2\u001b[38;5;241m=\u001b[39m\u001b[38;5;241m10\u001b[39m\n\u001b[1;32m----> 3\u001b[0m \u001b[38;5;28mprint\u001b[39m(s\u001b[38;5;241m+\u001b[39ms2, sep\u001b[38;5;241m=\u001b[39m\u001b[38;5;124m'\u001b[39m\u001b[38;5;124m,\u001b[39m\u001b[38;5;124m'\u001b[39m)\n",
      "\u001b[1;31mTypeError\u001b[0m: can only concatenate str (not \"int\") to str"
     ]
    }
   ],
   "source": [
    "s='Akshen'\n",
    "s2=10\n",
    "print(s+s2, sep=',')"
   ]
  },
  {
   "cell_type": "code",
   "execution_count": 144,
   "id": "954cafe3",
   "metadata": {},
   "outputs": [
    {
     "data": {
      "text/plain": [
       "'AkshenAkshenAkshen'"
      ]
     },
     "execution_count": 144,
     "metadata": {},
     "output_type": "execute_result"
    }
   ],
   "source": [
    "s*3"
   ]
  },
  {
   "cell_type": "code",
   "execution_count": 115,
   "id": "227b89ca",
   "metadata": {
    "scrolled": true
   },
   "outputs": [
    {
     "name": "stdout",
     "output_type": "stream",
     "text": [
      "False True False True False True\n"
     ]
    }
   ],
   "source": [
    "#Relational\n",
    "x=10\n",
    "y=20\n",
    "print(x>y, x<y, x==y, x!=y, x>=y, x<=y)"
   ]
  },
  {
   "cell_type": "code",
   "execution_count": 161,
   "id": "b9f8ee38",
   "metadata": {},
   "outputs": [
    {
     "data": {
      "text/plain": [
       "False"
      ]
     },
     "execution_count": 161,
     "metadata": {},
     "output_type": "execute_result"
    }
   ],
   "source": [
    "s = \"pyThon\"\n",
    "s2 = \"python\"\n",
    "s>s2"
   ]
  },
  {
   "cell_type": "code",
   "execution_count": 123,
   "id": "ce797fb5",
   "metadata": {},
   "outputs": [
    {
     "name": "stdout",
     "output_type": "stream",
     "text": [
      "0 20 0 20 True False\n"
     ]
    }
   ],
   "source": [
    "#Logical\n",
    "x=0\n",
    "y=20\n",
    "print(x and y, x or y, x, y, not x, not y)"
   ]
  },
  {
   "cell_type": "code",
   "execution_count": 166,
   "id": "6b949068",
   "metadata": {},
   "outputs": [
    {
     "name": "stdout",
     "output_type": "stream",
     "text": [
      "Enter your age - 23\n",
      "Enter your country - India\n"
     ]
    },
    {
     "data": {
      "text/plain": [
       "False"
      ]
     },
     "execution_count": 166,
     "metadata": {},
     "output_type": "execute_result"
    }
   ],
   "source": [
    "age = float( input(\"Enter your age - \")  )\n",
    "c = input(\"Enter your country - \")\n",
    "(age >= 18)  and  (c==\"india\")"
   ]
  },
  {
   "cell_type": "code",
   "execution_count": 167,
   "id": "e70e9ff8",
   "metadata": {},
   "outputs": [
    {
     "name": "stdout",
     "output_type": "stream",
     "text": [
      "Enter your age - 2\n",
      "Enter your country - india\n"
     ]
    },
    {
     "data": {
      "text/plain": [
       "True"
      ]
     },
     "execution_count": 167,
     "metadata": {},
     "output_type": "execute_result"
    }
   ],
   "source": [
    "age = float( input(\"Enter your age - \")  )\n",
    "c = input(\"Enter your country - \")\n",
    "(age >= 18)  or  (c==\"india\")"
   ]
  },
  {
   "cell_type": "code",
   "execution_count": 168,
   "id": "1fce8678",
   "metadata": {},
   "outputs": [
    {
     "name": "stdout",
     "output_type": "stream",
     "text": [
      "Enter your age - 17\n",
      "Enter your country - India\n"
     ]
    },
    {
     "data": {
      "text/plain": [
       "True"
      ]
     },
     "execution_count": 168,
     "metadata": {},
     "output_type": "execute_result"
    }
   ],
   "source": [
    "age = float( input(\"Enter your age - \")  )\n",
    "c = input(\"Enter your country - \")\n",
    "not ((age >= 18)  or  (c==\"india\"))"
   ]
  },
  {
   "cell_type": "code",
   "execution_count": 165,
   "id": "54cd9995",
   "metadata": {},
   "outputs": [
    {
     "data": {
      "text/plain": [
       "'0b1010'"
      ]
     },
     "execution_count": 165,
     "metadata": {},
     "output_type": "execute_result"
    }
   ],
   "source": [
    "#Bitwise:\n",
    "bin(10)"
   ]
  },
  {
   "cell_type": "code",
   "execution_count": 122,
   "id": "123ef060",
   "metadata": {},
   "outputs": [
    {
     "name": "stdout",
     "output_type": "stream",
     "text": [
      "0 30 -11 -21 30 0 0 10485760 20480\n"
     ]
    }
   ],
   "source": [
    "x=10\n",
    "y=20\n",
    "print(x & y, x | y, ~ x, ~ y, x^y, x>>y, y>>x, x<<y, y<<x)"
   ]
  },
  {
   "cell_type": "code",
   "execution_count": 148,
   "id": "2db45abf",
   "metadata": {},
   "outputs": [
    {
     "name": "stdout",
     "output_type": "stream",
     "text": [
      "10\n"
     ]
    }
   ],
   "source": [
    "#Assignment operator:\n",
    "#(=,+=,-=,*=,/=,//=,%=,**=)\n",
    "x=10\n",
    "print(x)"
   ]
  },
  {
   "cell_type": "code",
   "execution_count": 151,
   "id": "e8768db6",
   "metadata": {},
   "outputs": [
    {
     "data": {
      "text/plain": [
       "20"
      ]
     },
     "execution_count": 151,
     "metadata": {},
     "output_type": "execute_result"
    }
   ],
   "source": [
    "x+=10\n",
    "x"
   ]
  },
  {
   "cell_type": "code",
   "execution_count": 152,
   "id": "63cba941",
   "metadata": {},
   "outputs": [
    {
     "data": {
      "text/plain": [
       "10"
      ]
     },
     "execution_count": 152,
     "metadata": {},
     "output_type": "execute_result"
    }
   ],
   "source": [
    "x-=10\n",
    "x"
   ]
  },
  {
   "cell_type": "code",
   "execution_count": 153,
   "id": "14d73af7",
   "metadata": {},
   "outputs": [
    {
     "data": {
      "text/plain": [
       "100"
      ]
     },
     "execution_count": 153,
     "metadata": {},
     "output_type": "execute_result"
    }
   ],
   "source": [
    "x*=10\n",
    "x"
   ]
  },
  {
   "cell_type": "code",
   "execution_count": 154,
   "id": "200b7a17",
   "metadata": {},
   "outputs": [
    {
     "data": {
      "text/plain": [
       "10.0"
      ]
     },
     "execution_count": 154,
     "metadata": {},
     "output_type": "execute_result"
    }
   ],
   "source": [
    "x/=10\n",
    "x"
   ]
  },
  {
   "cell_type": "code",
   "execution_count": 155,
   "id": "b815a0f3",
   "metadata": {},
   "outputs": [
    {
     "data": {
      "text/plain": [
       "1.0"
      ]
     },
     "execution_count": 155,
     "metadata": {},
     "output_type": "execute_result"
    }
   ],
   "source": [
    "x//=10\n",
    "x"
   ]
  },
  {
   "cell_type": "code",
   "execution_count": 156,
   "id": "e1dfb682",
   "metadata": {},
   "outputs": [
    {
     "data": {
      "text/plain": [
       "1.0"
      ]
     },
     "execution_count": 156,
     "metadata": {},
     "output_type": "execute_result"
    }
   ],
   "source": [
    "x%=10\n",
    "x"
   ]
  },
  {
   "cell_type": "code",
   "execution_count": 157,
   "id": "0e9d0151",
   "metadata": {},
   "outputs": [
    {
     "data": {
      "text/plain": [
       "1.0"
      ]
     },
     "execution_count": 157,
     "metadata": {},
     "output_type": "execute_result"
    }
   ],
   "source": [
    "x**=10\n",
    "x"
   ]
  },
  {
   "cell_type": "code",
   "execution_count": 159,
   "id": "88412464",
   "metadata": {},
   "outputs": [
    {
     "data": {
      "text/plain": [
       "'AkshenAkshenAkshenAkshen'"
      ]
     },
     "execution_count": 159,
     "metadata": {},
     "output_type": "execute_result"
    }
   ],
   "source": [
    "s*=2\n",
    "s"
   ]
  },
  {
   "cell_type": "markdown",
   "id": "d440c44e",
   "metadata": {},
   "source": [
    "Ascii:"
   ]
  },
  {
   "cell_type": "code",
   "execution_count": 162,
   "id": "8f1d5a01",
   "metadata": {},
   "outputs": [
    {
     "data": {
      "text/plain": [
       "89"
      ]
     },
     "execution_count": 162,
     "metadata": {},
     "output_type": "execute_result"
    }
   ],
   "source": [
    "ord('Y')"
   ]
  },
  {
   "cell_type": "code",
   "execution_count": 163,
   "id": "60f0c627",
   "metadata": {},
   "outputs": [
    {
     "data": {
      "text/plain": [
       "121"
      ]
     },
     "execution_count": 163,
     "metadata": {},
     "output_type": "execute_result"
    }
   ],
   "source": [
    "ord('y')"
   ]
  },
  {
   "cell_type": "code",
   "execution_count": 164,
   "id": "c1c11a6e",
   "metadata": {},
   "outputs": [
    {
     "data": {
      "text/plain": [
       "'Y'"
      ]
     },
     "execution_count": 164,
     "metadata": {},
     "output_type": "execute_result"
    }
   ],
   "source": [
    "chr(89)"
   ]
  },
  {
   "cell_type": "code",
   "execution_count": 169,
   "id": "8a5cc074",
   "metadata": {},
   "outputs": [
    {
     "data": {
      "text/plain": [
       "'pyThon'"
      ]
     },
     "execution_count": 169,
     "metadata": {},
     "output_type": "execute_result"
    }
   ],
   "source": [
    "# membership operator - in, not in\n",
    "# collection types - str, list, tuple, set, dict\n",
    "s"
   ]
  },
  {
   "cell_type": "code",
   "execution_count": 170,
   "id": "274816a2",
   "metadata": {},
   "outputs": [
    {
     "data": {
      "text/plain": [
       "True"
      ]
     },
     "execution_count": 170,
     "metadata": {},
     "output_type": "execute_result"
    }
   ],
   "source": [
    "\"p\" in s  #True/False"
   ]
  },
  {
   "cell_type": "code",
   "execution_count": 171,
   "id": "eab3e771",
   "metadata": {},
   "outputs": [
    {
     "data": {
      "text/plain": [
       "True"
      ]
     },
     "execution_count": 171,
     "metadata": {},
     "output_type": "execute_result"
    }
   ],
   "source": [
    "\"py\" in s"
   ]
  },
  {
   "cell_type": "code",
   "execution_count": 172,
   "id": "1c35bf7e",
   "metadata": {},
   "outputs": [
    {
     "data": {
      "text/plain": [
       "False"
      ]
     },
     "execution_count": 172,
     "metadata": {},
     "output_type": "execute_result"
    }
   ],
   "source": [
    "\"pY\" in s"
   ]
  },
  {
   "cell_type": "code",
   "execution_count": 173,
   "id": "9fe89812",
   "metadata": {},
   "outputs": [
    {
     "data": {
      "text/plain": [
       "False"
      ]
     },
     "execution_count": 173,
     "metadata": {},
     "output_type": "execute_result"
    }
   ],
   "source": [
    "\"po\" in s"
   ]
  },
  {
   "cell_type": "code",
   "execution_count": 174,
   "id": "4d3e99f5",
   "metadata": {},
   "outputs": [
    {
     "data": {
      "text/plain": [
       "True"
      ]
     },
     "execution_count": 174,
     "metadata": {},
     "output_type": "execute_result"
    }
   ],
   "source": [
    "\"po\" not in s"
   ]
  },
  {
   "cell_type": "code",
   "execution_count": null,
   "id": "c904d696",
   "metadata": {},
   "outputs": [],
   "source": []
  }
 ],
 "metadata": {
  "kernelspec": {
   "display_name": "Python 3 (ipykernel)",
   "language": "python",
   "name": "python3"
  },
  "language_info": {
   "codemirror_mode": {
    "name": "ipython",
    "version": 3
   },
   "file_extension": ".py",
   "mimetype": "text/x-python",
   "name": "python",
   "nbconvert_exporter": "python",
   "pygments_lexer": "ipython3",
   "version": "3.11.4"
  }
 },
 "nbformat": 4,
 "nbformat_minor": 5
}
