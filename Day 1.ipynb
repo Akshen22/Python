{
 "cells": [
  {
   "cell_type": "code",
   "execution_count": 15,
   "id": "8ca14666",
   "metadata": {},
   "outputs": [
    {
     "name": "stdout",
     "output_type": "stream",
     "text": [
      "Hello world\n"
     ]
    }
   ],
   "source": [
    "print(\"Hello world\")"
   ]
  },
  {
   "cell_type": "code",
   "execution_count": 16,
   "id": "73a8da9d",
   "metadata": {},
   "outputs": [
    {
     "name": "stdout",
     "output_type": "stream",
     "text": [
      "\n",
      "\n"
     ]
    }
   ],
   "source": [
    "print()\n",
    "print()"
   ]
  },
  {
   "cell_type": "code",
   "execution_count": 17,
   "id": "d02f69bb",
   "metadata": {},
   "outputs": [
    {
     "name": "stdout",
     "output_type": "stream",
     "text": [
      "Hello \n",
      "world\n"
     ]
    }
   ],
   "source": [
    "print(\"Hello \\nworld\")"
   ]
  },
  {
   "cell_type": "code",
   "execution_count": 18,
   "id": "0743e028",
   "metadata": {},
   "outputs": [
    {
     "name": "stdout",
     "output_type": "stream",
     "text": [
      "Hello world,We are learning python\n"
     ]
    }
   ],
   "source": [
    "print(\"Hello world\",  end = \",\")\n",
    "print(\"We are learning python\")"
   ]
  },
  {
   "cell_type": "code",
   "execution_count": 19,
   "id": "11ef5df8",
   "metadata": {},
   "outputs": [
    {
     "name": "stdout",
     "output_type": "stream",
     "text": [
      "Hello world We are learning python Batch is Aug23\n"
     ]
    }
   ],
   "source": [
    "print(\"Hello world\", \"We are learning python\", \"Batch is Aug23\")"
   ]
  },
  {
   "cell_type": "code",
   "execution_count": 2,
   "id": "dbdeedfc",
   "metadata": {},
   "outputs": [
    {
     "name": "stdout",
     "output_type": "stream",
     "text": [
      "Hello world,We are learning python,Batch is Aug23\n"
     ]
    }
   ],
   "source": [
    "print(\"Hello world\", \"We are learning python\", \"Batch is Aug23\", sep = \",\")"
   ]
  },
  {
   "cell_type": "code",
   "execution_count": 7,
   "id": "357e0d3e",
   "metadata": {},
   "outputs": [
    {
     "name": "stdout",
     "output_type": "stream",
     "text": [
      "Hello world\n",
      "We are learning python\n",
      "Batch is Aug23\n"
     ]
    }
   ],
   "source": [
    "print(\"Hello world\", \"We are learning python\", \"Batch is Aug23\", sep = \"\\n\")"
   ]
  },
  {
   "cell_type": "code",
   "execution_count": 8,
   "id": "f37f73d8",
   "metadata": {},
   "outputs": [
    {
     "name": "stdout",
     "output_type": "stream",
     "text": [
      "Hello world\tWe are learning python\tBatch is Aug23\n"
     ]
    }
   ],
   "source": [
    "print(\"Hello world\", \"We are learning python\", \"Batch is Aug23\", sep = \"\\t\")"
   ]
  },
  {
   "cell_type": "code",
   "execution_count": 9,
   "id": "a3d34cd7",
   "metadata": {},
   "outputs": [
    {
     "name": "stdout",
     "output_type": "stream",
     "text": [
      "python\n",
      "sql\n"
     ]
    }
   ],
   "source": [
    "# input\n",
    "m1 = \"python\"\n",
    "m2 = \"sql\"\n",
    "print(m1)\n",
    "print(m2)"
   ]
  },
  {
   "cell_type": "code",
   "execution_count": 10,
   "id": "14c151a7",
   "metadata": {},
   "outputs": [
    {
     "name": "stdout",
     "output_type": "stream",
     "text": [
      "Enter your name - Akshen\n"
     ]
    },
    {
     "data": {
      "text/plain": [
       "'Akshen'"
      ]
     },
     "execution_count": 10,
     "metadata": {},
     "output_type": "execute_result"
    }
   ],
   "source": [
    "# taking input\n",
    "input(\"Enter your name - \")"
   ]
  },
  {
   "cell_type": "code",
   "execution_count": 11,
   "id": "234972ee",
   "metadata": {},
   "outputs": [
    {
     "name": "stdout",
     "output_type": "stream",
     "text": [
      "Enter your name - Dhami\n",
      "Dhami\n"
     ]
    }
   ],
   "source": [
    "# variables are named memory location\n",
    "\n",
    "name = input(\"Enter your name - \")\n",
    "print(name)"
   ]
  },
  {
   "cell_type": "code",
   "execution_count": 12,
   "id": "8791bf56",
   "metadata": {},
   "outputs": [
    {
     "data": {
      "text/plain": [
       "2554810792112"
      ]
     },
     "execution_count": 12,
     "metadata": {},
     "output_type": "execute_result"
    }
   ],
   "source": [
    "id(name)"
   ]
  },
  {
   "cell_type": "code",
   "execution_count": 13,
   "id": "2893cea7",
   "metadata": {},
   "outputs": [
    {
     "data": {
      "text/plain": [
       "'Dhami'"
      ]
     },
     "execution_count": 13,
     "metadata": {},
     "output_type": "execute_result"
    }
   ],
   "source": [
    "name"
   ]
  },
  {
   "cell_type": "code",
   "execution_count": 14,
   "id": "d0b7b615",
   "metadata": {},
   "outputs": [
    {
     "ename": "SyntaxError",
     "evalue": "invalid decimal literal (1943876939.py, line 2)",
     "output_type": "error",
     "traceback": [
      "\u001b[1;36m  Cell \u001b[1;32mIn[14], line 2\u001b[1;36m\u001b[0m\n\u001b[1;33m    9A = 20\u001b[0m\n\u001b[1;37m    ^\u001b[0m\n\u001b[1;31mSyntaxError\u001b[0m\u001b[1;31m:\u001b[0m invalid decimal literal\n"
     ]
    }
   ],
   "source": [
    "#a variable name cannot start with number\n",
    "9A = 20"
   ]
  },
  {
   "cell_type": "code",
   "execution_count": null,
   "id": "c7ab7989",
   "metadata": {},
   "outputs": [],
   "source": [
    "A9 = 20"
   ]
  },
  {
   "cell_type": "code",
   "execution_count": null,
   "id": "f87a3594",
   "metadata": {},
   "outputs": [],
   "source": [
    "#a variable name cannot start with number\n",
    "# A variable name should not have any special char other than underscore\n",
    "A@ = 20"
   ]
  },
  {
   "cell_type": "code",
   "execution_count": null,
   "id": "04be0fb6",
   "metadata": {},
   "outputs": [],
   "source": [
    "A_B = 100"
   ]
  },
  {
   "cell_type": "code",
   "execution_count": null,
   "id": "ce266462",
   "metadata": {},
   "outputs": [],
   "source": [
    "#a variable name cannot start with number\n",
    "# A variable name should not have any special char other than underscore\n",
    "# python is case senstive - variable names are case sensitive\n",
    "y = 200"
   ]
  },
  {
   "cell_type": "code",
   "execution_count": null,
   "id": "eb9d5f76",
   "metadata": {},
   "outputs": [],
   "source": [
    "Y = 300\n",
    "print(Y)"
   ]
  },
  {
   "cell_type": "code",
   "execution_count": null,
   "id": "478f2628",
   "metadata": {},
   "outputs": [],
   "source": [
    "#a variable name cannot start with number\n",
    "# A variable name should not have any special char other than underscore\n",
    "# python is case senstive - variable names are case sensitive\n",
    "# we cannot have space b/w the variable name\n",
    "first num = 230"
   ]
  },
  {
   "cell_type": "code",
   "execution_count": null,
   "id": "56156bb7",
   "metadata": {},
   "outputs": [],
   "source": [
    "first_num = 230\n",
    "print(first_num)"
   ]
  },
  {
   "cell_type": "code",
   "execution_count": null,
   "id": "cd2ec231",
   "metadata": {},
   "outputs": [],
   "source": [
    "#a variable name cannot start with number\n",
    "# A variable name should not have any special char other than underscore\n",
    "# python is case senstive - variable names are case sensitive\n",
    "# we cannot have space b/w the variable name\n",
    "# A python keyword or function should not be used as variable name\n",
    "# print = \"hello\""
   ]
  },
  {
   "cell_type": "code",
   "execution_count": null,
   "id": "898740fb",
   "metadata": {},
   "outputs": [],
   "source": [
    "print(\"Hello world\")"
   ]
  },
  {
   "cell_type": "code",
   "execution_count": null,
   "id": "d5f07ecf",
   "metadata": {},
   "outputs": [],
   "source": [
    "name = input(\"Enter your name - \") \n",
    "age = input(\"Enter your age - \") \n",
    "\n",
    "print(\"Name is\", name, \"Age is\", age)"
   ]
  },
  {
   "cell_type": "code",
   "execution_count": null,
   "id": "55515b16",
   "metadata": {},
   "outputs": [],
   "source": [
    "name = input(\"Enter your name - \") \n",
    "age = input(\"Enter your age - \") \n",
    "\n",
    "print(\"Name is {} and age is {}\".format(name,age))"
   ]
  },
  {
   "cell_type": "code",
   "execution_count": null,
   "id": "1a471936",
   "metadata": {},
   "outputs": [],
   "source": [
    "name = input(\"Enter your name - \") \n",
    "age = input(\"Enter your age - \") \n",
    "\n",
    "print(f\"Name is {name} and age is {age}\")"
   ]
  },
  {
   "cell_type": "code",
   "execution_count": null,
   "id": "15fdd27a",
   "metadata": {},
   "outputs": [],
   "source": [
    "def Total(itp, sql):   # user defined functions\n",
    "    total = itp + sql\n",
    "    return total"
   ]
  },
  {
   "cell_type": "code",
   "execution_count": null,
   "id": "f41e7768",
   "metadata": {},
   "outputs": [],
   "source": [
    "Total(45,30)"
   ]
  },
  {
   "cell_type": "code",
   "execution_count": null,
   "id": "a48ed8b3",
   "metadata": {},
   "outputs": [],
   "source": [
    "Total(33,35)"
   ]
  },
  {
   "cell_type": "code",
   "execution_count": null,
   "id": "d1863db7",
   "metadata": {},
   "outputs": [],
   "source": [
    "def Avg(itp, sql):   # user defined functions\n",
    "    total = itp + sql\n",
    "    return total/2"
   ]
  },
  {
   "cell_type": "code",
   "execution_count": null,
   "id": "a528287e",
   "metadata": {},
   "outputs": [],
   "source": [
    "Avg(34,45)"
   ]
  },
  {
   "cell_type": "code",
   "execution_count": 3,
   "id": "af803822",
   "metadata": {},
   "outputs": [
    {
     "name": "stdout",
     "output_type": "stream",
     "text": [
      "-20\n"
     ]
    }
   ],
   "source": [
    "# data types\n",
    "\n",
    "a = -20\n",
    "print(a)"
   ]
  },
  {
   "cell_type": "code",
   "execution_count": 4,
   "id": "8bb8e4cb",
   "metadata": {},
   "outputs": [
    {
     "data": {
      "text/plain": [
       "int"
      ]
     },
     "execution_count": 4,
     "metadata": {},
     "output_type": "execute_result"
    }
   ],
   "source": [
    "type(a)"
   ]
  },
  {
   "cell_type": "code",
   "execution_count": 5,
   "id": "3c311ab1",
   "metadata": {},
   "outputs": [
    {
     "name": "stdout",
     "output_type": "stream",
     "text": [
      "10.0\n",
      "<class 'float'>\n"
     ]
    }
   ],
   "source": [
    "b = 10.\n",
    "print(b)\n",
    "print(type(b))"
   ]
  },
  {
   "cell_type": "code",
   "execution_count": 6,
   "id": "22b8a1f5",
   "metadata": {},
   "outputs": [
    {
     "name": "stdout",
     "output_type": "stream",
     "text": [
      "5j\n",
      "<class 'complex'>\n"
     ]
    }
   ],
   "source": [
    "c =  5J\n",
    "print(c)\n",
    "print(type(c))"
   ]
  },
  {
   "cell_type": "code",
   "execution_count": 7,
   "id": "fb7e16e8",
   "metadata": {},
   "outputs": [
    {
     "data": {
      "text/plain": [
       "0.0"
      ]
     },
     "execution_count": 7,
     "metadata": {},
     "output_type": "execute_result"
    }
   ],
   "source": [
    "c.real"
   ]
  },
  {
   "cell_type": "code",
   "execution_count": 8,
   "id": "5b92be2b",
   "metadata": {},
   "outputs": [
    {
     "data": {
      "text/plain": [
       "5.0"
      ]
     },
     "execution_count": 8,
     "metadata": {},
     "output_type": "execute_result"
    }
   ],
   "source": [
    "c.imag"
   ]
  },
  {
   "cell_type": "code",
   "execution_count": 9,
   "id": "6e3e1202",
   "metadata": {},
   "outputs": [
    {
     "name": "stdout",
     "output_type": "stream",
     "text": [
      "python\n",
      "<class 'str'>\n"
     ]
    }
   ],
   "source": [
    "s = '''python'''\n",
    "print(s)\n",
    "print(type(s))"
   ]
  },
  {
   "cell_type": "code",
   "execution_count": 10,
   "id": "dfacc933",
   "metadata": {},
   "outputs": [
    {
     "name": "stdout",
     "output_type": "stream",
     "text": [
      "120\n",
      "<class 'str'>\n"
     ]
    }
   ],
   "source": [
    "s = '''120'''\n",
    "print(s)\n",
    "print(type(s))"
   ]
  },
  {
   "cell_type": "code",
   "execution_count": 11,
   "id": "c5967923",
   "metadata": {},
   "outputs": [
    {
     "data": {
      "text/plain": [
       "\"Student's marks are low\""
      ]
     },
     "execution_count": 11,
     "metadata": {},
     "output_type": "execute_result"
    }
   ],
   "source": [
    "s = \"Student's marks are low\"\n",
    "s"
   ]
  },
  {
   "cell_type": "code",
   "execution_count": 12,
   "id": "33e4b9d3",
   "metadata": {},
   "outputs": [
    {
     "name": "stdout",
     "output_type": "stream",
     "text": [
      "Student's marks are \"low\"\n"
     ]
    }
   ],
   "source": [
    "s = '''Student's marks are \"low\"'''\n",
    "print(s)"
   ]
  },
  {
   "cell_type": "code",
   "execution_count": 13,
   "id": "39e3d334",
   "metadata": {},
   "outputs": [
    {
     "name": "stdout",
     "output_type": "stream",
     "text": [
      "Python day 1 is about basics.\n",
      "Python day 2 is about collection types\n"
     ]
    }
   ],
   "source": [
    "s = '''Python day 1 is about basics.\n",
    "Python day 2 is about collection types'''\n",
    "print(s)"
   ]
  },
  {
   "cell_type": "code",
   "execution_count": 14,
   "id": "e30a5d2c",
   "metadata": {},
   "outputs": [
    {
     "name": "stdout",
     "output_type": "stream",
     "text": [
      "False\n",
      "<class 'bool'>\n"
     ]
    }
   ],
   "source": [
    "Course_s = False\n",
    "print(Course_s)\n",
    "print(type(Course_s))"
   ]
  },
  {
   "cell_type": "code",
   "execution_count": 15,
   "id": "58cc061c",
   "metadata": {},
   "outputs": [
    {
     "data": {
      "text/plain": [
       "2"
      ]
     },
     "execution_count": 15,
     "metadata": {},
     "output_type": "execute_result"
    }
   ],
   "source": [
    "# type casting\n",
    "# implicit type casting\n",
    "True + False + True"
   ]
  },
  {
   "cell_type": "code",
   "execution_count": 16,
   "id": "d314ca81",
   "metadata": {},
   "outputs": [
    {
     "data": {
      "text/plain": [
       "int"
      ]
     },
     "execution_count": 16,
     "metadata": {},
     "output_type": "execute_result"
    }
   ],
   "source": [
    "A = 20\n",
    "type(a)"
   ]
  },
  {
   "cell_type": "code",
   "execution_count": 17,
   "id": "1bed8705",
   "metadata": {},
   "outputs": [
    {
     "name": "stdout",
     "output_type": "stream",
     "text": [
      "20.0\n"
     ]
    }
   ],
   "source": [
    "B = float(A)\n",
    "print(B)"
   ]
  },
  {
   "cell_type": "code",
   "execution_count": 18,
   "id": "f1e898ce",
   "metadata": {},
   "outputs": [
    {
     "name": "stdout",
     "output_type": "stream",
     "text": [
      "20\n"
     ]
    }
   ],
   "source": [
    "print(A)"
   ]
  },
  {
   "cell_type": "code",
   "execution_count": 19,
   "id": "3a9d9dd2",
   "metadata": {},
   "outputs": [
    {
     "data": {
      "text/plain": [
       "'20'"
      ]
     },
     "execution_count": 19,
     "metadata": {},
     "output_type": "execute_result"
    }
   ],
   "source": [
    "str(A)"
   ]
  },
  {
   "cell_type": "code",
   "execution_count": 20,
   "id": "fe2e041c",
   "metadata": {},
   "outputs": [
    {
     "data": {
      "text/plain": [
       "(20+0j)"
      ]
     },
     "execution_count": 20,
     "metadata": {},
     "output_type": "execute_result"
    }
   ],
   "source": [
    "complex(A)"
   ]
  },
  {
   "cell_type": "code",
   "execution_count": 21,
   "id": "dbcdab3f",
   "metadata": {},
   "outputs": [
    {
     "data": {
      "text/plain": [
       "True"
      ]
     },
     "execution_count": 21,
     "metadata": {},
     "output_type": "execute_result"
    }
   ],
   "source": [
    "bool(A)"
   ]
  },
  {
   "cell_type": "code",
   "execution_count": 22,
   "id": "7d41dd0e",
   "metadata": {},
   "outputs": [
    {
     "data": {
      "text/plain": [
       "False"
      ]
     },
     "execution_count": 22,
     "metadata": {},
     "output_type": "execute_result"
    }
   ],
   "source": [
    "C = 0\n",
    "bool(C)"
   ]
  },
  {
   "cell_type": "code",
   "execution_count": 23,
   "id": "b1258c8b",
   "metadata": {},
   "outputs": [],
   "source": [
    "# float\n",
    "F = 10.22  # int, str, complex, bool"
   ]
  },
  {
   "cell_type": "code",
   "execution_count": 24,
   "id": "484e9317",
   "metadata": {},
   "outputs": [
    {
     "ename": "TypeError",
     "evalue": "float() argument must be a string or a real number, not 'complex'",
     "output_type": "error",
     "traceback": [
      "\u001b[1;31m---------------------------------------------------------------------------\u001b[0m",
      "\u001b[1;31mTypeError\u001b[0m                                 Traceback (most recent call last)",
      "Cell \u001b[1;32mIn[24], line 2\u001b[0m\n\u001b[0;32m      1\u001b[0m c \u001b[38;5;241m=\u001b[39m \u001b[38;5;241m10\u001b[39m \u001b[38;5;241m+\u001b[39m \u001b[38;5;241m5\u001b[39mj\n\u001b[1;32m----> 2\u001b[0m \u001b[38;5;28mfloat\u001b[39m(c)\n",
      "\u001b[1;31mTypeError\u001b[0m: float() argument must be a string or a real number, not 'complex'"
     ]
    }
   ],
   "source": [
    "c = 10 + 5j\n",
    "float(c)"
   ]
  },
  {
   "cell_type": "code",
   "execution_count": 25,
   "id": "88510839",
   "metadata": {},
   "outputs": [
    {
     "data": {
      "text/plain": [
       "'(10+5j)'"
      ]
     },
     "execution_count": 25,
     "metadata": {},
     "output_type": "execute_result"
    }
   ],
   "source": [
    "c1 = str(c)\n",
    "c1"
   ]
  },
  {
   "cell_type": "code",
   "execution_count": 26,
   "id": "6aa4afe9",
   "metadata": {},
   "outputs": [],
   "source": [
    "# c1[0]"
   ]
  },
  {
   "cell_type": "code",
   "execution_count": 27,
   "id": "87c443aa",
   "metadata": {},
   "outputs": [
    {
     "data": {
      "text/plain": [
       "True"
      ]
     },
     "execution_count": 27,
     "metadata": {},
     "output_type": "execute_result"
    }
   ],
   "source": [
    "bool(c)"
   ]
  },
  {
   "cell_type": "code",
   "execution_count": 28,
   "id": "2abfcbd6",
   "metadata": {},
   "outputs": [
    {
     "data": {
      "text/plain": [
       "True"
      ]
     },
     "execution_count": 28,
     "metadata": {},
     "output_type": "execute_result"
    }
   ],
   "source": [
    "bool(0+1j)"
   ]
  },
  {
   "cell_type": "code",
   "execution_count": 29,
   "id": "9a1fbbca",
   "metadata": {},
   "outputs": [
    {
     "ename": "ValueError",
     "evalue": "invalid literal for int() with base 10: 'python'",
     "output_type": "error",
     "traceback": [
      "\u001b[1;31m---------------------------------------------------------------------------\u001b[0m",
      "\u001b[1;31mValueError\u001b[0m                                Traceback (most recent call last)",
      "Cell \u001b[1;32mIn[29], line 3\u001b[0m\n\u001b[0;32m      1\u001b[0m \u001b[38;5;66;03m# str\u001b[39;00m\n\u001b[0;32m      2\u001b[0m s \u001b[38;5;241m=\u001b[39m \u001b[38;5;124m\"\u001b[39m\u001b[38;5;124mpython\u001b[39m\u001b[38;5;124m\"\u001b[39m  \u001b[38;5;66;03m#int, float, bool, complex\u001b[39;00m\n\u001b[1;32m----> 3\u001b[0m \u001b[38;5;28mint\u001b[39m(s)\n",
      "\u001b[1;31mValueError\u001b[0m: invalid literal for int() with base 10: 'python'"
     ]
    }
   ],
   "source": [
    "# str\n",
    "s = \"python\"  #int, float, bool, complex\n",
    "int(s)"
   ]
  },
  {
   "cell_type": "code",
   "execution_count": 30,
   "id": "de94e758",
   "metadata": {},
   "outputs": [
    {
     "data": {
      "text/plain": [
       "120"
      ]
     },
     "execution_count": 30,
     "metadata": {},
     "output_type": "execute_result"
    }
   ],
   "source": [
    "# str\n",
    "s = \"120   \"  #int, float, bool, complex\n",
    "int(s)"
   ]
  },
  {
   "cell_type": "code",
   "execution_count": 31,
   "id": "a1e7abc4",
   "metadata": {},
   "outputs": [
    {
     "data": {
      "text/plain": [
       "120.0"
      ]
     },
     "execution_count": 31,
     "metadata": {},
     "output_type": "execute_result"
    }
   ],
   "source": [
    "float(s)"
   ]
  },
  {
   "cell_type": "code",
   "execution_count": 32,
   "id": "fbfa54e3",
   "metadata": {},
   "outputs": [
    {
     "data": {
      "text/plain": [
       "(120+0j)"
      ]
     },
     "execution_count": 32,
     "metadata": {},
     "output_type": "execute_result"
    }
   ],
   "source": [
    "complex(s)"
   ]
  },
  {
   "cell_type": "code",
   "execution_count": 33,
   "id": "dd17b90f",
   "metadata": {},
   "outputs": [
    {
     "data": {
      "text/plain": [
       "120j"
      ]
     },
     "execution_count": 33,
     "metadata": {},
     "output_type": "execute_result"
    }
   ],
   "source": [
    "# str\n",
    "s = \"120J\"  #int, float, bool, complex\n",
    "complex(s)"
   ]
  },
  {
   "cell_type": "code",
   "execution_count": 34,
   "id": "b697c563",
   "metadata": {},
   "outputs": [
    {
     "data": {
      "text/plain": [
       "True"
      ]
     },
     "execution_count": 34,
     "metadata": {},
     "output_type": "execute_result"
    }
   ],
   "source": [
    "bool(s)"
   ]
  },
  {
   "cell_type": "code",
   "execution_count": 35,
   "id": "8857a9fc",
   "metadata": {},
   "outputs": [
    {
     "data": {
      "text/plain": [
       "False"
      ]
     },
     "execution_count": 35,
     "metadata": {},
     "output_type": "execute_result"
    }
   ],
   "source": [
    "s = \"\"\n",
    "bool(s)"
   ]
  },
  {
   "cell_type": "code",
   "execution_count": 36,
   "id": "1dee5c14",
   "metadata": {},
   "outputs": [],
   "source": [
    "# bool \n",
    "A = True  # int, float, str, complex\n",
    "B = False"
   ]
  },
  {
   "cell_type": "code",
   "execution_count": null,
   "id": "6ba7937e",
   "metadata": {},
   "outputs": [],
   "source": []
  },
  {
   "cell_type": "code",
   "execution_count": 37,
   "id": "305ad033",
   "metadata": {},
   "outputs": [
    {
     "data": {
      "text/plain": [
       "30"
      ]
     },
     "execution_count": 37,
     "metadata": {},
     "output_type": "execute_result"
    }
   ],
   "source": [
    "# Arithmatic \n",
    "X = 10\n",
    "Y = 20\n",
    "X + Y"
   ]
  },
  {
   "cell_type": "code",
   "execution_count": 38,
   "id": "374124c6",
   "metadata": {},
   "outputs": [
    {
     "data": {
      "text/plain": [
       "-10"
      ]
     },
     "execution_count": 38,
     "metadata": {},
     "output_type": "execute_result"
    }
   ],
   "source": [
    "X - Y"
   ]
  },
  {
   "cell_type": "code",
   "execution_count": 39,
   "id": "5fa78d3d",
   "metadata": {},
   "outputs": [
    {
     "data": {
      "text/plain": [
       "200"
      ]
     },
     "execution_count": 39,
     "metadata": {},
     "output_type": "execute_result"
    }
   ],
   "source": [
    "X * Y"
   ]
  },
  {
   "cell_type": "code",
   "execution_count": 40,
   "id": "d5a76318",
   "metadata": {},
   "outputs": [
    {
     "data": {
      "text/plain": [
       "0.5"
      ]
     },
     "execution_count": 40,
     "metadata": {},
     "output_type": "execute_result"
    }
   ],
   "source": [
    "X/Y"
   ]
  },
  {
   "cell_type": "code",
   "execution_count": 41,
   "id": "2711840c",
   "metadata": {},
   "outputs": [
    {
     "data": {
      "text/plain": [
       "0"
      ]
     },
     "execution_count": 41,
     "metadata": {},
     "output_type": "execute_result"
    }
   ],
   "source": [
    "X//Y"
   ]
  },
  {
   "cell_type": "code",
   "execution_count": 42,
   "id": "86e99f75",
   "metadata": {},
   "outputs": [
    {
     "data": {
      "text/plain": [
       "2.0"
      ]
     },
     "execution_count": 42,
     "metadata": {},
     "output_type": "execute_result"
    }
   ],
   "source": [
    "10//4.0"
   ]
  },
  {
   "cell_type": "code",
   "execution_count": 43,
   "id": "a1cce13c",
   "metadata": {},
   "outputs": [
    {
     "data": {
      "text/plain": [
       "2"
      ]
     },
     "execution_count": 43,
     "metadata": {},
     "output_type": "execute_result"
    }
   ],
   "source": [
    "10%4"
   ]
  },
  {
   "cell_type": "code",
   "execution_count": 44,
   "id": "262875ec",
   "metadata": {},
   "outputs": [
    {
     "data": {
      "text/plain": [
       "1000"
      ]
     },
     "execution_count": 44,
     "metadata": {},
     "output_type": "execute_result"
    }
   ],
   "source": [
    "10**3"
   ]
  },
  {
   "cell_type": "code",
   "execution_count": 45,
   "id": "b0bba599",
   "metadata": {},
   "outputs": [
    {
     "data": {
      "text/plain": [
       "3.1622776601683795"
      ]
     },
     "execution_count": 45,
     "metadata": {},
     "output_type": "execute_result"
    }
   ],
   "source": [
    "10**(1/2)"
   ]
  },
  {
   "cell_type": "code",
   "execution_count": 46,
   "id": "ee84a34d",
   "metadata": {},
   "outputs": [
    {
     "data": {
      "text/plain": [
       "2.154434690031884"
      ]
     },
     "execution_count": 46,
     "metadata": {},
     "output_type": "execute_result"
    }
   ],
   "source": [
    "10**(1/3)"
   ]
  },
  {
   "cell_type": "code",
   "execution_count": 47,
   "id": "6defb06a",
   "metadata": {},
   "outputs": [
    {
     "data": {
      "text/plain": [
       "1"
      ]
     },
     "execution_count": 47,
     "metadata": {},
     "output_type": "execute_result"
    }
   ],
   "source": [
    "10**0"
   ]
  },
  {
   "cell_type": "code",
   "execution_count": 48,
   "id": "5f4e5932",
   "metadata": {},
   "outputs": [],
   "source": [
    "# BODMAS\n",
    "# PEMDAS"
   ]
  },
  {
   "cell_type": "code",
   "execution_count": 49,
   "id": "e2cf12f3",
   "metadata": {},
   "outputs": [
    {
     "data": {
      "text/plain": [
       "10.5"
      ]
     },
     "execution_count": 49,
     "metadata": {},
     "output_type": "execute_result"
    }
   ],
   "source": [
    "10+1/2"
   ]
  },
  {
   "cell_type": "code",
   "execution_count": 50,
   "id": "fe7eb8a3",
   "metadata": {},
   "outputs": [
    {
     "data": {
      "text/plain": [
       "'HelloPython'"
      ]
     },
     "execution_count": 50,
     "metadata": {},
     "output_type": "execute_result"
    }
   ],
   "source": [
    "# numeric - int, float\n",
    "# on str\n",
    "s = \"Hello\"\n",
    "s2 = \"Python\"\n",
    "s + s2"
   ]
  },
  {
   "cell_type": "code",
   "execution_count": 51,
   "id": "7a95dc89",
   "metadata": {},
   "outputs": [
    {
     "ename": "TypeError",
     "evalue": "unsupported operand type(s) for +: 'int' and 'str'",
     "output_type": "error",
     "traceback": [
      "\u001b[1;31m---------------------------------------------------------------------------\u001b[0m",
      "\u001b[1;31mTypeError\u001b[0m                                 Traceback (most recent call last)",
      "Cell \u001b[1;32mIn[51], line 1\u001b[0m\n\u001b[1;32m----> 1\u001b[0m \u001b[38;5;241m10\u001b[39m \u001b[38;5;241m+\u001b[39m s\n",
      "\u001b[1;31mTypeError\u001b[0m: unsupported operand type(s) for +: 'int' and 'str'"
     ]
    }
   ],
   "source": [
    "10 + s"
   ]
  },
  {
   "cell_type": "code",
   "execution_count": 52,
   "id": "6928a8b8",
   "metadata": {},
   "outputs": [
    {
     "data": {
      "text/plain": [
       "1"
      ]
     },
     "execution_count": 52,
     "metadata": {},
     "output_type": "execute_result"
    }
   ],
   "source": [
    "True + False"
   ]
  },
  {
   "cell_type": "code",
   "execution_count": 53,
   "id": "c9e4ff5d",
   "metadata": {},
   "outputs": [
    {
     "ename": "TypeError",
     "evalue": "unsupported operand type(s) for -: 'str' and 'str'",
     "output_type": "error",
     "traceback": [
      "\u001b[1;31m---------------------------------------------------------------------------\u001b[0m",
      "\u001b[1;31mTypeError\u001b[0m                                 Traceback (most recent call last)",
      "Cell \u001b[1;32mIn[53], line 1\u001b[0m\n\u001b[1;32m----> 1\u001b[0m s \u001b[38;5;241m-\u001b[39m s2\n",
      "\u001b[1;31mTypeError\u001b[0m: unsupported operand type(s) for -: 'str' and 'str'"
     ]
    }
   ],
   "source": [
    "s - s2"
   ]
  },
  {
   "cell_type": "code",
   "execution_count": 54,
   "id": "a9478ffc",
   "metadata": {},
   "outputs": [
    {
     "data": {
      "text/plain": [
       "'HelloHelloHello'"
      ]
     },
     "execution_count": 54,
     "metadata": {},
     "output_type": "execute_result"
    }
   ],
   "source": [
    "# + - concatenation\n",
    "# * - (self replication)\n",
    "s * 3"
   ]
  },
  {
   "cell_type": "code",
   "execution_count": 55,
   "id": "ccd5914a",
   "metadata": {},
   "outputs": [
    {
     "name": "stdout",
     "output_type": "stream",
     "text": [
      "20\n"
     ]
    }
   ],
   "source": [
    "# Assignment operators \n",
    "# (=, +=, -=, *=, /=,//=,%=,**=)\n",
    "A = 20\n",
    "print(A)"
   ]
  },
  {
   "cell_type": "code",
   "execution_count": 56,
   "id": "6cab145c",
   "metadata": {},
   "outputs": [
    {
     "data": {
      "text/plain": [
       "30"
      ]
     },
     "execution_count": 56,
     "metadata": {},
     "output_type": "execute_result"
    }
   ],
   "source": [
    "A += 10   # A = A + 10\n",
    "A"
   ]
  },
  {
   "cell_type": "code",
   "execution_count": 57,
   "id": "9d067cb7",
   "metadata": {},
   "outputs": [
    {
     "ename": "NameError",
     "evalue": "name 'Z' is not defined",
     "output_type": "error",
     "traceback": [
      "\u001b[1;31m---------------------------------------------------------------------------\u001b[0m",
      "\u001b[1;31mNameError\u001b[0m                                 Traceback (most recent call last)",
      "Cell \u001b[1;32mIn[57], line 1\u001b[0m\n\u001b[1;32m----> 1\u001b[0m Z \u001b[38;5;241m+\u001b[39m\u001b[38;5;241m=\u001b[39m \u001b[38;5;241m20\u001b[39m\n",
      "\u001b[1;31mNameError\u001b[0m: name 'Z' is not defined"
     ]
    }
   ],
   "source": [
    "Z += 20  # Z = Z + 20"
   ]
  },
  {
   "cell_type": "code",
   "execution_count": 58,
   "id": "471dcc1c",
   "metadata": {},
   "outputs": [
    {
     "data": {
      "text/plain": [
       "25"
      ]
     },
     "execution_count": 58,
     "metadata": {},
     "output_type": "execute_result"
    }
   ],
   "source": [
    "A -= 5\n",
    "A"
   ]
  },
  {
   "cell_type": "code",
   "execution_count": 59,
   "id": "51b7b56d",
   "metadata": {},
   "outputs": [
    {
     "data": {
      "text/plain": [
       "50"
      ]
     },
     "execution_count": 59,
     "metadata": {},
     "output_type": "execute_result"
    }
   ],
   "source": [
    "A *= 2\n",
    "A"
   ]
  },
  {
   "cell_type": "code",
   "execution_count": 60,
   "id": "66c0a8fa",
   "metadata": {},
   "outputs": [
    {
     "data": {
      "text/plain": [
       "25.0"
      ]
     },
     "execution_count": 60,
     "metadata": {},
     "output_type": "execute_result"
    }
   ],
   "source": [
    "A /= 2\n",
    "A"
   ]
  },
  {
   "cell_type": "code",
   "execution_count": 61,
   "id": "6dee8c26",
   "metadata": {},
   "outputs": [
    {
     "data": {
      "text/plain": [
       "'Hellopython'"
      ]
     },
     "execution_count": 61,
     "metadata": {},
     "output_type": "execute_result"
    }
   ],
   "source": [
    "s += \"python\"  # s = s+ \"python\"\n",
    "s"
   ]
  },
  {
   "cell_type": "code",
   "execution_count": 62,
   "id": "43c10f20",
   "metadata": {},
   "outputs": [
    {
     "data": {
      "text/plain": [
       "'HellopythonHellopython'"
      ]
     },
     "execution_count": 62,
     "metadata": {},
     "output_type": "execute_result"
    }
   ],
   "source": [
    "s *= 2\n",
    "s"
   ]
  },
  {
   "cell_type": "code",
   "execution_count": 63,
   "id": "1243b31a",
   "metadata": {},
   "outputs": [
    {
     "data": {
      "text/plain": [
       "False"
      ]
     },
     "execution_count": 63,
     "metadata": {},
     "output_type": "execute_result"
    }
   ],
   "source": [
    "# Relational operator\n",
    "# >, < ,>=, <=, ==, !=\n",
    "A = 10\n",
    "B = 20\n",
    "A > B"
   ]
  },
  {
   "cell_type": "code",
   "execution_count": 64,
   "id": "7a9fd055",
   "metadata": {},
   "outputs": [
    {
     "data": {
      "text/plain": [
       "True"
      ]
     },
     "execution_count": 64,
     "metadata": {},
     "output_type": "execute_result"
    }
   ],
   "source": [
    "A = 10\n",
    "B = 20\n",
    "A < B"
   ]
  },
  {
   "cell_type": "code",
   "execution_count": 65,
   "id": "eb6b4d6b",
   "metadata": {},
   "outputs": [
    {
     "data": {
      "text/plain": [
       "False"
      ]
     },
     "execution_count": 65,
     "metadata": {},
     "output_type": "execute_result"
    }
   ],
   "source": [
    "A = 10\n",
    "B = 20\n",
    "A == B"
   ]
  },
  {
   "cell_type": "code",
   "execution_count": 66,
   "id": "18d1303b",
   "metadata": {},
   "outputs": [
    {
     "data": {
      "text/plain": [
       "True"
      ]
     },
     "execution_count": 66,
     "metadata": {},
     "output_type": "execute_result"
    }
   ],
   "source": [
    "A = 10\n",
    "B = 20\n",
    "A != B"
   ]
  },
  {
   "cell_type": "code",
   "execution_count": 67,
   "id": "6db283b6",
   "metadata": {},
   "outputs": [
    {
     "data": {
      "text/plain": [
       "False"
      ]
     },
     "execution_count": 67,
     "metadata": {},
     "output_type": "execute_result"
    }
   ],
   "source": [
    "A = 10\n",
    "B = 20\n",
    "A >= B"
   ]
  },
  {
   "cell_type": "code",
   "execution_count": 68,
   "id": "6ac73616",
   "metadata": {},
   "outputs": [
    {
     "data": {
      "text/plain": [
       "True"
      ]
     },
     "execution_count": 68,
     "metadata": {},
     "output_type": "execute_result"
    }
   ],
   "source": [
    "A = 10\n",
    "B = 20\n",
    "A <= B"
   ]
  },
  {
   "cell_type": "code",
   "execution_count": 69,
   "id": "5be6e187",
   "metadata": {},
   "outputs": [
    {
     "data": {
      "text/plain": [
       "False"
      ]
     },
     "execution_count": 69,
     "metadata": {},
     "output_type": "execute_result"
    }
   ],
   "source": [
    "True < False"
   ]
  },
  {
   "cell_type": "code",
   "execution_count": 70,
   "id": "727d8dc0",
   "metadata": {},
   "outputs": [],
   "source": [
    "s = \"pyThon\"\n",
    "s2 = \"python\""
   ]
  },
  {
   "cell_type": "code",
   "execution_count": 71,
   "id": "85115e80",
   "metadata": {},
   "outputs": [
    {
     "data": {
      "text/plain": [
       "False"
      ]
     },
     "execution_count": 71,
     "metadata": {},
     "output_type": "execute_result"
    }
   ],
   "source": [
    "s > s2"
   ]
  },
  {
   "cell_type": "code",
   "execution_count": 72,
   "id": "95603e25",
   "metadata": {},
   "outputs": [
    {
     "data": {
      "text/plain": [
       "89"
      ]
     },
     "execution_count": 72,
     "metadata": {},
     "output_type": "execute_result"
    }
   ],
   "source": [
    "# ASCII\n",
    "ord(\"Y\")"
   ]
  },
  {
   "cell_type": "code",
   "execution_count": 73,
   "id": "6efab6de",
   "metadata": {},
   "outputs": [
    {
     "data": {
      "text/plain": [
       "121"
      ]
     },
     "execution_count": 73,
     "metadata": {},
     "output_type": "execute_result"
    }
   ],
   "source": [
    "ord(\"y\")"
   ]
  },
  {
   "cell_type": "code",
   "execution_count": 74,
   "id": "3d6069e9",
   "metadata": {},
   "outputs": [
    {
     "data": {
      "text/plain": [
       "'P'"
      ]
     },
     "execution_count": 74,
     "metadata": {},
     "output_type": "execute_result"
    }
   ],
   "source": [
    "chr(80)"
   ]
  },
  {
   "cell_type": "code",
   "execution_count": 76,
   "id": "ccf1bf39",
   "metadata": {},
   "outputs": [],
   "source": [
    "# checkpassword\n",
    "# - char, numbers, special, "
   ]
  },
  {
   "cell_type": "code",
   "execution_count": 77,
   "id": "60d88e28",
   "metadata": {},
   "outputs": [
    {
     "ename": "TypeError",
     "evalue": "'>' not supported between instances of 'complex' and 'int'",
     "output_type": "error",
     "traceback": [
      "\u001b[1;31m---------------------------------------------------------------------------\u001b[0m",
      "\u001b[1;31mTypeError\u001b[0m                                 Traceback (most recent call last)",
      "Cell \u001b[1;32mIn[77], line 1\u001b[0m\n\u001b[1;32m----> 1\u001b[0m (\u001b[38;5;241m10\u001b[39m\u001b[38;5;241m+\u001b[39m\u001b[38;5;241m5\u001b[39mj) \u001b[38;5;241m>\u001b[39m \u001b[38;5;241m45\u001b[39m\n",
      "\u001b[1;31mTypeError\u001b[0m: '>' not supported between instances of 'complex' and 'int'"
     ]
    }
   ],
   "source": [
    "(10+5j) > 45"
   ]
  },
  {
   "cell_type": "code",
   "execution_count": 78,
   "id": "0c35d8d8",
   "metadata": {},
   "outputs": [
    {
     "name": "stdout",
     "output_type": "stream",
     "text": [
      "Enter your age - 22\n",
      "Enter your country - india\n"
     ]
    },
    {
     "data": {
      "text/plain": [
       "True"
      ]
     },
     "execution_count": 78,
     "metadata": {},
     "output_type": "execute_result"
    }
   ],
   "source": [
    "age = float( input(\"Enter your age - \")  )\n",
    "c = input(\"Enter your country - \")\n",
    "(age >= 18)  and  (c==\"india\")"
   ]
  },
  {
   "cell_type": "code",
   "execution_count": 79,
   "id": "09c2dcb0",
   "metadata": {},
   "outputs": [
    {
     "name": "stdout",
     "output_type": "stream",
     "text": [
      "Enter your age - 27\n",
      "Enter your country - india\n"
     ]
    },
    {
     "data": {
      "text/plain": [
       "True"
      ]
     },
     "execution_count": 79,
     "metadata": {},
     "output_type": "execute_result"
    }
   ],
   "source": [
    "age = float( input(\"Enter your age - \")  )\n",
    "c = input(\"Enter your country - \")\n",
    "(age >= 18)  or  (c==\"india\")"
   ]
  },
  {
   "cell_type": "code",
   "execution_count": 80,
   "id": "65d99254",
   "metadata": {},
   "outputs": [
    {
     "name": "stdout",
     "output_type": "stream",
     "text": [
      "Enter your age - 17\n",
      "Enter your country - indi\n"
     ]
    },
    {
     "data": {
      "text/plain": [
       "True"
      ]
     },
     "execution_count": 80,
     "metadata": {},
     "output_type": "execute_result"
    }
   ],
   "source": [
    "age = float( input(\"Enter your age - \")  )\n",
    "c = input(\"Enter your country - \")\n",
    "not (  (age >= 18)  or  (c==\"india\")  )"
   ]
  },
  {
   "cell_type": "code",
   "execution_count": 81,
   "id": "c417bd7e",
   "metadata": {},
   "outputs": [
    {
     "data": {
      "text/plain": [
       "'pyThon'"
      ]
     },
     "execution_count": 81,
     "metadata": {},
     "output_type": "execute_result"
    }
   ],
   "source": [
    "# membership operator - in, not in\n",
    "# collection types - str, list, tuple, set, dict\n",
    "s"
   ]
  },
  {
   "cell_type": "code",
   "execution_count": 82,
   "id": "9c8f909d",
   "metadata": {},
   "outputs": [
    {
     "data": {
      "text/plain": [
       "True"
      ]
     },
     "execution_count": 82,
     "metadata": {},
     "output_type": "execute_result"
    }
   ],
   "source": [
    "\"p\" in s  #True/False"
   ]
  },
  {
   "cell_type": "code",
   "execution_count": 83,
   "id": "5071197f",
   "metadata": {},
   "outputs": [
    {
     "data": {
      "text/plain": [
       "True"
      ]
     },
     "execution_count": 83,
     "metadata": {},
     "output_type": "execute_result"
    }
   ],
   "source": [
    "\"py\" in s"
   ]
  },
  {
   "cell_type": "code",
   "execution_count": 84,
   "id": "258b317f",
   "metadata": {},
   "outputs": [
    {
     "data": {
      "text/plain": [
       "False"
      ]
     },
     "execution_count": 84,
     "metadata": {},
     "output_type": "execute_result"
    }
   ],
   "source": [
    "\"pY\" in s"
   ]
  },
  {
   "cell_type": "code",
   "execution_count": 85,
   "id": "663b59e9",
   "metadata": {},
   "outputs": [
    {
     "data": {
      "text/plain": [
       "False"
      ]
     },
     "execution_count": 85,
     "metadata": {},
     "output_type": "execute_result"
    }
   ],
   "source": [
    "\"po\" in s"
   ]
  },
  {
   "cell_type": "code",
   "execution_count": 86,
   "id": "8d74bb58",
   "metadata": {},
   "outputs": [
    {
     "data": {
      "text/plain": [
       "True"
      ]
     },
     "execution_count": 86,
     "metadata": {},
     "output_type": "execute_result"
    }
   ],
   "source": [
    "\"po\" not in s"
   ]
  },
  {
   "cell_type": "code",
   "execution_count": null,
   "id": "1edee3d2",
   "metadata": {},
   "outputs": [],
   "source": [
    "# bitwise operators"
   ]
  },
  {
   "cell_type": "code",
   "execution_count": 87,
   "id": "993af3c6",
   "metadata": {},
   "outputs": [
    {
     "data": {
      "text/plain": [
       "'0b1010'"
      ]
     },
     "execution_count": 87,
     "metadata": {},
     "output_type": "execute_result"
    }
   ],
   "source": [
    "bin(10)"
   ]
  },
  {
   "cell_type": "code",
   "execution_count": 88,
   "id": "57115cd4",
   "metadata": {},
   "outputs": [],
   "source": [
    "# bitwise &, |, ~, XOR, >>, <<\n",
    "a = 10\n",
    "b = 11"
   ]
  },
  {
   "cell_type": "code",
   "execution_count": 89,
   "id": "13d8c508",
   "metadata": {},
   "outputs": [],
   "source": [
    "# 10 - 1010\n",
    "# 11 - 1011\n",
    "#      1010"
   ]
  },
  {
   "cell_type": "code",
   "execution_count": 90,
   "id": "3cd6a2de",
   "metadata": {},
   "outputs": [
    {
     "data": {
      "text/plain": [
       "10"
      ]
     },
     "execution_count": 90,
     "metadata": {},
     "output_type": "execute_result"
    }
   ],
   "source": [
    "a & b"
   ]
  },
  {
   "cell_type": "code",
   "execution_count": 91,
   "id": "17101e0c",
   "metadata": {},
   "outputs": [
    {
     "data": {
      "text/plain": [
       "11"
      ]
     },
     "execution_count": 91,
     "metadata": {},
     "output_type": "execute_result"
    }
   ],
   "source": [
    "# 10 - 1010\n",
    "# 11 - 1011\n",
    "#      1011\n",
    "a | b"
   ]
  },
  {
   "cell_type": "code",
   "execution_count": 92,
   "id": "18df410a",
   "metadata": {},
   "outputs": [
    {
     "data": {
      "text/plain": [
       "-11"
      ]
     },
     "execution_count": 92,
     "metadata": {},
     "output_type": "execute_result"
    }
   ],
   "source": [
    "# unary operator\n",
    "# -n-1\n",
    "~ 10"
   ]
  },
  {
   "cell_type": "code",
   "execution_count": 93,
   "id": "f370a0e5",
   "metadata": {},
   "outputs": [
    {
     "data": {
      "text/plain": [
       "-21"
      ]
     },
     "execution_count": 93,
     "metadata": {},
     "output_type": "execute_result"
    }
   ],
   "source": [
    "~ 20"
   ]
  },
  {
   "cell_type": "code",
   "execution_count": 94,
   "id": "762a078c",
   "metadata": {},
   "outputs": [
    {
     "data": {
      "text/plain": [
       "9"
      ]
     },
     "execution_count": 94,
     "metadata": {},
     "output_type": "execute_result"
    }
   ],
   "source": [
    "~ -10  # -(-10) -1"
   ]
  },
  {
   "cell_type": "code",
   "execution_count": 95,
   "id": "4ab66f41",
   "metadata": {},
   "outputs": [
    {
     "data": {
      "text/plain": [
       "1"
      ]
     },
     "execution_count": 95,
     "metadata": {},
     "output_type": "execute_result"
    }
   ],
   "source": [
    "# XOR\n",
    "# 10 - 1010\n",
    "# 11 - 1011\n",
    "#      0001\n",
    "\n",
    "# the bits should be different then 1 else 0\n",
    "a^b"
   ]
  },
  {
   "cell_type": "code",
   "execution_count": 96,
   "id": "babdacdd",
   "metadata": {},
   "outputs": [
    {
     "data": {
      "text/plain": [
       "2"
      ]
     },
     "execution_count": 96,
     "metadata": {},
     "output_type": "execute_result"
    }
   ],
   "source": [
    "10 >> 2"
   ]
  },
  {
   "cell_type": "code",
   "execution_count": 97,
   "id": "82f7fa6c",
   "metadata": {},
   "outputs": [
    {
     "data": {
      "text/plain": [
       "40"
      ]
     },
     "execution_count": 97,
     "metadata": {},
     "output_type": "execute_result"
    }
   ],
   "source": [
    "10 << 2"
   ]
  },
  {
   "cell_type": "code",
   "execution_count": 98,
   "id": "b7606e79",
   "metadata": {},
   "outputs": [],
   "source": [
    "# 0b1010"
   ]
  },
  {
   "cell_type": "code",
   "execution_count": null,
   "id": "fb7a8755",
   "metadata": {},
   "outputs": [],
   "source": []
  },
  {
   "cell_type": "code",
   "execution_count": null,
   "id": "da00ace8",
   "metadata": {},
   "outputs": [],
   "source": [
    "Campu$#2!"
   ]
  },
  {
   "cell_type": "code",
   "execution_count": null,
   "id": "8030db7f",
   "metadata": {},
   "outputs": [],
   "source": []
  }
 ],
 "metadata": {
  "kernelspec": {
   "display_name": "Python 3 (ipykernel)",
   "language": "python",
   "name": "python3"
  },
  "language_info": {
   "codemirror_mode": {
    "name": "ipython",
    "version": 3
   },
   "file_extension": ".py",
   "mimetype": "text/x-python",
   "name": "python",
   "nbconvert_exporter": "python",
   "pygments_lexer": "ipython3",
   "version": "3.11.4"
  }
 },
 "nbformat": 4,
 "nbformat_minor": 5
}
