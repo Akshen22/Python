{
 "cells": [
  {
   "cell_type": "code",
   "execution_count": 15,
   "id": "8ca14666",
   "metadata": {},
   "outputs": [
    {
     "name": "stdout",
     "output_type": "stream",
     "text": [
      "Hello world\n"
     ]
    }
   ],
   "source": [
    "print(\"Hello world\")"
   ]
  },
  {
   "cell_type": "code",
   "execution_count": 16,
   "id": "73a8da9d",
   "metadata": {},
   "outputs": [
    {
     "name": "stdout",
     "output_type": "stream",
     "text": [
      "\n",
      "\n"
     ]
    }
   ],
   "source": [
    "print()\n",
    "print()"
   ]
  },
  {
   "cell_type": "code",
   "execution_count": 17,
   "id": "d02f69bb",
   "metadata": {},
   "outputs": [
    {
     "name": "stdout",
     "output_type": "stream",
     "text": [
      "Hello \n",
      "world\n"
     ]
    }
   ],
   "source": [
    "print(\"Hello \\nworld\")"
   ]
  },
  {
   "cell_type": "code",
   "execution_count": 18,
   "id": "0743e028",
   "metadata": {},
   "outputs": [
    {
     "name": "stdout",
     "output_type": "stream",
     "text": [
      "Hello world,We are learning python\n"
     ]
    }
   ],
   "source": [
    "print(\"Hello world\",  end = \",\")\n",
    "print(\"We are learning python\")"
   ]
  },
  {
   "cell_type": "code",
   "execution_count": 19,
   "id": "11ef5df8",
   "metadata": {},
   "outputs": [
    {
     "name": "stdout",
     "output_type": "stream",
     "text": [
      "Hello world We are learning python Batch is Aug23\n"
     ]
    }
   ],
   "source": [
    "print(\"Hello world\", \"We are learning python\", \"Batch is Aug23\")"
   ]
  },
  {
   "cell_type": "code",
   "execution_count": 2,
   "id": "dbdeedfc",
   "metadata": {},
   "outputs": [
    {
     "name": "stdout",
     "output_type": "stream",
     "text": [
      "Hello world,We are learning python,Batch is Aug23\n"
     ]
    }
   ],
   "source": [
    "print(\"Hello world\", \"We are learning python\", \"Batch is Aug23\", sep = \",\")"
   ]
  },
  {
   "cell_type": "code",
   "execution_count": 7,
   "id": "357e0d3e",
   "metadata": {},
   "outputs": [
    {
     "name": "stdout",
     "output_type": "stream",
     "text": [
      "Hello world\n",
      "We are learning python\n",
      "Batch is Aug23\n"
     ]
    }
   ],
   "source": [
    "print(\"Hello world\", \"We are learning python\", \"Batch is Aug23\", sep = \"\\n\")"
   ]
  },
  {
   "cell_type": "code",
   "execution_count": 8,
   "id": "f37f73d8",
   "metadata": {},
   "outputs": [
    {
     "name": "stdout",
     "output_type": "stream",
     "text": [
      "Hello world\tWe are learning python\tBatch is Aug23\n"
     ]
    }
   ],
   "source": [
    "print(\"Hello world\", \"We are learning python\", \"Batch is Aug23\", sep = \"\\t\")"
   ]
  },
  {
   "cell_type": "code",
   "execution_count": 9,
   "id": "a3d34cd7",
   "metadata": {},
   "outputs": [
    {
     "name": "stdout",
     "output_type": "stream",
     "text": [
      "python\n",
      "sql\n"
     ]
    }
   ],
   "source": [
    "# input\n",
    "m1 = \"python\"\n",
    "m2 = \"sql\"\n",
    "print(m1)\n",
    "print(m2)"
   ]
  },
  {
   "cell_type": "code",
   "execution_count": 10,
   "id": "14c151a7",
   "metadata": {},
   "outputs": [
    {
     "name": "stdout",
     "output_type": "stream",
     "text": [
      "Enter your name - Akshen\n"
     ]
    },
    {
     "data": {
      "text/plain": [
       "'Akshen'"
      ]
     },
     "execution_count": 10,
     "metadata": {},
     "output_type": "execute_result"
    }
   ],
   "source": [
    "# taking input\n",
    "input(\"Enter your name - \")"
   ]
  },
  {
   "cell_type": "code",
   "execution_count": 11,
   "id": "234972ee",
   "metadata": {},
   "outputs": [
    {
     "name": "stdout",
     "output_type": "stream",
     "text": [
      "Enter your name - Dhami\n",
      "Dhami\n"
     ]
    }
   ],
   "source": [
    "# variables are named memory location\n",
    "\n",
    "name = input(\"Enter your name - \")\n",
    "print(name)"
   ]
  },
  {
   "cell_type": "code",
   "execution_count": 12,
   "id": "8791bf56",
   "metadata": {},
   "outputs": [
    {
     "data": {
      "text/plain": [
       "2554810792112"
      ]
     },
     "execution_count": 12,
     "metadata": {},
     "output_type": "execute_result"
    }
   ],
   "source": [
    "id(name)"
   ]
  },
  {
   "cell_type": "code",
   "execution_count": 13,
   "id": "2893cea7",
   "metadata": {},
   "outputs": [
    {
     "data": {
      "text/plain": [
       "'Dhami'"
      ]
     },
     "execution_count": 13,
     "metadata": {},
     "output_type": "execute_result"
    }
   ],
   "source": [
    "name"
   ]
  },
  {
   "cell_type": "code",
   "execution_count": 14,
   "id": "d0b7b615",
   "metadata": {},
   "outputs": [
    {
     "ename": "SyntaxError",
     "evalue": "invalid decimal literal (1943876939.py, line 2)",
     "output_type": "error",
     "traceback": [
      "\u001b[1;36m  Cell \u001b[1;32mIn[14], line 2\u001b[1;36m\u001b[0m\n\u001b[1;33m    9A = 20\u001b[0m\n\u001b[1;37m    ^\u001b[0m\n\u001b[1;31mSyntaxError\u001b[0m\u001b[1;31m:\u001b[0m invalid decimal literal\n"
     ]
    }
   ],
   "source": [
    "#a variable name cannot start with number\n",
    "9A = 20"
   ]
  },
  {
   "cell_type": "code",
   "execution_count": null,
   "id": "c7ab7989",
   "metadata": {},
   "outputs": [],
   "source": [
    "A9 = 20"
   ]
  },
  {
   "cell_type": "code",
   "execution_count": null,
   "id": "f87a3594",
   "metadata": {},
   "outputs": [],
   "source": [
    "#a variable name cannot start with number\n",
    "# A variable name should not have any special char other than underscore\n",
    "A@ = 20"
   ]
  },
  {
   "cell_type": "code",
   "execution_count": null,
   "id": "04be0fb6",
   "metadata": {},
   "outputs": [],
   "source": [
    "A_B = 100"
   ]
  },
  {
   "cell_type": "code",
   "execution_count": null,
   "id": "ce266462",
   "metadata": {},
   "outputs": [],
   "source": [
    "#a variable name cannot start with number\n",
    "# A variable name should not have any special char other than underscore\n",
    "# python is case senstive - variable names are case sensitive\n",
    "y = 200"
   ]
  },
  {
   "cell_type": "code",
   "execution_count": null,
   "id": "eb9d5f76",
   "metadata": {},
   "outputs": [],
   "source": [
    "Y = 300\n",
    "print(Y)"
   ]
  },
  {
   "cell_type": "code",
   "execution_count": null,
   "id": "478f2628",
   "metadata": {},
   "outputs": [],
   "source": [
    "#a variable name cannot start with number\n",
    "# A variable name should not have any special char other than underscore\n",
    "# python is case senstive - variable names are case sensitive\n",
    "# we cannot have space b/w the variable name\n",
    "first num = 230"
   ]
  },
  {
   "cell_type": "code",
   "execution_count": null,
   "id": "56156bb7",
   "metadata": {},
   "outputs": [],
   "source": [
    "first_num = 230\n",
    "print(first_num)"
   ]
  },
  {
   "cell_type": "code",
   "execution_count": null,
   "id": "cd2ec231",
   "metadata": {},
   "outputs": [],
   "source": [
    "#a variable name cannot start with number\n",
    "# A variable name should not have any special char other than underscore\n",
    "# python is case senstive - variable names are case sensitive\n",
    "# we cannot have space b/w the variable name\n",
    "# A python keyword or function should not be used as variable name\n",
    "# print = \"hello\""
   ]
  },
  {
   "cell_type": "code",
   "execution_count": null,
   "id": "898740fb",
   "metadata": {},
   "outputs": [],
   "source": [
    "print(\"Hello world\")"
   ]
  },
  {
   "cell_type": "code",
   "execution_count": null,
   "id": "d5f07ecf",
   "metadata": {},
   "outputs": [],
   "source": [
    "name = input(\"Enter your name - \") \n",
    "age = input(\"Enter your age - \") \n",
    "\n",
    "print(\"Name is\", name, \"Age is\", age)"
   ]
  },
  {
   "cell_type": "code",
   "execution_count": null,
   "id": "55515b16",
   "metadata": {},
   "outputs": [],
   "source": [
    "name = input(\"Enter your name - \") \n",
    "age = input(\"Enter your age - \") \n",
    "\n",
    "print(\"Name is {} and age is {}\".format(name,age))"
   ]
  },
  {
   "cell_type": "code",
   "execution_count": null,
   "id": "1a471936",
   "metadata": {},
   "outputs": [],
   "source": [
    "name = input(\"Enter your name - \") \n",
    "age = input(\"Enter your age - \") \n",
    "\n",
    "print(f\"Name is {name} and age is {age}\")"
   ]
  },
  {
   "cell_type": "code",
   "execution_count": null,
   "id": "15fdd27a",
   "metadata": {},
   "outputs": [],
   "source": [
    "def Total(itp, sql):   # user defined functions\n",
    "    total = itp + sql\n",
    "    return total"
   ]
  },
  {
   "cell_type": "code",
   "execution_count": null,
   "id": "f41e7768",
   "metadata": {},
   "outputs": [],
   "source": [
    "Total(45,30)"
   ]
  },
  {
   "cell_type": "code",
   "execution_count": null,
   "id": "a48ed8b3",
   "metadata": {},
   "outputs": [],
   "source": [
    "Total(33,35)"
   ]
  },
  {
   "cell_type": "code",
   "execution_count": null,
   "id": "d1863db7",
   "metadata": {},
   "outputs": [],
   "source": [
    "def Avg(itp, sql):   # user defined functions\n",
    "    total = itp + sql\n",
    "    return total/2"
   ]
  },
  {
   "cell_type": "code",
   "execution_count": null,
   "id": "a528287e",
   "metadata": {},
   "outputs": [],
   "source": [
    "Avg(34,45)"
   ]
  },
  {
   "cell_type": "code",
   "execution_count": null,
   "id": "af803822",
   "metadata": {},
   "outputs": [],
   "source": [
    "# data types\n",
    "\n",
    "a = -20\n",
    "print(a)"
   ]
  },
  {
   "cell_type": "code",
   "execution_count": null,
   "id": "8bb8e4cb",
   "metadata": {},
   "outputs": [],
   "source": [
    "type(a)"
   ]
  },
  {
   "cell_type": "code",
   "execution_count": null,
   "id": "3c311ab1",
   "metadata": {},
   "outputs": [],
   "source": [
    "b = 10.\n",
    "print(b)\n",
    "print(type(b))"
   ]
  },
  {
   "cell_type": "code",
   "execution_count": null,
   "id": "22b8a1f5",
   "metadata": {},
   "outputs": [],
   "source": [
    "c =  5J\n",
    "print(c)\n",
    "print(type(c))"
   ]
  },
  {
   "cell_type": "code",
   "execution_count": null,
   "id": "fb7e16e8",
   "metadata": {},
   "outputs": [],
   "source": [
    "c.real"
   ]
  },
  {
   "cell_type": "code",
   "execution_count": null,
   "id": "5b92be2b",
   "metadata": {},
   "outputs": [],
   "source": [
    "c.imag"
   ]
  },
  {
   "cell_type": "code",
   "execution_count": null,
   "id": "6e3e1202",
   "metadata": {},
   "outputs": [],
   "source": [
    "s = '''python'''\n",
    "print(s)\n",
    "print(type(s))"
   ]
  },
  {
   "cell_type": "code",
   "execution_count": null,
   "id": "dfacc933",
   "metadata": {},
   "outputs": [],
   "source": [
    "s = '''120'''\n",
    "print(s)\n",
    "print(type(s))"
   ]
  },
  {
   "cell_type": "code",
   "execution_count": null,
   "id": "c5967923",
   "metadata": {},
   "outputs": [],
   "source": [
    "s = \"Student's marks are low\"\n",
    "s"
   ]
  },
  {
   "cell_type": "code",
   "execution_count": null,
   "id": "33e4b9d3",
   "metadata": {},
   "outputs": [],
   "source": [
    "s = '''Student's marks are \"low\"'''\n",
    "print(s)"
   ]
  },
  {
   "cell_type": "code",
   "execution_count": null,
   "id": "39e3d334",
   "metadata": {},
   "outputs": [],
   "source": [
    "s = '''Python day 1 is about basics.\n",
    "Python day 2 is about collection types'''\n",
    "print(s)"
   ]
  },
  {
   "cell_type": "code",
   "execution_count": null,
   "id": "e30a5d2c",
   "metadata": {},
   "outputs": [],
   "source": [
    "Course_s = False\n",
    "print(Course_s)\n",
    "print(type(Course_s))"
   ]
  },
  {
   "cell_type": "code",
   "execution_count": null,
   "id": "58cc061c",
   "metadata": {},
   "outputs": [],
   "source": [
    "# type casting\n",
    "# implicit type casting\n",
    "True + False + True"
   ]
  },
  {
   "cell_type": "code",
   "execution_count": null,
   "id": "d314ca81",
   "metadata": {},
   "outputs": [],
   "source": [
    "A = 20\n",
    "type(a)"
   ]
  },
  {
   "cell_type": "code",
   "execution_count": null,
   "id": "1bed8705",
   "metadata": {},
   "outputs": [],
   "source": [
    "B = float(A)\n",
    "print(B)"
   ]
  },
  {
   "cell_type": "code",
   "execution_count": null,
   "id": "f1e898ce",
   "metadata": {},
   "outputs": [],
   "source": [
    "print(A)"
   ]
  },
  {
   "cell_type": "code",
   "execution_count": null,
   "id": "3a9d9dd2",
   "metadata": {},
   "outputs": [],
   "source": [
    "str(A)"
   ]
  },
  {
   "cell_type": "code",
   "execution_count": null,
   "id": "fe2e041c",
   "metadata": {},
   "outputs": [],
   "source": [
    "complex(A)"
   ]
  },
  {
   "cell_type": "code",
   "execution_count": null,
   "id": "dbcdab3f",
   "metadata": {},
   "outputs": [],
   "source": [
    "bool(A)"
   ]
  },
  {
   "cell_type": "code",
   "execution_count": null,
   "id": "7d41dd0e",
   "metadata": {},
   "outputs": [],
   "source": [
    "C = 0\n",
    "bool(C)"
   ]
  },
  {
   "cell_type": "code",
   "execution_count": null,
   "id": "b1258c8b",
   "metadata": {},
   "outputs": [],
   "source": [
    "# float\n",
    "F = 10.22  # int, str, complex, bool"
   ]
  },
  {
   "cell_type": "code",
   "execution_count": null,
   "id": "484e9317",
   "metadata": {},
   "outputs": [],
   "source": [
    "c = 10 + 5j\n",
    "float(c)"
   ]
  },
  {
   "cell_type": "code",
   "execution_count": null,
   "id": "88510839",
   "metadata": {},
   "outputs": [],
   "source": [
    "c1 = str(c)\n",
    "c1"
   ]
  },
  {
   "cell_type": "code",
   "execution_count": null,
   "id": "6aa4afe9",
   "metadata": {},
   "outputs": [],
   "source": [
    "# c1[0]"
   ]
  },
  {
   "cell_type": "code",
   "execution_count": null,
   "id": "87c443aa",
   "metadata": {},
   "outputs": [],
   "source": [
    "bool(c)"
   ]
  },
  {
   "cell_type": "code",
   "execution_count": null,
   "id": "2abfcbd6",
   "metadata": {},
   "outputs": [],
   "source": [
    "bool(0+1j)"
   ]
  },
  {
   "cell_type": "code",
   "execution_count": null,
   "id": "9a1fbbca",
   "metadata": {},
   "outputs": [],
   "source": [
    "# str\n",
    "s = \"python\"  #int, float, bool, complex\n",
    "int(s)"
   ]
  },
  {
   "cell_type": "code",
   "execution_count": null,
   "id": "de94e758",
   "metadata": {},
   "outputs": [],
   "source": [
    "# str\n",
    "s = \"120   \"  #int, float, bool, complex\n",
    "int(s)"
   ]
  },
  {
   "cell_type": "code",
   "execution_count": null,
   "id": "a1e7abc4",
   "metadata": {},
   "outputs": [],
   "source": [
    "float(s)"
   ]
  },
  {
   "cell_type": "code",
   "execution_count": null,
   "id": "fbfa54e3",
   "metadata": {},
   "outputs": [],
   "source": [
    "complex(s)"
   ]
  },
  {
   "cell_type": "code",
   "execution_count": null,
   "id": "dd17b90f",
   "metadata": {},
   "outputs": [],
   "source": [
    "# str\n",
    "s = \"120J\"  #int, float, bool, complex\n",
    "complex(s)"
   ]
  },
  {
   "cell_type": "code",
   "execution_count": null,
   "id": "b697c563",
   "metadata": {},
   "outputs": [],
   "source": [
    "bool(s)"
   ]
  },
  {
   "cell_type": "code",
   "execution_count": null,
   "id": "8857a9fc",
   "metadata": {},
   "outputs": [],
   "source": [
    "s = \"\"\n",
    "bool(s)"
   ]
  },
  {
   "cell_type": "code",
   "execution_count": null,
   "id": "1dee5c14",
   "metadata": {},
   "outputs": [],
   "source": [
    "# bool \n",
    "A = True  # int, float, str, complex\n",
    "B = False"
   ]
  },
  {
   "cell_type": "code",
   "execution_count": null,
   "id": "6ba7937e",
   "metadata": {},
   "outputs": [],
   "source": []
  },
  {
   "cell_type": "code",
   "execution_count": null,
   "id": "305ad033",
   "metadata": {},
   "outputs": [],
   "source": [
    "# Arithmatic \n",
    "X = 10\n",
    "Y = 20\n",
    "X + Y"
   ]
  },
  {
   "cell_type": "code",
   "execution_count": null,
   "id": "374124c6",
   "metadata": {},
   "outputs": [],
   "source": [
    "X - Y"
   ]
  },
  {
   "cell_type": "code",
   "execution_count": null,
   "id": "5fa78d3d",
   "metadata": {},
   "outputs": [],
   "source": [
    "X * Y"
   ]
  },
  {
   "cell_type": "code",
   "execution_count": null,
   "id": "d5a76318",
   "metadata": {},
   "outputs": [],
   "source": [
    "X/Y"
   ]
  },
  {
   "cell_type": "code",
   "execution_count": null,
   "id": "2711840c",
   "metadata": {},
   "outputs": [],
   "source": [
    "X//Y"
   ]
  },
  {
   "cell_type": "code",
   "execution_count": null,
   "id": "86e99f75",
   "metadata": {},
   "outputs": [],
   "source": [
    "10//4.0"
   ]
  },
  {
   "cell_type": "code",
   "execution_count": null,
   "id": "a1cce13c",
   "metadata": {},
   "outputs": [],
   "source": [
    "10%4"
   ]
  },
  {
   "cell_type": "code",
   "execution_count": null,
   "id": "262875ec",
   "metadata": {},
   "outputs": [],
   "source": [
    "10**3"
   ]
  },
  {
   "cell_type": "code",
   "execution_count": null,
   "id": "b0bba599",
   "metadata": {},
   "outputs": [],
   "source": [
    "10**(1/2)"
   ]
  },
  {
   "cell_type": "code",
   "execution_count": null,
   "id": "ee84a34d",
   "metadata": {},
   "outputs": [],
   "source": [
    "10**(1/3)"
   ]
  },
  {
   "cell_type": "code",
   "execution_count": null,
   "id": "6defb06a",
   "metadata": {},
   "outputs": [],
   "source": [
    "10**0"
   ]
  },
  {
   "cell_type": "code",
   "execution_count": null,
   "id": "5f4e5932",
   "metadata": {},
   "outputs": [],
   "source": [
    "# BODMAS\n",
    "# PEMDAS"
   ]
  },
  {
   "cell_type": "code",
   "execution_count": null,
   "id": "e2cf12f3",
   "metadata": {},
   "outputs": [],
   "source": [
    "10+1/2"
   ]
  },
  {
   "cell_type": "code",
   "execution_count": null,
   "id": "fe7eb8a3",
   "metadata": {},
   "outputs": [],
   "source": [
    "# numeric - int, float\n",
    "# on str\n",
    "s = \"Hello\"\n",
    "s2 = \"Python\"\n",
    "s + s2"
   ]
  },
  {
   "cell_type": "code",
   "execution_count": null,
   "id": "7a95dc89",
   "metadata": {},
   "outputs": [],
   "source": [
    "10 + s"
   ]
  },
  {
   "cell_type": "code",
   "execution_count": null,
   "id": "6928a8b8",
   "metadata": {},
   "outputs": [],
   "source": [
    "True + False"
   ]
  },
  {
   "cell_type": "code",
   "execution_count": null,
   "id": "c9e4ff5d",
   "metadata": {},
   "outputs": [],
   "source": [
    "s - s2"
   ]
  },
  {
   "cell_type": "code",
   "execution_count": null,
   "id": "a9478ffc",
   "metadata": {},
   "outputs": [],
   "source": [
    "# + - concatenation\n",
    "# * - (self replication)\n",
    "s * 3"
   ]
  },
  {
   "cell_type": "code",
   "execution_count": null,
   "id": "ccd5914a",
   "metadata": {},
   "outputs": [],
   "source": [
    "# Assignment operators \n",
    "# (=, +=, -=, *=, /=,//=,%=,**=)\n",
    "A = 20\n",
    "print(A)"
   ]
  },
  {
   "cell_type": "code",
   "execution_count": null,
   "id": "6cab145c",
   "metadata": {},
   "outputs": [],
   "source": [
    "A += 10   # A = A + 10\n",
    "A"
   ]
  },
  {
   "cell_type": "code",
   "execution_count": null,
   "id": "9d067cb7",
   "metadata": {},
   "outputs": [],
   "source": [
    "Z += 20  # Z = Z + 20"
   ]
  },
  {
   "cell_type": "code",
   "execution_count": null,
   "id": "471dcc1c",
   "metadata": {},
   "outputs": [],
   "source": [
    "A -= 5\n",
    "A"
   ]
  },
  {
   "cell_type": "code",
   "execution_count": null,
   "id": "51b7b56d",
   "metadata": {},
   "outputs": [],
   "source": [
    "A *= 2\n",
    "A"
   ]
  },
  {
   "cell_type": "code",
   "execution_count": null,
   "id": "66c0a8fa",
   "metadata": {},
   "outputs": [],
   "source": [
    "A /= 2\n",
    "A"
   ]
  },
  {
   "cell_type": "code",
   "execution_count": null,
   "id": "6dee8c26",
   "metadata": {},
   "outputs": [],
   "source": [
    "s += \"python\"  # s = s+ \"python\"\n",
    "s"
   ]
  },
  {
   "cell_type": "code",
   "execution_count": null,
   "id": "43c10f20",
   "metadata": {},
   "outputs": [],
   "source": [
    "s *= 2\n",
    "s"
   ]
  },
  {
   "cell_type": "code",
   "execution_count": null,
   "id": "1243b31a",
   "metadata": {},
   "outputs": [],
   "source": [
    "# Relational operator\n",
    "# >, < ,>=, <=, ==, !=\n",
    "A = 10\n",
    "B = 20\n",
    "A > B"
   ]
  },
  {
   "cell_type": "code",
   "execution_count": null,
   "id": "7a9fd055",
   "metadata": {},
   "outputs": [],
   "source": [
    "A = 10\n",
    "B = 20\n",
    "A < B"
   ]
  },
  {
   "cell_type": "code",
   "execution_count": null,
   "id": "eb6b4d6b",
   "metadata": {},
   "outputs": [],
   "source": [
    "A = 10\n",
    "B = 20\n",
    "A == B"
   ]
  },
  {
   "cell_type": "code",
   "execution_count": null,
   "id": "18d1303b",
   "metadata": {},
   "outputs": [],
   "source": [
    "A = 10\n",
    "B = 20\n",
    "A != B"
   ]
  },
  {
   "cell_type": "code",
   "execution_count": null,
   "id": "6db283b6",
   "metadata": {},
   "outputs": [],
   "source": [
    "A = 10\n",
    "B = 20\n",
    "A >= B"
   ]
  },
  {
   "cell_type": "code",
   "execution_count": null,
   "id": "6ac73616",
   "metadata": {},
   "outputs": [],
   "source": [
    "A = 10\n",
    "B = 20\n",
    "A <= B"
   ]
  },
  {
   "cell_type": "code",
   "execution_count": null,
   "id": "5be6e187",
   "metadata": {},
   "outputs": [],
   "source": [
    "True < False"
   ]
  },
  {
   "cell_type": "code",
   "execution_count": null,
   "id": "727d8dc0",
   "metadata": {},
   "outputs": [],
   "source": [
    "s = \"pyThon\"\n",
    "s2 = \"python\""
   ]
  },
  {
   "cell_type": "code",
   "execution_count": null,
   "id": "85115e80",
   "metadata": {},
   "outputs": [],
   "source": [
    "s > s2"
   ]
  },
  {
   "cell_type": "code",
   "execution_count": null,
   "id": "95603e25",
   "metadata": {},
   "outputs": [],
   "source": [
    "# ASCII\n",
    "ord(\"Y\")"
   ]
  },
  {
   "cell_type": "code",
   "execution_count": null,
   "id": "6efab6de",
   "metadata": {},
   "outputs": [],
   "source": [
    "ord(\"y\")"
   ]
  },
  {
   "cell_type": "code",
   "execution_count": null,
   "id": "3d6069e9",
   "metadata": {},
   "outputs": [],
   "source": [
    "chr(80)"
   ]
  },
  {
   "cell_type": "code",
   "execution_count": null,
   "id": "ccf1bf39",
   "metadata": {},
   "outputs": [],
   "source": [
    "# checkpassword\n",
    "# - char, numbers, special, "
   ]
  },
  {
   "cell_type": "code",
   "execution_count": null,
   "id": "60d88e28",
   "metadata": {},
   "outputs": [],
   "source": [
    "(10+5j) > 45"
   ]
  },
  {
   "cell_type": "code",
   "execution_count": null,
   "id": "0c35d8d8",
   "metadata": {},
   "outputs": [],
   "source": [
    "age = float( input(\"Enter your age - \")  )\n",
    "c = input(\"Enter your country - \")\n",
    "(age >= 18)  and  (c==\"india\")"
   ]
  },
  {
   "cell_type": "code",
   "execution_count": null,
   "id": "09c2dcb0",
   "metadata": {},
   "outputs": [],
   "source": [
    "age = float( input(\"Enter your age - \")  )\n",
    "c = input(\"Enter your country - \")\n",
    "(age >= 18)  or  (c==\"india\")"
   ]
  },
  {
   "cell_type": "code",
   "execution_count": null,
   "id": "65d99254",
   "metadata": {},
   "outputs": [],
   "source": [
    "age = float( input(\"Enter your age - \")  )\n",
    "c = input(\"Enter your country - \")\n",
    "not (  (age >= 18)  or  (c==\"india\")  )"
   ]
  },
  {
   "cell_type": "code",
   "execution_count": null,
   "id": "c417bd7e",
   "metadata": {},
   "outputs": [],
   "source": [
    "# membership operator - in, not in\n",
    "# collection types - str, list, tuple, set, dict\n",
    "s"
   ]
  },
  {
   "cell_type": "code",
   "execution_count": null,
   "id": "9c8f909d",
   "metadata": {},
   "outputs": [],
   "source": [
    "\"p\" in s  #True/False"
   ]
  },
  {
   "cell_type": "code",
   "execution_count": null,
   "id": "5071197f",
   "metadata": {},
   "outputs": [],
   "source": [
    "\"py\" in s"
   ]
  },
  {
   "cell_type": "code",
   "execution_count": null,
   "id": "258b317f",
   "metadata": {},
   "outputs": [],
   "source": [
    "\"pY\" in s"
   ]
  },
  {
   "cell_type": "code",
   "execution_count": null,
   "id": "663b59e9",
   "metadata": {},
   "outputs": [],
   "source": [
    "\"po\" in s"
   ]
  },
  {
   "cell_type": "code",
   "execution_count": null,
   "id": "8d74bb58",
   "metadata": {},
   "outputs": [],
   "source": [
    "\"po\" not in s"
   ]
  },
  {
   "cell_type": "code",
   "execution_count": null,
   "id": "1edee3d2",
   "metadata": {},
   "outputs": [],
   "source": [
    "# bitwise operators"
   ]
  },
  {
   "cell_type": "code",
   "execution_count": null,
   "id": "993af3c6",
   "metadata": {},
   "outputs": [],
   "source": [
    "bin(10)"
   ]
  },
  {
   "cell_type": "code",
   "execution_count": null,
   "id": "57115cd4",
   "metadata": {},
   "outputs": [],
   "source": [
    "# bitwise &, |, ~, XOR, >>, <<\n",
    "a = 10\n",
    "b = 11"
   ]
  },
  {
   "cell_type": "code",
   "execution_count": null,
   "id": "13d8c508",
   "metadata": {},
   "outputs": [],
   "source": [
    "# 10 - 1010\n",
    "# 11 - 1011\n",
    "#      1010"
   ]
  },
  {
   "cell_type": "code",
   "execution_count": null,
   "id": "3cd6a2de",
   "metadata": {},
   "outputs": [],
   "source": [
    "a & b"
   ]
  },
  {
   "cell_type": "code",
   "execution_count": null,
   "id": "17101e0c",
   "metadata": {},
   "outputs": [],
   "source": [
    "# 10 - 1010\n",
    "# 11 - 1011\n",
    "#      1011\n",
    "a | b"
   ]
  },
  {
   "cell_type": "code",
   "execution_count": null,
   "id": "18df410a",
   "metadata": {},
   "outputs": [],
   "source": [
    "# unary operator\n",
    "# -n-1\n",
    "~ 10"
   ]
  },
  {
   "cell_type": "code",
   "execution_count": null,
   "id": "f370a0e5",
   "metadata": {},
   "outputs": [],
   "source": [
    "~ 20"
   ]
  },
  {
   "cell_type": "code",
   "execution_count": null,
   "id": "762a078c",
   "metadata": {},
   "outputs": [],
   "source": [
    "~ -10  # -(-10) -1"
   ]
  },
  {
   "cell_type": "code",
   "execution_count": null,
   "id": "4ab66f41",
   "metadata": {},
   "outputs": [],
   "source": [
    "# XOR\n",
    "# 10 - 1010\n",
    "# 11 - 1011\n",
    "#      0001\n",
    "\n",
    "# the bits should be different then 1 else 0\n",
    "a^b"
   ]
  },
  {
   "cell_type": "code",
   "execution_count": null,
   "id": "babdacdd",
   "metadata": {},
   "outputs": [],
   "source": [
    "10 >> 2"
   ]
  },
  {
   "cell_type": "code",
   "execution_count": null,
   "id": "82f7fa6c",
   "metadata": {},
   "outputs": [],
   "source": [
    "10 << 2"
   ]
  },
  {
   "cell_type": "code",
   "execution_count": null,
   "id": "b7606e79",
   "metadata": {},
   "outputs": [],
   "source": [
    "# 0b1010"
   ]
  },
  {
   "cell_type": "code",
   "execution_count": null,
   "id": "fb7a8755",
   "metadata": {},
   "outputs": [],
   "source": []
  },
  {
   "cell_type": "code",
   "execution_count": null,
   "id": "da00ace8",
   "metadata": {},
   "outputs": [],
   "source": [
    "Campu$#2!"
   ]
  },
  {
   "cell_type": "code",
   "execution_count": null,
   "id": "8030db7f",
   "metadata": {},
   "outputs": [],
   "source": []
  }
 ],
 "metadata": {
  "kernelspec": {
   "display_name": "Python 3 (ipykernel)",
   "language": "python",
   "name": "python3"
  },
  "language_info": {
   "codemirror_mode": {
    "name": "ipython",
    "version": 3
   },
   "file_extension": ".py",
   "mimetype": "text/x-python",
   "name": "python",
   "nbconvert_exporter": "python",
   "pygments_lexer": "ipython3",
   "version": "3.11.4"
  }
 },
 "nbformat": 4,
 "nbformat_minor": 5
}
