{
 "cells": [
  {
   "cell_type": "markdown",
   "id": "fc2aa73d",
   "metadata": {},
   "source": [
    "# Data Structure: Tuple"
   ]
  },
  {
   "cell_type": "markdown",
   "id": "dcf326aa",
   "metadata": {},
   "source": [
    "immutable(dont change), all(), any(), len(), count, index, sorted, min(), max(), sum(), tuple(), enumerate()"
   ]
  },
  {
   "cell_type": "code",
   "execution_count": 1,
   "id": "bbdf8176",
   "metadata": {},
   "outputs": [
    {
     "data": {
      "text/plain": [
       "(0, 4, True, 'Akshen', 3.14, '3i+4', [2, 4, 5])"
      ]
     },
     "execution_count": 1,
     "metadata": {},
     "output_type": "execute_result"
    }
   ],
   "source": [
    "tup=(0, 4, True, \"Akshen\", 3.14, \"3i+4\",[2,4,5])\n",
    "tup"
   ]
  },
  {
   "cell_type": "code",
   "execution_count": 2,
   "id": "a61b978f",
   "metadata": {},
   "outputs": [
    {
     "data": {
      "text/plain": [
       "tuple"
      ]
     },
     "execution_count": 2,
     "metadata": {},
     "output_type": "execute_result"
    }
   ],
   "source": [
    "type(tup)"
   ]
  },
  {
   "cell_type": "code",
   "execution_count": 14,
   "id": "6a45fce8",
   "metadata": {},
   "outputs": [
    {
     "data": {
      "text/plain": [
       "7"
      ]
     },
     "execution_count": 14,
     "metadata": {},
     "output_type": "execute_result"
    }
   ],
   "source": [
    "len(tup)"
   ]
  },
  {
   "cell_type": "code",
   "execution_count": 3,
   "id": "7b268395",
   "metadata": {},
   "outputs": [
    {
     "name": "stdout",
     "output_type": "stream",
     "text": [
      "['__add__', '__class__', '__class_getitem__', '__contains__', '__delattr__', '__dir__', '__doc__', '__eq__', '__format__', '__ge__', '__getattribute__', '__getitem__', '__getnewargs__', '__getstate__', '__gt__', '__hash__', '__init__', '__init_subclass__', '__iter__', '__le__', '__len__', '__lt__', '__mul__', '__ne__', '__new__', '__reduce__', '__reduce_ex__', '__repr__', '__rmul__', '__setattr__', '__sizeof__', '__str__', '__subclasshook__', 'count', 'index']\n"
     ]
    }
   ],
   "source": [
    "print(dir(tuple))"
   ]
  },
  {
   "cell_type": "code",
   "execution_count": 4,
   "id": "fda372a7",
   "metadata": {},
   "outputs": [
    {
     "data": {
      "text/plain": [
       "tuple"
      ]
     },
     "execution_count": 4,
     "metadata": {},
     "output_type": "execute_result"
    }
   ],
   "source": [
    "t1=10,20,30\n",
    "t1\n",
    "type (t1)"
   ]
  },
  {
   "cell_type": "code",
   "execution_count": 5,
   "id": "ff4c4a4f",
   "metadata": {
    "scrolled": true
   },
   "outputs": [
    {
     "name": "stdout",
     "output_type": "stream",
     "text": [
      "False\n"
     ]
    }
   ],
   "source": [
    "print(all(tup))"
   ]
  },
  {
   "cell_type": "code",
   "execution_count": 11,
   "id": "7fa1f391",
   "metadata": {},
   "outputs": [
    {
     "name": "stdout",
     "output_type": "stream",
     "text": [
      "True\n"
     ]
    }
   ],
   "source": [
    "print(all(t1))"
   ]
  },
  {
   "cell_type": "code",
   "execution_count": 12,
   "id": "e9d0d79f",
   "metadata": {},
   "outputs": [
    {
     "name": "stdout",
     "output_type": "stream",
     "text": [
      "True\n"
     ]
    }
   ],
   "source": [
    "print(any(tup))"
   ]
  },
  {
   "cell_type": "code",
   "execution_count": 13,
   "id": "b0cc6826",
   "metadata": {},
   "outputs": [
    {
     "name": "stdout",
     "output_type": "stream",
     "text": [
      "True\n"
     ]
    }
   ],
   "source": [
    "print(any(t1))"
   ]
  },
  {
   "cell_type": "markdown",
   "id": "a89d763b",
   "metadata": {},
   "source": [
    "# Extracting individual elements"
   ]
  },
  {
   "cell_type": "code",
   "execution_count": 6,
   "id": "e4a2511c",
   "metadata": {},
   "outputs": [
    {
     "data": {
      "text/plain": [
       "0"
      ]
     },
     "execution_count": 6,
     "metadata": {},
     "output_type": "execute_result"
    }
   ],
   "source": [
    "tup[0]"
   ]
  },
  {
   "cell_type": "code",
   "execution_count": 7,
   "id": "89d64805",
   "metadata": {},
   "outputs": [
    {
     "data": {
      "text/plain": [
       "'3i+4'"
      ]
     },
     "execution_count": 7,
     "metadata": {},
     "output_type": "execute_result"
    }
   ],
   "source": [
    "tup[5]"
   ]
  },
  {
   "cell_type": "code",
   "execution_count": 8,
   "id": "b7d4bfa4",
   "metadata": {},
   "outputs": [
    {
     "data": {
      "text/plain": [
       "'3i+4'"
      ]
     },
     "execution_count": 8,
     "metadata": {},
     "output_type": "execute_result"
    }
   ],
   "source": [
    "tup[-2]"
   ]
  },
  {
   "cell_type": "code",
   "execution_count": 9,
   "id": "c8121afc",
   "metadata": {},
   "outputs": [
    {
     "data": {
      "text/plain": [
       "(4, True, 'Akshen', 3.14)"
      ]
     },
     "execution_count": 9,
     "metadata": {},
     "output_type": "execute_result"
    }
   ],
   "source": [
    "tup[1:5]"
   ]
  },
  {
   "cell_type": "markdown",
   "id": "a3c78c4e",
   "metadata": {},
   "source": [
    "# Tuple cannot be modified"
   ]
  },
  {
   "cell_type": "code",
   "execution_count": 10,
   "id": "2c0d37ee",
   "metadata": {},
   "outputs": [
    {
     "ename": "TypeError",
     "evalue": "'tuple' object does not support item assignment",
     "output_type": "error",
     "traceback": [
      "\u001b[1;31m---------------------------------------------------------------------------\u001b[0m",
      "\u001b[1;31mTypeError\u001b[0m                                 Traceback (most recent call last)",
      "Cell \u001b[1;32mIn[10], line 1\u001b[0m\n\u001b[1;32m----> 1\u001b[0m tup[\u001b[38;5;241m0\u001b[39m]\u001b[38;5;241m=\u001b[39m\u001b[38;5;241m9\u001b[39m\n",
      "\u001b[1;31mTypeError\u001b[0m: 'tuple' object does not support item assignment"
     ]
    }
   ],
   "source": [
    "tup[0]=9"
   ]
  },
  {
   "cell_type": "markdown",
   "id": "e9ceb729",
   "metadata": {},
   "source": [
    "# Combine"
   ]
  },
  {
   "cell_type": "code",
   "execution_count": 15,
   "id": "0a0944fa",
   "metadata": {},
   "outputs": [
    {
     "data": {
      "text/plain": [
       "(1, 2, 5, 6, 8, 4, 3, 'Akshen')"
      ]
     },
     "execution_count": 15,
     "metadata": {},
     "output_type": "execute_result"
    }
   ],
   "source": [
    "tup1=(1,2,5,6)\n",
    "tup2=(8,4,3,\"Akshen\")\n",
    "tup1+tup2"
   ]
  },
  {
   "cell_type": "code",
   "execution_count": 16,
   "id": "19dacbc8",
   "metadata": {},
   "outputs": [
    {
     "data": {
      "text/plain": [
       "(8, 4, 3, 'Akshen', 1, 2, 5, 6)"
      ]
     },
     "execution_count": 16,
     "metadata": {},
     "output_type": "execute_result"
    }
   ],
   "source": [
    "tup2+tup1"
   ]
  },
  {
   "cell_type": "code",
   "execution_count": 17,
   "id": "3bd673c4",
   "metadata": {},
   "outputs": [
    {
     "data": {
      "text/plain": [
       "((1, 2, 5, 6), (8, 4, 3, 'Akshen'))"
      ]
     },
     "execution_count": 17,
     "metadata": {},
     "output_type": "execute_result"
    }
   ],
   "source": [
    "tup1, tup2"
   ]
  },
  {
   "cell_type": "code",
   "execution_count": 18,
   "id": "f83c5f15",
   "metadata": {},
   "outputs": [
    {
     "data": {
      "text/plain": [
       "4"
      ]
     },
     "execution_count": 18,
     "metadata": {},
     "output_type": "execute_result"
    }
   ],
   "source": [
    "len(tup1)\n",
    "len(tup2)"
   ]
  },
  {
   "cell_type": "markdown",
   "id": "3c32fc7b",
   "metadata": {},
   "source": [
    "# Repeating & Concatenating/Combine"
   ]
  },
  {
   "cell_type": "code",
   "execution_count": 19,
   "id": "2c36b065",
   "metadata": {},
   "outputs": [
    {
     "data": {
      "text/plain": [
       "(1, 2, 5, 6, 1, 2, 5, 6)"
      ]
     },
     "execution_count": 19,
     "metadata": {},
     "output_type": "execute_result"
    }
   ],
   "source": [
    "tup1*2"
   ]
  },
  {
   "cell_type": "code",
   "execution_count": 20,
   "id": "19df2e4b",
   "metadata": {},
   "outputs": [
    {
     "data": {
      "text/plain": [
       "(1, 2, 5, 6, 1, 2, 5, 6, 1, 2, 5, 6, 8, 4, 3, 'Akshen', 8, 4, 3, 'Akshen')"
      ]
     },
     "execution_count": 20,
     "metadata": {},
     "output_type": "execute_result"
    }
   ],
   "source": [
    "tup1*3 + tup2*2"
   ]
  },
  {
   "cell_type": "markdown",
   "id": "804bab82",
   "metadata": {},
   "source": [
    "# Min, Max, Sum, Sorted"
   ]
  },
  {
   "cell_type": "code",
   "execution_count": 21,
   "id": "ba2ce453",
   "metadata": {},
   "outputs": [
    {
     "data": {
      "text/plain": [
       "1"
      ]
     },
     "execution_count": 21,
     "metadata": {},
     "output_type": "execute_result"
    }
   ],
   "source": [
    "min(tup1)"
   ]
  },
  {
   "cell_type": "code",
   "execution_count": 22,
   "id": "2f7e5921",
   "metadata": {},
   "outputs": [
    {
     "data": {
      "text/plain": [
       "6"
      ]
     },
     "execution_count": 22,
     "metadata": {},
     "output_type": "execute_result"
    }
   ],
   "source": [
    "max(tup1)"
   ]
  },
  {
   "cell_type": "code",
   "execution_count": 23,
   "id": "955e868b",
   "metadata": {
    "scrolled": true
   },
   "outputs": [
    {
     "data": {
      "text/plain": [
       "14"
      ]
     },
     "execution_count": 23,
     "metadata": {},
     "output_type": "execute_result"
    }
   ],
   "source": [
    "sum(tup1)"
   ]
  },
  {
   "cell_type": "code",
   "execution_count": 24,
   "id": "940ad516",
   "metadata": {},
   "outputs": [
    {
     "data": {
      "text/plain": [
       "[1, 2, 5, 6]"
      ]
     },
     "execution_count": 24,
     "metadata": {},
     "output_type": "execute_result"
    }
   ],
   "source": [
    "sorted(tup1)"
   ]
  },
  {
   "cell_type": "code",
   "execution_count": 25,
   "id": "eee8d3fa",
   "metadata": {},
   "outputs": [
    {
     "data": {
      "text/plain": [
       "[6, 5, 2, 1]"
      ]
     },
     "execution_count": 25,
     "metadata": {},
     "output_type": "execute_result"
    }
   ],
   "source": [
    "sorted(tup1, reverse=True)"
   ]
  },
  {
   "cell_type": "markdown",
   "id": "c6936edd",
   "metadata": {},
   "source": [
    "# list to tuple"
   ]
  },
  {
   "cell_type": "code",
   "execution_count": 28,
   "id": "93ee1e8f",
   "metadata": {},
   "outputs": [
    {
     "name": "stdout",
     "output_type": "stream",
     "text": [
      "<class 'list'>\n",
      "<class 'tuple'>\n"
     ]
    }
   ],
   "source": [
    "a=[1,2,3,4,5]\n",
    "print(type(a))\n",
    "b=tuple(a)\n",
    "print(type(b))"
   ]
  },
  {
   "cell_type": "markdown",
   "id": "c4873419",
   "metadata": {},
   "source": [
    "# enumerate "
   ]
  },
  {
   "cell_type": "code",
   "execution_count": 31,
   "id": "e0553e32",
   "metadata": {},
   "outputs": [
    {
     "data": {
      "text/plain": [
       "[(0, 1), (1, 2), (2, 3), (3, 4), (4, 5)]"
      ]
     },
     "execution_count": 31,
     "metadata": {},
     "output_type": "execute_result"
    }
   ],
   "source": [
    "c=list(enumerate (b))\n",
    "c"
   ]
  },
  {
   "cell_type": "code",
   "execution_count": null,
   "id": "6d5269d4",
   "metadata": {},
   "outputs": [],
   "source": []
  }
 ],
 "metadata": {
  "kernelspec": {
   "display_name": "Python 3 (ipykernel)",
   "language": "python",
   "name": "python3"
  },
  "language_info": {
   "codemirror_mode": {
    "name": "ipython",
    "version": 3
   },
   "file_extension": ".py",
   "mimetype": "text/x-python",
   "name": "python",
   "nbconvert_exporter": "python",
   "pygments_lexer": "ipython3",
   "version": "3.11.4"
  }
 },
 "nbformat": 4,
 "nbformat_minor": 5
}
