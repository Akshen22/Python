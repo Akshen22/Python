{
 "cells": [
  {
   "cell_type": "code",
   "execution_count": 1,
   "id": "2de7d25f",
   "metadata": {
    "collapsed": true
   },
   "outputs": [
    {
     "name": "stdout",
     "output_type": "stream",
     "text": [
      "0\n",
      "1\n",
      "2\n",
      "3\n",
      "4\n",
      "5\n",
      "6\n",
      "7\n",
      "8\n",
      "9\n",
      "10\n"
     ]
    }
   ],
   "source": [
    "# while loop\n",
    "a = 0\n",
    "\n",
    "while a<= 10:\n",
    "    print(a)\n",
    "    a += 1"
   ]
  },
  {
   "cell_type": "code",
   "execution_count": 2,
   "id": "922c421b",
   "metadata": {
    "collapsed": true
   },
   "outputs": [
    {
     "name": "stdout",
     "output_type": "stream",
     "text": [
      "2\n",
      "4\n",
      "6\n",
      "8\n",
      "10\n"
     ]
    }
   ],
   "source": [
    "a = 1\n",
    "while a<= 10:\n",
    "    if a %2 == 0:\n",
    "        print(a)\n",
    "    a += 1"
   ]
  },
  {
   "cell_type": "code",
   "execution_count": 10,
   "id": "de9af3f0",
   "metadata": {
    "collapsed": true
   },
   "outputs": [
    {
     "name": "stdout",
     "output_type": "stream",
     "text": [
      "Enter the num - 10\n",
      "Enter the num - 20\n",
      "Enter the num - 15\n",
      "Enter the num - 6\n",
      "Enter the num - 2\n"
     ]
    },
    {
     "data": {
      "text/plain": [
       "10.6"
      ]
     },
     "execution_count": 10,
     "metadata": {},
     "output_type": "execute_result"
    }
   ],
   "source": [
    "# Take 5 number as input from the user and find their average\n",
    "\n",
    "a = 0\n",
    "s = 0\n",
    "\n",
    "while a < 5:\n",
    "    val = float(input(\"Enter the num - \"))\n",
    "    s += val  # s = 10  , s = 30\n",
    "    a += 1  # a = 1, a = 2\n",
    "\n",
    "s/5"
   ]
  },
  {
   "cell_type": "code",
   "execution_count": null,
   "id": "aba29c2d",
   "metadata": {},
   "outputs": [],
   "source": [
    "### break and continue"
   ]
  },
  {
   "cell_type": "code",
   "execution_count": 9,
   "id": "5a2d0f66",
   "metadata": {},
   "outputs": [
    {
     "name": "stdout",
     "output_type": "stream",
     "text": [
      "1\n",
      "2\n",
      "3\n",
      "4\n",
      "5\n"
     ]
    }
   ],
   "source": [
    "a = 1\n",
    "while a<= 10:\n",
    "    if a%6 == 0:\n",
    "        break\n",
    "    print(a)\n",
    "    a += 1"
   ]
  },
  {
   "cell_type": "code",
   "execution_count": null,
   "id": "8c9db1d8",
   "metadata": {},
   "outputs": [],
   "source": [
    "# take 5 numbers as input , but if we see a negative number \n",
    "# break the loop and print the average non-negative numbers"
   ]
  },
  {
   "cell_type": "code",
   "execution_count": 1,
   "id": "190a2c7e",
   "metadata": {},
   "outputs": [
    {
     "name": "stdout",
     "output_type": "stream",
     "text": [
      "Enter the num - 5\n",
      "Enter the num - 10\n",
      "Enter the num - 15\n",
      "Enter the num - 20\n",
      "Enter the num - 25\n",
      "15.0\n"
     ]
    }
   ],
   "source": [
    "s = 0\n",
    "c = 0\n",
    "\n",
    "while c < 5:  \n",
    "    num = float(input(\"Enter the num - \"))\n",
    "    \n",
    "    if num < 0:\n",
    "        break\n",
    "        \n",
    "    s += num\n",
    "    c += 1\n",
    "    \n",
    "if c == 0:\n",
    "    print(\"No positive value given\")\n",
    "else:\n",
    "    print(s/c)\n",
    "    "
   ]
  },
  {
   "cell_type": "code",
   "execution_count": 15,
   "id": "89756ee7",
   "metadata": {
    "collapsed": true
   },
   "outputs": [
    {
     "name": "stdout",
     "output_type": "stream",
     "text": [
      "Enter the num - 10\n",
      "Enter the num - -5\n",
      "Enter a positive value\n",
      "Enter the num - 7\n",
      "Enter the num - 8\n",
      "Enter the num - -1\n",
      "Enter a positive value\n",
      "Enter the num - 10\n",
      "Enter the num - 20\n",
      "11.0\n"
     ]
    }
   ],
   "source": [
    "s = 0\n",
    "c = 0\n",
    "\n",
    "while c < 5:  \n",
    "    num = float(input(\"Enter the num - \")) \n",
    "    \n",
    "    if num < 0:\n",
    "        print(\"Enter a positive value\")\n",
    "        continue\n",
    "        \n",
    "    s += num\n",
    "    c += 1\n",
    "\n",
    "print(s/c)\n",
    "    "
   ]
  },
  {
   "cell_type": "code",
   "execution_count": 18,
   "id": "55245b31",
   "metadata": {
    "collapsed": true
   },
   "outputs": [
    {
     "name": "stdout",
     "output_type": "stream",
     "text": [
      "Enter the num - 10\n",
      "Enter the num - -5\n",
      "Enter a positive value\n",
      "Enter the num - 10\n",
      "Enter the num - -5\n",
      "Enter a positive value\n",
      "Enter the num - 10\n"
     ]
    }
   ],
   "source": [
    "s = 0\n",
    "p_c = 0\n",
    "n_c = 0\n",
    "\n",
    "c = 0\n",
    "\n",
    "while c < 5: \n",
    "    num = float(input(\"Enter the num - \")) \n",
    "    if num < 0:\n",
    "        n_c += 1\n",
    "        c += 1\n",
    "        print(\"Enter a positive value\")\n",
    "        continue\n",
    "        \n",
    "    s += num\n",
    "    p_c += 1\n",
    "    c += 1\n"
   ]
  },
  {
   "cell_type": "code",
   "execution_count": 19,
   "id": "cdf10021",
   "metadata": {},
   "outputs": [
    {
     "data": {
      "text/plain": [
       "3"
      ]
     },
     "execution_count": 19,
     "metadata": {},
     "output_type": "execute_result"
    }
   ],
   "source": [
    "p_c"
   ]
  },
  {
   "cell_type": "code",
   "execution_count": 20,
   "id": "b249c116",
   "metadata": {},
   "outputs": [
    {
     "data": {
      "text/plain": [
       "2"
      ]
     },
     "execution_count": 20,
     "metadata": {},
     "output_type": "execute_result"
    }
   ],
   "source": [
    "n_c"
   ]
  },
  {
   "cell_type": "code",
   "execution_count": 21,
   "id": "5b267e3a",
   "metadata": {},
   "outputs": [
    {
     "data": {
      "text/plain": [
       "30.0"
      ]
     },
     "execution_count": 21,
     "metadata": {},
     "output_type": "execute_result"
    }
   ],
   "source": [
    "s"
   ]
  },
  {
   "cell_type": "code",
   "execution_count": 22,
   "id": "978e3273",
   "metadata": {},
   "outputs": [
    {
     "name": "stdout",
     "output_type": "stream",
     "text": [
      "p\n",
      "y\n",
      "t\n",
      "h\n",
      "o\n",
      "n\n"
     ]
    }
   ],
   "source": [
    "s = \"pYtHon\"\n",
    "\n",
    "for i in s:\n",
    "    print(i)"
   ]
  },
  {
   "cell_type": "code",
   "execution_count": 23,
   "id": "920be8e8",
   "metadata": {
    "collapsed": true
   },
   "outputs": [
    {
     "name": "stdout",
     "output_type": "stream",
     "text": [
      "Upper count is 2\n",
      "Lower count is 4\n"
     ]
    }
   ],
   "source": [
    "s = \"pYtHon\"\n",
    "\n",
    "u = 0\n",
    "l = 0\n",
    "\n",
    "for i in s:\n",
    "    if i.isupper():\n",
    "        u += 1\n",
    "    elif i.islower():\n",
    "        l += 1\n",
    "print(f\"Upper count is {u}\")\n",
    "print(f\"Lower count is {l}\")"
   ]
  },
  {
   "cell_type": "code",
   "execution_count": 26,
   "id": "3b0b8a23",
   "metadata": {
    "collapsed": true
   },
   "outputs": [
    {
     "name": "stdout",
     "output_type": "stream",
     "text": [
      "10\n",
      "20\n",
      "90\n",
      "60\n"
     ]
    }
   ],
   "source": [
    "my_set = {10,20,60,90}\n",
    "for i in my_set:\n",
    "    print(i)"
   ]
  },
  {
   "cell_type": "code",
   "execution_count": 30,
   "id": "38b2570b",
   "metadata": {},
   "outputs": [
    {
     "name": "stdout",
     "output_type": "stream",
     "text": [
      "A 20\n",
      "B 40\n"
     ]
    }
   ],
   "source": [
    "d = {\"A\" : 20, \"B\" : 40}\n",
    "for i in d:\n",
    "    print(i, d[i])"
   ]
  },
  {
   "cell_type": "code",
   "execution_count": 31,
   "id": "722212aa",
   "metadata": {},
   "outputs": [
    {
     "name": "stdout",
     "output_type": "stream",
     "text": [
      "Count of pass 3\n",
      "count of failed 3\n"
     ]
    }
   ],
   "source": [
    "marks = [10,30, 23, 45, 22, 34]\n",
    "# print the count of passed and failed students\n",
    "\n",
    "p = 0\n",
    "f = 0\n",
    "\n",
    "for i in marks:\n",
    "    if i >= 30:\n",
    "        p += 1\n",
    "    else:\n",
    "        f += 1\n",
    "print(f\"Count of pass {p}\")\n",
    "print(f\"count of failed {f}\")"
   ]
  },
  {
   "cell_type": "code",
   "execution_count": 35,
   "id": "a60e7f7e",
   "metadata": {},
   "outputs": [
    {
     "name": "stdout",
     "output_type": "stream",
     "text": [
      "S1 10\n",
      "S4 22\n"
     ]
    }
   ],
   "source": [
    "d1 = {\"S1\" : 10,\n",
    "     \"S2\" : 30,\n",
    "     \"S3\" : 45,\n",
    "     \"S4\" : 22,\n",
    "     \"S5\" : 34}\n",
    "# print the name and marks of students who failed\n",
    "\n",
    "for i in d1:\n",
    "    if d1[i]< 30:\n",
    "        print(i, d1[i])"
   ]
  },
  {
   "cell_type": "code",
   "execution_count": 44,
   "id": "a34826ee",
   "metadata": {},
   "outputs": [
    {
     "name": "stdout",
     "output_type": "stream",
     "text": [
      "Enter the num - 3\n",
      "6\n"
     ]
    }
   ],
   "source": [
    "# find the factorial of a given number\n",
    "\n",
    "num = int(input(\"Enter the num - \"))  \n",
    "if num >= 0:\n",
    "    f = 1\n",
    "    for i in range(1,num+1):\n",
    "        f *= i  # f = 1, f = 2, f = 6\n",
    "    print(f)\n",
    "else:\n",
    "    print(\"Factorial doesn't exists for neg numbers\")"
   ]
  },
  {
   "cell_type": "code",
   "execution_count": 50,
   "id": "3220eea6",
   "metadata": {},
   "outputs": [
    {
     "name": "stdout",
     "output_type": "stream",
     "text": [
      "Enter the num - 10\n"
     ]
    },
    {
     "data": {
      "text/plain": [
       "[1, 2, 5]"
      ]
     },
     "execution_count": 50,
     "metadata": {},
     "output_type": "execute_result"
    }
   ],
   "source": [
    "# find all the divisors of a given number\n",
    "\n",
    "num = int(input(\"Enter the num - \")) \n",
    "\n",
    "fac_list = []\n",
    "for i in range(1, num): \n",
    "    if num%i == 0:\n",
    "        fac_list.append(i)\n",
    "fac_list"
   ]
  },
  {
   "cell_type": "code",
   "execution_count": 57,
   "id": "856d6274",
   "metadata": {
    "collapsed": true
   },
   "outputs": [
    {
     "name": "stdout",
     "output_type": "stream",
     "text": [
      "Enter the num - 15\n",
      "Not a prime\n"
     ]
    }
   ],
   "source": [
    "# check whether a number is prime or not\n",
    "num = int(input(\"Enter the num - \")) \n",
    "\n",
    "for i in range(2,num):\n",
    "    if num %i == 0:\n",
    "        print(\"Not a prime\")\n",
    "        break\n",
    "else:\n",
    "    print(\"prime\")\n",
    "        "
   ]
  },
  {
   "cell_type": "code",
   "execution_count": 58,
   "id": "708ef1ed",
   "metadata": {
    "collapsed": true
   },
   "outputs": [
    {
     "name": "stdout",
     "output_type": "stream",
     "text": [
      "5\n",
      "10\n",
      "15\n",
      "20\n",
      "25\n",
      "30\n",
      "35\n",
      "40\n",
      "45\n",
      "50\n"
     ]
    }
   ],
   "source": [
    "# print the table of 5 using for loop\n",
    "for i in range(5, 51, 5):\n",
    "    print(i)"
   ]
  },
  {
   "cell_type": "code",
   "execution_count": 59,
   "id": "3f1c4cf1",
   "metadata": {
    "collapsed": true
   },
   "outputs": [
    {
     "name": "stdout",
     "output_type": "stream",
     "text": [
      "5\n",
      "10\n",
      "15\n",
      "20\n",
      "25\n",
      "30\n",
      "35\n",
      "40\n",
      "45\n",
      "50\n"
     ]
    }
   ],
   "source": [
    "a = 5\n",
    "for i in range(1,11):\n",
    "    print(a * i)\n",
    "    "
   ]
  },
  {
   "cell_type": "code",
   "execution_count": 61,
   "id": "f9f17cf4",
   "metadata": {},
   "outputs": [
    {
     "name": "stdout",
     "output_type": "stream",
     "text": [
      " 5 x 1 = 5\n",
      " 5 x 2 = 10\n",
      " 5 x 3 = 15\n",
      " 5 x 4 = 20\n",
      " 5 x 5 = 25\n",
      " 5 x 6 = 30\n",
      " 5 x 7 = 35\n",
      " 5 x 8 = 40\n",
      " 5 x 9 = 45\n",
      " 5 x 10 = 50\n",
      "------------------------------\n",
      " 6 x 1 = 6\n",
      " 6 x 2 = 12\n",
      " 6 x 3 = 18\n",
      " 6 x 4 = 24\n",
      " 6 x 5 = 30\n",
      " 6 x 6 = 36\n",
      " 6 x 7 = 42\n",
      " 6 x 8 = 48\n",
      " 6 x 9 = 54\n",
      " 6 x 10 = 60\n",
      "------------------------------\n",
      " 7 x 1 = 7\n",
      " 7 x 2 = 14\n",
      " 7 x 3 = 21\n",
      " 7 x 4 = 28\n",
      " 7 x 5 = 35\n",
      " 7 x 6 = 42\n",
      " 7 x 7 = 49\n",
      " 7 x 8 = 56\n",
      " 7 x 9 = 63\n",
      " 7 x 10 = 70\n",
      "------------------------------\n",
      " 8 x 1 = 8\n",
      " 8 x 2 = 16\n",
      " 8 x 3 = 24\n",
      " 8 x 4 = 32\n",
      " 8 x 5 = 40\n",
      " 8 x 6 = 48\n",
      " 8 x 7 = 56\n",
      " 8 x 8 = 64\n",
      " 8 x 9 = 72\n",
      " 8 x 10 = 80\n",
      "------------------------------\n",
      " 9 x 1 = 9\n",
      " 9 x 2 = 18\n",
      " 9 x 3 = 27\n",
      " 9 x 4 = 36\n",
      " 9 x 5 = 45\n",
      " 9 x 6 = 54\n",
      " 9 x 7 = 63\n",
      " 9 x 8 = 72\n",
      " 9 x 9 = 81\n",
      " 9 x 10 = 90\n",
      "------------------------------\n",
      " 10 x 1 = 10\n",
      " 10 x 2 = 20\n",
      " 10 x 3 = 30\n",
      " 10 x 4 = 40\n",
      " 10 x 5 = 50\n",
      " 10 x 6 = 60\n",
      " 10 x 7 = 70\n",
      " 10 x 8 = 80\n",
      " 10 x 9 = 90\n",
      " 10 x 10 = 100\n",
      "------------------------------\n"
     ]
    }
   ],
   "source": [
    "# print the table from 5 to 10\n",
    "for i in range(5, 11):\n",
    "    for j in range(1,11):\n",
    "        print(f\" {i} x {j} = {i*j}\")\n",
    "    print(\"-\"*30)\n",
    "    "
   ]
  },
  {
   "cell_type": "code",
   "execution_count": null,
   "id": "bc1258f4",
   "metadata": {},
   "outputs": [],
   "source": []
  },
  {
   "cell_type": "code",
   "execution_count": 62,
   "id": "d3075cfa",
   "metadata": {},
   "outputs": [
    {
     "data": {
      "text/plain": [
       "['fail', 'pass', 'pass', 'fail']"
      ]
     },
     "execution_count": 62,
     "metadata": {},
     "output_type": "execute_result"
    }
   ],
   "source": [
    "marks = [21, 32, 41, 25]\n",
    "\n",
    "[  \"pass\" if i >=30 else \"fail\"     for i in marks ]"
   ]
  },
  {
   "cell_type": "code",
   "execution_count": 63,
   "id": "885ba887",
   "metadata": {},
   "outputs": [
    {
     "data": {
      "text/plain": [
       "[1, 4, 9, 16, 25, 36, 49, 64, 81, 100]"
      ]
     },
     "execution_count": 63,
     "metadata": {},
     "output_type": "execute_result"
    }
   ],
   "source": [
    "[   i**2  for i in range(1,11)]"
   ]
  },
  {
   "cell_type": "code",
   "execution_count": null,
   "id": "d5aabb2c",
   "metadata": {},
   "outputs": [],
   "source": [
    "[ (21, \"fail\"),  (32, \"pass\"), (41, \"pass\"), (25, \"fail\")]"
   ]
  },
  {
   "cell_type": "code",
   "execution_count": 64,
   "id": "ab029978",
   "metadata": {},
   "outputs": [
    {
     "data": {
      "text/plain": [
       "[(21, 'fail'), (32, 'pass'), (41, 'pass'), (25, 'fail')]"
      ]
     },
     "execution_count": 64,
     "metadata": {},
     "output_type": "execute_result"
    }
   ],
   "source": [
    "[  (i,\"pass\") if i >=30 else ( i,\"fail\")     for i in marks ]"
   ]
  },
  {
   "cell_type": "code",
   "execution_count": 67,
   "id": "d5ed7cee",
   "metadata": {},
   "outputs": [
    {
     "name": "stdout",
     "output_type": "stream",
     "text": [
      "[5, 10, 15, 20, 25, 30, 35, 40, 45, 50, 6, 12, 18, 24, 30, 36, 42, 48, 54, 60, 7, 14, 21, 28, 35, 42, 49, 56, 63, 70, 8, 16, 24, 32, 40, 48, 56, 64, 72, 80, 9, 18, 27, 36, 45, 54, 63, 72, 81, 90]\n"
     ]
    }
   ],
   "source": [
    "table = [  i*j   for i in range(5,10)      for j in range(1,11)]\n",
    "print(table)"
   ]
  },
  {
   "cell_type": "code",
   "execution_count": 69,
   "id": "b4fef372",
   "metadata": {},
   "outputs": [
    {
     "data": {
      "text/plain": [
       "[[5, 10, 15, 20, 25, 30, 35, 40, 45, 50],\n",
       " [6, 12, 18, 24, 30, 36, 42, 48, 54, 60],\n",
       " [7, 14, 21, 28, 35, 42, 49, 56, 63, 70],\n",
       " [8, 16, 24, 32, 40, 48, 56, 64, 72, 80],\n",
       " [9, 18, 27, 36, 45, 54, 63, 72, 81, 90],\n",
       " [10, 20, 30, 40, 50, 60, 70, 80, 90, 100]]"
      ]
     },
     "execution_count": 69,
     "metadata": {},
     "output_type": "execute_result"
    }
   ],
   "source": [
    "[  [   i*j  for j in range(1,11)]            for i in range(5,11)]"
   ]
  },
  {
   "cell_type": "code",
   "execution_count": null,
   "id": "369ca45f",
   "metadata": {},
   "outputs": [],
   "source": [
    "[   final output        loop         filter condition]"
   ]
  },
  {
   "cell_type": "code",
   "execution_count": 71,
   "id": "62db0a93",
   "metadata": {},
   "outputs": [],
   "source": [
    "# [ [ i*j ]  for i in range(5,10)      for j in range(1,11) ]"
   ]
  },
  {
   "cell_type": "code",
   "execution_count": 74,
   "id": "b3db0a59",
   "metadata": {},
   "outputs": [
    {
     "data": {
      "text/plain": [
       "{2: 4, 4: 16, 6: 36, 8: 64, 10: 100}"
      ]
     },
     "execution_count": 74,
     "metadata": {},
     "output_type": "execute_result"
    }
   ],
   "source": [
    "# dict comprehension\n",
    "{   i : i**2        for i in range(1,11)   if i%2==0}"
   ]
  },
  {
   "cell_type": "code",
   "execution_count": 75,
   "id": "3b9eae16",
   "metadata": {},
   "outputs": [
    {
     "data": {
      "text/plain": [
       "{4, 16, 36, 64, 100}"
      ]
     },
     "execution_count": 75,
     "metadata": {},
     "output_type": "execute_result"
    }
   ],
   "source": [
    "{i**2        for i in range(1,11)   if i%2==0}"
   ]
  },
  {
   "cell_type": "code",
   "execution_count": 78,
   "id": "3c143f50",
   "metadata": {},
   "outputs": [
    {
     "data": {
      "text/plain": [
       "(4, 16, 36, 64, 100)"
      ]
     },
     "execution_count": 78,
     "metadata": {},
     "output_type": "execute_result"
    }
   ],
   "source": [
    "t = (i**2        for i in range(1,11)   if i%2==0)\n",
    "tuple(t)"
   ]
  },
  {
   "cell_type": "code",
   "execution_count": null,
   "id": "383fa133",
   "metadata": {},
   "outputs": [],
   "source": []
  },
  {
   "cell_type": "code",
   "execution_count": 79,
   "id": "d121b17f",
   "metadata": {},
   "outputs": [],
   "source": [
    "def factorial(num):\n",
    "    if num >= 0:\n",
    "        f = 1\n",
    "        for i in range(1,num+1):\n",
    "            f *= i  # f = 1, f = 2, f = 6\n",
    "        print(f)\n",
    "    else:\n",
    "        print(\"Factorial doesn't exists for neg numbers\")"
   ]
  },
  {
   "cell_type": "code",
   "execution_count": 80,
   "id": "d9eec5de",
   "metadata": {},
   "outputs": [
    {
     "name": "stdout",
     "output_type": "stream",
     "text": [
      "24\n"
     ]
    }
   ],
   "source": [
    "factorial(4)"
   ]
  },
  {
   "cell_type": "code",
   "execution_count": 82,
   "id": "9d6d9bb6",
   "metadata": {},
   "outputs": [
    {
     "name": "stdout",
     "output_type": "stream",
     "text": [
      "Factorial doesn't exists for neg numbers\n"
     ]
    }
   ],
   "source": [
    "factorial(-1)"
   ]
  },
  {
   "cell_type": "code",
   "execution_count": 83,
   "id": "202a8719",
   "metadata": {},
   "outputs": [],
   "source": [
    "def Prime(num):\n",
    "    # check whether a number is prime or not\n",
    "\n",
    "    for i in range(2,num):\n",
    "        if num %i == 0:\n",
    "            print(\"Not a prime\")\n",
    "            break\n",
    "    else:\n",
    "        print(\"prime\")\n",
    "        "
   ]
  },
  {
   "cell_type": "code",
   "execution_count": 84,
   "id": "99fd41c1",
   "metadata": {},
   "outputs": [
    {
     "name": "stdout",
     "output_type": "stream",
     "text": [
      "Not a prime\n"
     ]
    }
   ],
   "source": [
    "Prime(9)"
   ]
  },
  {
   "cell_type": "code",
   "execution_count": 85,
   "id": "32e31721",
   "metadata": {},
   "outputs": [
    {
     "name": "stdout",
     "output_type": "stream",
     "text": [
      "prime\n"
     ]
    }
   ],
   "source": [
    "Prime(7)"
   ]
  },
  {
   "cell_type": "code",
   "execution_count": null,
   "id": "eb7a5b48",
   "metadata": {},
   "outputs": [],
   "source": []
  }
 ],
 "metadata": {
  "kernelspec": {
   "display_name": "Python 3 (ipykernel)",
   "language": "python",
   "name": "python3"
  },
  "language_info": {
   "codemirror_mode": {
    "name": "ipython",
    "version": 3
   },
   "file_extension": ".py",
   "mimetype": "text/x-python",
   "name": "python",
   "nbconvert_exporter": "python",
   "pygments_lexer": "ipython3",
   "version": "3.11.4"
  }
 },
 "nbformat": 4,
 "nbformat_minor": 5
}
