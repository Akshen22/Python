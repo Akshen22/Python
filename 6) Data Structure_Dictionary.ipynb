{
 "cells": [
  {
   "cell_type": "markdown",
   "id": "c6fec85c",
   "metadata": {},
   "source": [
    "# Data Structure_Dictionary"
   ]
  },
  {
   "cell_type": "markdown",
   "id": "60b462ae",
   "metadata": {},
   "source": [
    "keys(), values, items, get, pop, popitem, clear, copy,fromkeys, dict.fromkeys(), {**d1,**d2}, dict(), zip, range"
   ]
  },
  {
   "cell_type": "code",
   "execution_count": 1,
   "id": "1ca5b394",
   "metadata": {},
   "outputs": [
    {
     "data": {
      "text/plain": [
       "dict"
      ]
     },
     "execution_count": 1,
     "metadata": {},
     "output_type": "execute_result"
    }
   ],
   "source": [
    "d={}\n",
    "type(d)"
   ]
  },
  {
   "cell_type": "code",
   "execution_count": 2,
   "id": "54f7da93",
   "metadata": {},
   "outputs": [
    {
     "data": {
      "text/plain": [
       "{'Apple': 250, 'Orange': 500, 'Banana': 150, 'Grapes': 300}"
      ]
     },
     "execution_count": 2,
     "metadata": {},
     "output_type": "execute_result"
    }
   ],
   "source": [
    "fruit={\"Apple\": 250, \"Orange\": 500, \"Banana\": 150, \"Grapes\": 400, \"Grapes\":300}\n",
    "fruit"
   ]
  },
  {
   "cell_type": "code",
   "execution_count": 11,
   "id": "2a11e23e",
   "metadata": {},
   "outputs": [
    {
     "data": {
      "text/plain": [
       "{'Apple': 250,\n",
       " 'Orange': 500,\n",
       " 'Banana': 150,\n",
       " 'Grapes': 300,\n",
       " 22: 2000,\n",
       " 2282000: 'Birthday'}"
      ]
     },
     "execution_count": 11,
     "metadata": {},
     "output_type": "execute_result"
    }
   ],
   "source": [
    "fruit={\"Apple\": 250, \n",
    "       \"Orange\": 500, \n",
    "       \"Banana\": 150, \n",
    "       \"Grapes\": 400, \n",
    "       \"Grapes\":300,\n",
    "        22:2000,\n",
    "       (22_8_2000): \"Birthday\"}\n",
    "fruit\n",
    "#cannot write in list directly for that there's a rule"
   ]
  },
  {
   "cell_type": "code",
   "execution_count": 12,
   "id": "a5dee2a0",
   "metadata": {},
   "outputs": [
    {
     "data": {
      "text/plain": [
       "6"
      ]
     },
     "execution_count": 12,
     "metadata": {},
     "output_type": "execute_result"
    }
   ],
   "source": [
    "len(fruit)"
   ]
  },
  {
   "cell_type": "code",
   "execution_count": 13,
   "id": "39a74f73",
   "metadata": {},
   "outputs": [
    {
     "data": {
      "text/plain": [
       "dict"
      ]
     },
     "execution_count": 13,
     "metadata": {},
     "output_type": "execute_result"
    }
   ],
   "source": [
    "type(fruit)"
   ]
  },
  {
   "cell_type": "code",
   "execution_count": 14,
   "id": "a088d837",
   "metadata": {},
   "outputs": [
    {
     "data": {
      "text/plain": [
       "dict_keys(['Apple', 'Orange', 'Banana', 'Grapes', 22, 2282000])"
      ]
     },
     "execution_count": 14,
     "metadata": {},
     "output_type": "execute_result"
    }
   ],
   "source": [
    "fruit.keys()"
   ]
  },
  {
   "cell_type": "code",
   "execution_count": 15,
   "id": "90a845e1",
   "metadata": {
    "scrolled": true
   },
   "outputs": [
    {
     "data": {
      "text/plain": [
       "dict_values([250, 500, 150, 300, 2000, 'Birthday'])"
      ]
     },
     "execution_count": 15,
     "metadata": {},
     "output_type": "execute_result"
    }
   ],
   "source": [
    "fruit.values()"
   ]
  },
  {
   "cell_type": "code",
   "execution_count": null,
   "id": "d3ef81ba",
   "metadata": {},
   "outputs": [],
   "source": []
  },
  {
   "cell_type": "code",
   "execution_count": 2,
   "id": "0f99fdb5",
   "metadata": {},
   "outputs": [
    {
     "data": {
      "text/plain": [
       "{'Batch': 'Aug23',\n",
       " 'Student': {'S1', 'S2', 'S3'},\n",
       " 'Teacher': ['T1', 'T2', 'T3'],\n",
       " 'Classes': ('1st', '2nd', '3rd'),\n",
       " 'Started': True,\n",
       " 'Marks': {'ITP': [20, 30, 40], 'NPV': [30, 40, 20]}}"
      ]
     },
     "execution_count": 2,
     "metadata": {},
     "output_type": "execute_result"
    }
   ],
   "source": [
    "#rules for keys - immutable\n",
    "d={\"Batch\": \"Aug23\",               #string\n",
    "   \"Student\": {\"S1\",\"S2\",\"S3\"},    #set\n",
    "   \"Teacher\": [\"T1\",\"T2\",\"T3\"],    #list\n",
    "   \"Classes\": (\"1st\",\"2nd\",\"3rd\"), #tuple\n",
    "   \"Started\": True,                #boolean\n",
    "   \"Marks\":{\"ITP\":[20,30,40], \"NPV\":[30,40,20]}\n",
    "  }\n",
    "d"
   ]
  },
  {
   "cell_type": "code",
   "execution_count": 18,
   "id": "bd3af2d1",
   "metadata": {},
   "outputs": [
    {
     "data": {
      "text/plain": [
       "{'S1', 'S2', 'S3'}"
      ]
     },
     "execution_count": 18,
     "metadata": {},
     "output_type": "execute_result"
    }
   ],
   "source": [
    "d[\"Student\"]"
   ]
  },
  {
   "cell_type": "code",
   "execution_count": 19,
   "id": "c64a90c7",
   "metadata": {},
   "outputs": [
    {
     "data": {
      "text/plain": [
       "'Aug23'"
      ]
     },
     "execution_count": 19,
     "metadata": {},
     "output_type": "execute_result"
    }
   ],
   "source": [
    "d[\"Batch\"]"
   ]
  },
  {
   "cell_type": "code",
   "execution_count": 22,
   "id": "ffcdf0a5",
   "metadata": {},
   "outputs": [
    {
     "data": {
      "text/plain": [
       "{'Batch': 'JUN2023',\n",
       " 'Student': {'S1', 'S2', 'S3'},\n",
       " 'Teacher': ['T1', 'T2', 'T3'],\n",
       " 'Classes': ('1st', '2nd', '3rd'),\n",
       " 'Started': True,\n",
       " 'Marks': {'ITP': [20, 30, 40], 'NPV': [30, 40, 20]}}"
      ]
     },
     "execution_count": 22,
     "metadata": {},
     "output_type": "execute_result"
    }
   ],
   "source": [
    "d[\"Batch\"]=\"JUN2023\"\n",
    "d"
   ]
  },
  {
   "cell_type": "code",
   "execution_count": 30,
   "id": "57bcb421",
   "metadata": {},
   "outputs": [
    {
     "data": {
      "text/plain": [
       "{'Batch': 'JUN2023',\n",
       " 'Student': {'S1', 'S2', 'S3'},\n",
       " 'Teacher': ['T1', 'T2', 'T3'],\n",
       " 'Classes': ('1st', '2nd', '3rd'),\n",
       " 'Started': True,\n",
       " 'Marks': {'ITP': [23, 30, 40], 'NPV': [30, 40, 20]},\n",
       " 'Location': 'Bangalore'}"
      ]
     },
     "execution_count": 30,
     "metadata": {},
     "output_type": "execute_result"
    }
   ],
   "source": [
    "d[\"Location\"]=\"Bangalore\"\n",
    "d"
   ]
  },
  {
   "cell_type": "code",
   "execution_count": 23,
   "id": "2024631b",
   "metadata": {},
   "outputs": [
    {
     "data": {
      "text/plain": [
       "[20, 30, 40]"
      ]
     },
     "execution_count": 23,
     "metadata": {},
     "output_type": "execute_result"
    }
   ],
   "source": [
    "d[\"Marks\"][\"ITP\"]"
   ]
  },
  {
   "cell_type": "code",
   "execution_count": 24,
   "id": "10b10d05",
   "metadata": {},
   "outputs": [
    {
     "data": {
      "text/plain": [
       "20"
      ]
     },
     "execution_count": 24,
     "metadata": {},
     "output_type": "execute_result"
    }
   ],
   "source": [
    "d[\"Marks\"][\"ITP\"][0]"
   ]
  },
  {
   "cell_type": "code",
   "execution_count": 3,
   "id": "6611d92b",
   "metadata": {},
   "outputs": [
    {
     "data": {
      "text/plain": [
       "{'Batch': 'Aug23',\n",
       " 'Student': {'S1', 'S2', 'S3'},\n",
       " 'Teacher': ['T1', 'T2', 'T3'],\n",
       " 'Classes': ('1st', '2nd', '3rd'),\n",
       " 'Started': True,\n",
       " 'Marks': {'ITP': [26, 30, 40], 'NPV': [30, 40, 20]}}"
      ]
     },
     "execution_count": 3,
     "metadata": {},
     "output_type": "execute_result"
    }
   ],
   "source": [
    "d[\"Marks\"][\"ITP\"][0]+=6\n",
    "d"
   ]
  },
  {
   "cell_type": "code",
   "execution_count": 31,
   "id": "f6062ad4",
   "metadata": {},
   "outputs": [
    {
     "name": "stdout",
     "output_type": "stream",
     "text": [
      "['__class__', '__class_getitem__', '__contains__', '__delattr__', '__delitem__', '__dir__', '__doc__', '__eq__', '__format__', '__ge__', '__getattribute__', '__getitem__', '__gt__', '__hash__', '__init__', '__init_subclass__', '__ior__', '__iter__', '__le__', '__len__', '__lt__', '__ne__', '__new__', '__or__', '__reduce__', '__reduce_ex__', '__repr__', '__reversed__', '__ror__', '__setattr__', '__setitem__', '__sizeof__', '__str__', '__subclasshook__', 'clear', 'copy', 'fromkeys', 'get', 'items', 'keys', 'pop', 'popitem', 'setdefault', 'update', 'values']\n"
     ]
    }
   ],
   "source": [
    "print(dir(dict))"
   ]
  },
  {
   "cell_type": "markdown",
   "id": "a88446db",
   "metadata": {},
   "source": [
    "'clear', 'copy', 'fromkeys', 'get', 'items', 'keys', 'pop', 'popitem', 'setdefault', 'update', 'values']"
   ]
  },
  {
   "cell_type": "code",
   "execution_count": 33,
   "id": "626f88a8",
   "metadata": {},
   "outputs": [
    {
     "data": {
      "text/plain": [
       "dict_keys(['Batch', 'Student', 'Teacher', 'Classes', 'Started', 'Marks', 'Location'])"
      ]
     },
     "execution_count": 33,
     "metadata": {},
     "output_type": "execute_result"
    }
   ],
   "source": [
    "d.keys()"
   ]
  },
  {
   "cell_type": "code",
   "execution_count": 34,
   "id": "8a54d55c",
   "metadata": {},
   "outputs": [
    {
     "data": {
      "text/plain": [
       "dict_values(['JUN2023', {'S2', 'S1', 'S3'}, ['T1', 'T2', 'T3'], ('1st', '2nd', '3rd'), True, {'ITP': [24, 30, 40], 'NPV': [30, 40, 20]}, 'Bangalore'])"
      ]
     },
     "execution_count": 34,
     "metadata": {},
     "output_type": "execute_result"
    }
   ],
   "source": [
    "d.values()"
   ]
  },
  {
   "cell_type": "code",
   "execution_count": 35,
   "id": "e1192393",
   "metadata": {},
   "outputs": [
    {
     "data": {
      "text/plain": [
       "dict_items([('Batch', 'JUN2023'), ('Student', {'S2', 'S1', 'S3'}), ('Teacher', ['T1', 'T2', 'T3']), ('Classes', ('1st', '2nd', '3rd')), ('Started', True), ('Marks', {'ITP': [24, 30, 40], 'NPV': [30, 40, 20]}), ('Location', 'Bangalore')])"
      ]
     },
     "execution_count": 35,
     "metadata": {},
     "output_type": "execute_result"
    }
   ],
   "source": [
    "d.items()"
   ]
  },
  {
   "cell_type": "code",
   "execution_count": 36,
   "id": "2482eaf0",
   "metadata": {},
   "outputs": [
    {
     "data": {
      "text/plain": [
       "'Bangalore'"
      ]
     },
     "execution_count": 36,
     "metadata": {},
     "output_type": "execute_result"
    }
   ],
   "source": [
    "d[\"Location\"]"
   ]
  },
  {
   "cell_type": "code",
   "execution_count": 37,
   "id": "a1408185",
   "metadata": {},
   "outputs": [
    {
     "ename": "KeyError",
     "evalue": "'Program_Manager'",
     "output_type": "error",
     "traceback": [
      "\u001b[1;31m---------------------------------------------------------------------------\u001b[0m",
      "\u001b[1;31mKeyError\u001b[0m                                  Traceback (most recent call last)",
      "Cell \u001b[1;32mIn[37], line 1\u001b[0m\n\u001b[1;32m----> 1\u001b[0m \u001b[43md\u001b[49m\u001b[43m[\u001b[49m\u001b[38;5;124;43m\"\u001b[39;49m\u001b[38;5;124;43mProgram_Manager\u001b[39;49m\u001b[38;5;124;43m\"\u001b[39;49m\u001b[43m]\u001b[49m\n",
      "\u001b[1;31mKeyError\u001b[0m: 'Program_Manager'"
     ]
    }
   ],
   "source": [
    "d[\"Program_Manager\"]"
   ]
  },
  {
   "cell_type": "code",
   "execution_count": 39,
   "id": "2258429c",
   "metadata": {},
   "outputs": [
    {
     "data": {
      "text/plain": [
       "'Bangalore'"
      ]
     },
     "execution_count": 39,
     "metadata": {},
     "output_type": "execute_result"
    }
   ],
   "source": [
    "d.get(\"Location\")"
   ]
  },
  {
   "cell_type": "code",
   "execution_count": 40,
   "id": "8a72ee9b",
   "metadata": {},
   "outputs": [],
   "source": [
    "d.get(\"Program_Manager\")"
   ]
  },
  {
   "cell_type": "code",
   "execution_count": 41,
   "id": "51e1c188",
   "metadata": {},
   "outputs": [
    {
     "data": {
      "text/plain": [
       "'Not given'"
      ]
     },
     "execution_count": 41,
     "metadata": {},
     "output_type": "execute_result"
    }
   ],
   "source": [
    "d.get(\"Program_Manager\", \"Not given\")"
   ]
  },
  {
   "cell_type": "code",
   "execution_count": 43,
   "id": "e3cb6125",
   "metadata": {},
   "outputs": [
    {
     "data": {
      "text/plain": [
       "{'Batch': 'Aug23',\n",
       " 'Student': {'S1', 'S2', 'S3'},\n",
       " 'Teacher': ['T1', 'T2', 'T3'],\n",
       " 'Classes': ('1st', '2nd', '3rd'),\n",
       " 'Started': True,\n",
       " 'Marks': {'ITP': [24, 30, 40], 'NPV': [30, 40, 20]},\n",
       " 'Location': 'Bangalore'}"
      ]
     },
     "execution_count": 43,
     "metadata": {},
     "output_type": "execute_result"
    }
   ],
   "source": [
    "d[\"Batch\"]= \"Aug23\"\n",
    "d"
   ]
  },
  {
   "cell_type": "code",
   "execution_count": 5,
   "id": "411e9884",
   "metadata": {},
   "outputs": [
    {
     "data": {
      "text/plain": [
       "{'Batch': 'JUN23',\n",
       " 'Student': {'S1', 'S2', 'S3'},\n",
       " 'Teacher': ['T1', 'T2', 'T3'],\n",
       " 'Classes': ('1st', '2nd', '3rd'),\n",
       " 'Started': True,\n",
       " 'Marks': {'ITP': [26, 30, 40], 'NPV': [30, 40, 20]},\n",
       " 'Count': 36,\n",
       " 'PM': 'Gowthami'}"
      ]
     },
     "execution_count": 5,
     "metadata": {},
     "output_type": "execute_result"
    }
   ],
   "source": [
    "d.update({\"Batch\": \"JUN23\", \"Count\": 36, \"PM\": \"Gowthami\"})\n",
    "d"
   ]
  },
  {
   "cell_type": "code",
   "execution_count": 6,
   "id": "feac62e6",
   "metadata": {},
   "outputs": [
    {
     "data": {
      "text/plain": [
       "'JUN23'"
      ]
     },
     "execution_count": 6,
     "metadata": {},
     "output_type": "execute_result"
    }
   ],
   "source": [
    "d.setdefault(\"Batch\", \"AUG23\")"
   ]
  },
  {
   "cell_type": "code",
   "execution_count": 46,
   "id": "dd1fcc29",
   "metadata": {},
   "outputs": [
    {
     "data": {
      "text/plain": [
       "'Vidhya'"
      ]
     },
     "execution_count": 46,
     "metadata": {},
     "output_type": "execute_result"
    }
   ],
   "source": [
    "d.setdefault(\"CC\", \"Vidhya\")"
   ]
  },
  {
   "cell_type": "code",
   "execution_count": 47,
   "id": "3b67c443",
   "metadata": {},
   "outputs": [
    {
     "data": {
      "text/plain": [
       "{'Batch': 'JUN23',\n",
       " 'Student': {'S1', 'S2', 'S3'},\n",
       " 'Teacher': ['T1', 'T2', 'T3'],\n",
       " 'Classes': ('1st', '2nd', '3rd'),\n",
       " 'Started': True,\n",
       " 'Marks': {'ITP': [24, 30, 40], 'NPV': [30, 40, 20]},\n",
       " 'Location': 'Bangalore',\n",
       " 'Count': 36,\n",
       " 'PM': 'Gowthami',\n",
       " 'CC': 'Vidhya'}"
      ]
     },
     "execution_count": 47,
     "metadata": {},
     "output_type": "execute_result"
    }
   ],
   "source": [
    "d"
   ]
  },
  {
   "cell_type": "code",
   "execution_count": 52,
   "id": "d11d59f3",
   "metadata": {},
   "outputs": [
    {
     "data": {
      "text/plain": [
       "{'Batch': 'JUN23',\n",
       " 'Student': {'S1', 'S2', 'S3'},\n",
       " 'Teacher': ['T1', 'T2', 'T3'],\n",
       " 'Classes': ('1st', '2nd', '3rd'),\n",
       " 'Started': True,\n",
       " 'Marks': {'ITP': [24, 30, 40], 'NPV': [30, 40, 20]},\n",
       " 'Location': 'Bangalore',\n",
       " 'Count': 36}"
      ]
     },
     "execution_count": 52,
     "metadata": {},
     "output_type": "execute_result"
    }
   ],
   "source": [
    "d.pop(\"CC\")\n",
    "d"
   ]
  },
  {
   "cell_type": "code",
   "execution_count": 54,
   "id": "69f417e3",
   "metadata": {},
   "outputs": [
    {
     "ename": "TypeError",
     "evalue": "pop expected at least 1 argument, got 0",
     "output_type": "error",
     "traceback": [
      "\u001b[1;31m---------------------------------------------------------------------------\u001b[0m",
      "\u001b[1;31mTypeError\u001b[0m                                 Traceback (most recent call last)",
      "Cell \u001b[1;32mIn[54], line 1\u001b[0m\n\u001b[1;32m----> 1\u001b[0m \u001b[43md\u001b[49m\u001b[38;5;241;43m.\u001b[39;49m\u001b[43mpop\u001b[49m\u001b[43m(\u001b[49m\u001b[43m)\u001b[49m\n",
      "\u001b[1;31mTypeError\u001b[0m: pop expected at least 1 argument, got 0"
     ]
    }
   ],
   "source": [
    "d.pop()"
   ]
  },
  {
   "cell_type": "code",
   "execution_count": 55,
   "id": "7f9d1353",
   "metadata": {},
   "outputs": [
    {
     "data": {
      "text/plain": [
       "{'Batch': 'JUN23',\n",
       " 'Student': {'S1', 'S2', 'S3'},\n",
       " 'Teacher': ['T1', 'T2', 'T3'],\n",
       " 'Classes': ('1st', '2nd', '3rd'),\n",
       " 'Started': True,\n",
       " 'Marks': {'ITP': [24, 30, 40], 'NPV': [30, 40, 20]},\n",
       " 'Location': 'Bangalore'}"
      ]
     },
     "execution_count": 55,
     "metadata": {},
     "output_type": "execute_result"
    }
   ],
   "source": [
    "d.popitem()\n",
    "d"
   ]
  },
  {
   "cell_type": "code",
   "execution_count": null,
   "id": "3c09a42a",
   "metadata": {},
   "outputs": [],
   "source": []
  },
  {
   "cell_type": "code",
   "execution_count": 59,
   "id": "4bc86006",
   "metadata": {},
   "outputs": [
    {
     "data": {
      "text/plain": [
       "[('A', 20), ('B', 30), ('C', 40)]"
      ]
     },
     "execution_count": 59,
     "metadata": {},
     "output_type": "execute_result"
    }
   ],
   "source": [
    "list1=[(\"A\",20), (\"B\",30), (\"C\",40)]\n",
    "list1"
   ]
  },
  {
   "cell_type": "code",
   "execution_count": 60,
   "id": "11fbfe73",
   "metadata": {},
   "outputs": [
    {
     "data": {
      "text/plain": [
       "(('A', 20), ('B', 30), ('C', 40))"
      ]
     },
     "execution_count": 60,
     "metadata": {},
     "output_type": "execute_result"
    }
   ],
   "source": [
    "list2=((\"A\",20), (\"B\",30), (\"C\",40))\n",
    "list2"
   ]
  },
  {
   "cell_type": "code",
   "execution_count": 64,
   "id": "f88ee934",
   "metadata": {},
   "outputs": [
    {
     "data": {
      "text/plain": [
       "[['A', 20], ['B', 30], ['C', 40]]"
      ]
     },
     "execution_count": 64,
     "metadata": {},
     "output_type": "execute_result"
    }
   ],
   "source": [
    "list3=[[\"A\",20], [\"B\",30], [\"C\",40]]\n",
    "list3"
   ]
  },
  {
   "cell_type": "code",
   "execution_count": 73,
   "id": "d41a652d",
   "metadata": {},
   "outputs": [
    {
     "data": {
      "text/plain": [
       "(['A', 20], ['B', 30], ['C', 40])"
      ]
     },
     "execution_count": 73,
     "metadata": {},
     "output_type": "execute_result"
    }
   ],
   "source": [
    "list4=([\"A\",20], [\"B\",30], [\"C\",40])\n",
    "list4"
   ]
  },
  {
   "cell_type": "code",
   "execution_count": 7,
   "id": "68c79755",
   "metadata": {},
   "outputs": [
    {
     "data": {
      "text/plain": [
       "{'S3': 5, 'S2': 5, 'S1': 5}"
      ]
     },
     "execution_count": 7,
     "metadata": {},
     "output_type": "execute_result"
    }
   ],
   "source": [
    "list5={\"S1\", \"S2\", \"S3\"}\n",
    "dict.fromkeys(list5, 5)"
   ]
  },
  {
   "cell_type": "code",
   "execution_count": 8,
   "id": "558ab4c7",
   "metadata": {},
   "outputs": [
    {
     "data": {
      "text/plain": [
       "{'G': 1,\n",
       " 'r': 1,\n",
       " 'e': 1,\n",
       " 'a': 1,\n",
       " 't': 1,\n",
       " ' ': 1,\n",
       " 'L': 1,\n",
       " 'n': 1,\n",
       " 'i': 1,\n",
       " 'g': 1}"
      ]
     },
     "execution_count": 8,
     "metadata": {},
     "output_type": "execute_result"
    }
   ],
   "source": [
    "s=\"Great Learning\"\n",
    "dict.fromkeys(s, 1)"
   ]
  },
  {
   "cell_type": "code",
   "execution_count": 69,
   "id": "377ee421",
   "metadata": {},
   "outputs": [],
   "source": [
    "#concatinating\n",
    "d1={\"a\":10, \"b\":20}\n",
    "d2={\"c\":100, \"d\":200}"
   ]
  },
  {
   "cell_type": "code",
   "execution_count": 70,
   "id": "f33e3ff5",
   "metadata": {},
   "outputs": [
    {
     "ename": "TypeError",
     "evalue": "unsupported operand type(s) for +: 'dict' and 'dict'",
     "output_type": "error",
     "traceback": [
      "\u001b[1;31m---------------------------------------------------------------------------\u001b[0m",
      "\u001b[1;31mTypeError\u001b[0m                                 Traceback (most recent call last)",
      "Cell \u001b[1;32mIn[70], line 1\u001b[0m\n\u001b[1;32m----> 1\u001b[0m \u001b[43md1\u001b[49m\u001b[43m \u001b[49m\u001b[38;5;241;43m+\u001b[39;49m\u001b[43m \u001b[49m\u001b[43md2\u001b[49m\n",
      "\u001b[1;31mTypeError\u001b[0m: unsupported operand type(s) for +: 'dict' and 'dict'"
     ]
    }
   ],
   "source": [
    "d1 + d2"
   ]
  },
  {
   "cell_type": "code",
   "execution_count": 72,
   "id": "cea59c0c",
   "metadata": {},
   "outputs": [
    {
     "data": {
      "text/plain": [
       "{'a': 10, 'b': 20, 'c': 100, 'd': 200}"
      ]
     },
     "execution_count": 72,
     "metadata": {},
     "output_type": "execute_result"
    }
   ],
   "source": [
    "{**d1, **d2}"
   ]
  },
  {
   "cell_type": "markdown",
   "id": "852ff218",
   "metadata": {},
   "source": [
    "zip, range, enumerate"
   ]
  },
  {
   "cell_type": "code",
   "execution_count": 82,
   "id": "999dea04",
   "metadata": {},
   "outputs": [
    {
     "data": {
      "text/plain": [
       "[('S1', 43), ('S2', 34), ('S3', 45)]"
      ]
     },
     "execution_count": 82,
     "metadata": {},
     "output_type": "execute_result"
    }
   ],
   "source": [
    "names=[\"S1\", \"S2\", \"S3\"]\n",
    "marks=[43,34,45]\n",
    "list(zip(names,marks))"
   ]
  },
  {
   "cell_type": "code",
   "execution_count": 79,
   "id": "bb54a218",
   "metadata": {},
   "outputs": [
    {
     "data": {
      "text/plain": [
       "(('S1', 43), ('S2', 34), ('S3', 45))"
      ]
     },
     "execution_count": 79,
     "metadata": {},
     "output_type": "execute_result"
    }
   ],
   "source": [
    "names=[\"S1\", \"S2\", \"S3\"]\n",
    "marks=[43,34,45]\n",
    "tuple(zip(names,marks))"
   ]
  },
  {
   "cell_type": "code",
   "execution_count": 80,
   "id": "8ae9d39d",
   "metadata": {},
   "outputs": [
    {
     "data": {
      "text/plain": [
       "(('S1', 43), ('S2', 34), ('S3', 45))"
      ]
     },
     "execution_count": 80,
     "metadata": {},
     "output_type": "execute_result"
    }
   ],
   "source": [
    "names=[\"S1\", \"S2\", \"S3\", \"S4\"]\n",
    "marks=[43,34,45]\n",
    "tuple(zip(names,marks))"
   ]
  },
  {
   "cell_type": "code",
   "execution_count": 81,
   "id": "cc43bdd8",
   "metadata": {},
   "outputs": [
    {
     "data": {
      "text/plain": [
       "{'S1': 43, 'S2': 34, 'S3': 45}"
      ]
     },
     "execution_count": 81,
     "metadata": {},
     "output_type": "execute_result"
    }
   ],
   "source": [
    "names=[\"S1\", \"S2\", \"S3\"]\n",
    "marks=[43,34,45]\n",
    "dict(zip(names,marks))"
   ]
  },
  {
   "cell_type": "code",
   "execution_count": 83,
   "id": "4ddd629b",
   "metadata": {},
   "outputs": [
    {
     "data": {
      "text/plain": [
       "[('P', 'J'), ('y', 'a'), ('t', 'v'), ('h', 'a')]"
      ]
     },
     "execution_count": 83,
     "metadata": {},
     "output_type": "execute_result"
    }
   ],
   "source": [
    "s='Python'\n",
    "s2='Java'\n",
    "list(zip(s,s2))"
   ]
  },
  {
   "cell_type": "code",
   "execution_count": 85,
   "id": "204f9799",
   "metadata": {},
   "outputs": [
    {
     "data": {
      "text/plain": [
       "[(0, 'P'), (1, 'y'), (2, 't'), (3, 'h'), (4, 'o'), (5, 'n')]"
      ]
     },
     "execution_count": 85,
     "metadata": {},
     "output_type": "execute_result"
    }
   ],
   "source": [
    "list(enumerate(s))"
   ]
  },
  {
   "cell_type": "code",
   "execution_count": 84,
   "id": "f34f855b",
   "metadata": {},
   "outputs": [
    {
     "data": {
      "text/plain": [
       "[(0, 'S1'), (1, 'S2'), (2, 'S3')]"
      ]
     },
     "execution_count": 84,
     "metadata": {},
     "output_type": "execute_result"
    }
   ],
   "source": [
    "list(enumerate(names))"
   ]
  },
  {
   "cell_type": "code",
   "execution_count": 86,
   "id": "f8c5b816",
   "metadata": {},
   "outputs": [
    {
     "data": {
      "text/plain": [
       "[0, 1, 2, 3, 4, 5, 6, 7, 8, 9]"
      ]
     },
     "execution_count": 86,
     "metadata": {},
     "output_type": "execute_result"
    }
   ],
   "source": [
    "list(range(10))"
   ]
  },
  {
   "cell_type": "code",
   "execution_count": 87,
   "id": "076415d7",
   "metadata": {},
   "outputs": [
    {
     "data": {
      "text/plain": [
       "[-10, -9, -8, -7, -6, -5, -4, -3, -2, -1, 0, 1, 2, 3, 4, 5, 6, 7, 8, 9]"
      ]
     },
     "execution_count": 87,
     "metadata": {},
     "output_type": "execute_result"
    }
   ],
   "source": [
    "list(range(-10,10))"
   ]
  },
  {
   "cell_type": "code",
   "execution_count": 88,
   "id": "3410265f",
   "metadata": {},
   "outputs": [
    {
     "data": {
      "text/plain": [
       "[-10, -8, -6, -4, -2, 0, 2, 4, 6, 8]"
      ]
     },
     "execution_count": 88,
     "metadata": {},
     "output_type": "execute_result"
    }
   ],
   "source": [
    "list(range(-10,10,2))"
   ]
  },
  {
   "cell_type": "code",
   "execution_count": 89,
   "id": "d538cabe",
   "metadata": {},
   "outputs": [
    {
     "data": {
      "text/plain": [
       "[-10,\n",
       " -8,\n",
       " -6,\n",
       " -4,\n",
       " -2,\n",
       " 0,\n",
       " 2,\n",
       " 4,\n",
       " 6,\n",
       " 8,\n",
       " 10,\n",
       " 12,\n",
       " 14,\n",
       " 16,\n",
       " 18,\n",
       " 20,\n",
       " 22,\n",
       " 24,\n",
       " 26,\n",
       " 28,\n",
       " 30,\n",
       " 32,\n",
       " 34,\n",
       " 36,\n",
       " 38,\n",
       " 40,\n",
       " 42,\n",
       " 44,\n",
       " 46,\n",
       " 48]"
      ]
     },
     "execution_count": 89,
     "metadata": {},
     "output_type": "execute_result"
    }
   ],
   "source": [
    "list(range(-10,50,2))"
   ]
  },
  {
   "cell_type": "code",
   "execution_count": 10,
   "id": "5b69f16f",
   "metadata": {},
   "outputs": [
    {
     "data": {
      "text/plain": [
       "[-10,\n",
       " -12,\n",
       " -14,\n",
       " -16,\n",
       " -18,\n",
       " -20,\n",
       " -22,\n",
       " -24,\n",
       " -26,\n",
       " -28,\n",
       " -30,\n",
       " -32,\n",
       " -34,\n",
       " -36,\n",
       " -38,\n",
       " -40,\n",
       " -42,\n",
       " -44,\n",
       " -46,\n",
       " -48]"
      ]
     },
     "execution_count": 10,
     "metadata": {},
     "output_type": "execute_result"
    }
   ],
   "source": [
    "list(range(-10,-50,-2))"
   ]
  },
  {
   "cell_type": "code",
   "execution_count": null,
   "id": "9adba7aa",
   "metadata": {},
   "outputs": [],
   "source": []
  },
  {
   "cell_type": "markdown",
   "id": "a101615c",
   "metadata": {},
   "source": [
    "# Add"
   ]
  },
  {
   "cell_type": "code",
   "execution_count": 6,
   "id": "71eb7e56",
   "metadata": {},
   "outputs": [
    {
     "data": {
      "text/plain": [
       "{'Apple': 250, 'Orange': 500, 'Banana': 150, 'Grapes': 400, 'Strawberry': 300}"
      ]
     },
     "execution_count": 6,
     "metadata": {},
     "output_type": "execute_result"
    }
   ],
   "source": [
    "fruit[\"Strawberry\"]= 300\n",
    "fruit"
   ]
  },
  {
   "cell_type": "code",
   "execution_count": 7,
   "id": "5f20cfbd",
   "metadata": {},
   "outputs": [
    {
     "data": {
      "text/plain": [
       "{'Apple': 250,\n",
       " 'Orange': 500,\n",
       " 'Banana': 150,\n",
       " 'Grapes': 400,\n",
       " 'Strawberry': 300,\n",
       " 'Strwberry': 350}"
      ]
     },
     "execution_count": 7,
     "metadata": {},
     "output_type": "execute_result"
    }
   ],
   "source": [
    "fruit[\"Strwberry\"]= 350\n",
    "fruit"
   ]
  },
  {
   "cell_type": "markdown",
   "id": "a163b4e3",
   "metadata": {},
   "source": [
    "# Remove (Pop)"
   ]
  },
  {
   "cell_type": "code",
   "execution_count": null,
   "id": "1ca52881",
   "metadata": {},
   "outputs": [],
   "source": [
    "fruit.pop(\"Strwberry\")\n",
    "fruit"
   ]
  },
  {
   "cell_type": "markdown",
   "id": "a403c5c4",
   "metadata": {},
   "source": [
    "# Modify"
   ]
  },
  {
   "cell_type": "code",
   "execution_count": null,
   "id": "d0dcdf32",
   "metadata": {},
   "outputs": [],
   "source": [
    "fruit[\"Orange\"]= 200\n",
    "fruit"
   ]
  },
  {
   "cell_type": "markdown",
   "id": "d4a6dd84",
   "metadata": {},
   "source": [
    "# Update fruit1 dictionary element with fruit 2:"
   ]
  },
  {
   "cell_type": "code",
   "execution_count": 11,
   "id": "7dd33388",
   "metadata": {},
   "outputs": [
    {
     "data": {
      "text/plain": [
       "{'Apple': 100, 'Orange': 150, 'Mangoes': 200, 'Grapes': 125}"
      ]
     },
     "execution_count": 11,
     "metadata": {},
     "output_type": "execute_result"
    }
   ],
   "source": [
    "fruit1={\"Apple\":100, \"Orange\": 150}\n",
    "fruit2={\"Mangoes\": 200, \"Grapes\": 125}\n",
    "fruit1.update(fruit2)\n",
    "fruit1"
   ]
  },
  {
   "cell_type": "code",
   "execution_count": null,
   "id": "1e11f543",
   "metadata": {},
   "outputs": [],
   "source": []
  }
 ],
 "metadata": {
  "kernelspec": {
   "display_name": "Python 3 (ipykernel)",
   "language": "python",
   "name": "python3"
  },
  "language_info": {
   "codemirror_mode": {
    "name": "ipython",
    "version": 3
   },
   "file_extension": ".py",
   "mimetype": "text/x-python",
   "name": "python",
   "nbconvert_exporter": "python",
   "pygments_lexer": "ipython3",
   "version": "3.11.4"
  }
 },
 "nbformat": 4,
 "nbformat_minor": 5
}
