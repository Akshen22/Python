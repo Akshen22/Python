{
 "cells": [
  {
   "cell_type": "markdown",
   "id": "b1dc0cf3",
   "metadata": {},
   "source": [
    "# Python String"
   ]
  },
  {
   "cell_type": "markdown",
   "id": "1ecf66e0",
   "metadata": {},
   "source": [
    "built in function:\n",
    "abx(x), bin(), bool(), complex(), dict(), float(), input(),int(), list(), max(), min(), next(), pow(), print(), str(), set(), sorted(), round()"
   ]
  },
  {
   "cell_type": "markdown",
   "id": "247ce599",
   "metadata": {},
   "source": [
    "immutable(cannot change), [:x], [x:], [:], .split(), .replace(),  .lower(), .upper(), ._contains_(), .count(), .find(), .isalnum(), .islower(), .isupper(), .isnumeric(), .isspace(), len, .join(), .strip(), .title(), istitle()"
   ]
  },
  {
   "cell_type": "markdown",
   "id": "4fc5430b",
   "metadata": {},
   "source": [
    "# 1) ' '"
   ]
  },
  {
   "cell_type": "code",
   "execution_count": 1,
   "id": "4c98e6af",
   "metadata": {},
   "outputs": [
    {
     "data": {
      "text/plain": [
       "'I am Akshen'"
      ]
     },
     "execution_count": 1,
     "metadata": {},
     "output_type": "execute_result"
    }
   ],
   "source": [
    "str1 = 'I am Akshen'\n",
    "str1"
   ]
  },
  {
   "cell_type": "markdown",
   "id": "16a8ea9f",
   "metadata": {},
   "source": [
    "# 2) \" \"; will come in-> ' ', as there's no-> '"
   ]
  },
  {
   "cell_type": "code",
   "execution_count": 2,
   "id": "d6ebfccc",
   "metadata": {},
   "outputs": [
    {
     "data": {
      "text/plain": [
       "'A person who does not know what to do in his life'"
      ]
     },
     "execution_count": 2,
     "metadata": {},
     "output_type": "execute_result"
    }
   ],
   "source": [
    "str2 = \"A person who does not know what to do in his life\"\n",
    "str2"
   ]
  },
  {
   "cell_type": "markdown",
   "id": "5e0caaa8",
   "metadata": {},
   "source": [
    "# 3) \" \"; will come in-> \" \", as there's-> '"
   ]
  },
  {
   "cell_type": "code",
   "execution_count": 3,
   "id": "1e3039c4",
   "metadata": {},
   "outputs": [
    {
     "data": {
      "text/plain": [
       "\"This is my second strings, hope you does'nt unlike it\""
      ]
     },
     "execution_count": 3,
     "metadata": {},
     "output_type": "execute_result"
    }
   ],
   "source": [
    "str3 = \"This is my second strings, hope you does'nt unlike it\"\n",
    "str3"
   ]
  },
  {
   "cell_type": "markdown",
   "id": "1391ee42",
   "metadata": {},
   "source": [
    "# 4) ''' '''"
   ]
  },
  {
   "cell_type": "code",
   "execution_count": 4,
   "id": "a794ff9d",
   "metadata": {},
   "outputs": [
    {
     "data": {
      "text/plain": [
       "'A person who does not know what to do in his life, has no \"aim\"'"
      ]
     },
     "execution_count": 4,
     "metadata": {},
     "output_type": "execute_result"
    }
   ],
   "source": [
    "str9 = '''A person who does not know what to do in his life, has no \"aim\"'''\n",
    "str9"
   ]
  },
  {
   "cell_type": "code",
   "execution_count": 5,
   "id": "b22cbca9",
   "metadata": {},
   "outputs": [
    {
     "data": {
      "text/plain": [
       "\"\\nI do not feel good it isn't because i am not physically well,\\nbut i feel like i cannot compete with the world,\\nnor against my cousins too,\\n\""
      ]
     },
     "execution_count": 5,
     "metadata": {},
     "output_type": "execute_result"
    }
   ],
   "source": [
    "str4='''\n",
    "I do not feel good it isn't because i am not physically well,\n",
    "but i feel like i cannot compete with the world,\n",
    "nor against my cousins too,\n",
    "'''\n",
    "str4"
   ]
  },
  {
   "cell_type": "code",
   "execution_count": 6,
   "id": "ce72d06c",
   "metadata": {},
   "outputs": [
    {
     "name": "stdout",
     "output_type": "stream",
     "text": [
      "\n",
      "I do not feel good it isn't because i am not physically well,\n",
      "but i feel like i cannot compete with the world,\n",
      "nor against my cousins too,\n",
      "\n"
     ]
    }
   ],
   "source": [
    "print('''\n",
    "I do not feel good it isn't because i am not physically well,\n",
    "but i feel like i cannot compete with the world,\n",
    "nor against my cousins too,\n",
    "''')"
   ]
  },
  {
   "cell_type": "code",
   "execution_count": 7,
   "id": "31acefa8",
   "metadata": {},
   "outputs": [
    {
     "name": "stdout",
     "output_type": "stream",
     "text": [
      "Do i serioulsy deserve to live \n",
      "or should i kill myself, \n",
      "help me with the answer\n"
     ]
    }
   ],
   "source": [
    "print('''Do i serioulsy deserve to live \\nor should i kill myself, \\nhelp me with the answer''')"
   ]
  },
  {
   "cell_type": "markdown",
   "id": "0ca9791a",
   "metadata": {},
   "source": [
    "# 5) Extract individual elements"
   ]
  },
  {
   "cell_type": "code",
   "execution_count": 8,
   "id": "fd5d780d",
   "metadata": {},
   "outputs": [
    {
     "data": {
      "text/plain": [
       "[(0, '\\n'),\n",
       " (1, 'I'),\n",
       " (2, ' '),\n",
       " (3, 'd'),\n",
       " (4, 'o'),\n",
       " (5, ' '),\n",
       " (6, 'n'),\n",
       " (7, 'o'),\n",
       " (8, 't'),\n",
       " (9, ' '),\n",
       " (10, 'f'),\n",
       " (11, 'e'),\n",
       " (12, 'e'),\n",
       " (13, 'l'),\n",
       " (14, ' '),\n",
       " (15, 'g'),\n",
       " (16, 'o'),\n",
       " (17, 'o'),\n",
       " (18, 'd'),\n",
       " (19, ' '),\n",
       " (20, 'i'),\n",
       " (21, 't'),\n",
       " (22, ' '),\n",
       " (23, 'i'),\n",
       " (24, 's'),\n",
       " (25, 'n'),\n",
       " (26, \"'\"),\n",
       " (27, 't'),\n",
       " (28, ' '),\n",
       " (29, 'b'),\n",
       " (30, 'e'),\n",
       " (31, 'c'),\n",
       " (32, 'a'),\n",
       " (33, 'u'),\n",
       " (34, 's'),\n",
       " (35, 'e'),\n",
       " (36, ' '),\n",
       " (37, 'i'),\n",
       " (38, ' '),\n",
       " (39, 'a'),\n",
       " (40, 'm'),\n",
       " (41, ' '),\n",
       " (42, 'n'),\n",
       " (43, 'o'),\n",
       " (44, 't'),\n",
       " (45, ' '),\n",
       " (46, 'p'),\n",
       " (47, 'h'),\n",
       " (48, 'y'),\n",
       " (49, 's'),\n",
       " (50, 'i'),\n",
       " (51, 'c'),\n",
       " (52, 'a'),\n",
       " (53, 'l'),\n",
       " (54, 'l'),\n",
       " (55, 'y'),\n",
       " (56, ' '),\n",
       " (57, 'w'),\n",
       " (58, 'e'),\n",
       " (59, 'l'),\n",
       " (60, 'l'),\n",
       " (61, ','),\n",
       " (62, '\\n'),\n",
       " (63, 'b'),\n",
       " (64, 'u'),\n",
       " (65, 't'),\n",
       " (66, ' '),\n",
       " (67, 'i'),\n",
       " (68, ' '),\n",
       " (69, 'f'),\n",
       " (70, 'e'),\n",
       " (71, 'e'),\n",
       " (72, 'l'),\n",
       " (73, ' '),\n",
       " (74, 'l'),\n",
       " (75, 'i'),\n",
       " (76, 'k'),\n",
       " (77, 'e'),\n",
       " (78, ' '),\n",
       " (79, 'i'),\n",
       " (80, ' '),\n",
       " (81, 'c'),\n",
       " (82, 'a'),\n",
       " (83, 'n'),\n",
       " (84, 'n'),\n",
       " (85, 'o'),\n",
       " (86, 't'),\n",
       " (87, ' '),\n",
       " (88, 'c'),\n",
       " (89, 'o'),\n",
       " (90, 'm'),\n",
       " (91, 'p'),\n",
       " (92, 'e'),\n",
       " (93, 't'),\n",
       " (94, 'e'),\n",
       " (95, ' '),\n",
       " (96, 'w'),\n",
       " (97, 'i'),\n",
       " (98, 't'),\n",
       " (99, 'h'),\n",
       " (100, ' '),\n",
       " (101, 't'),\n",
       " (102, 'h'),\n",
       " (103, 'e'),\n",
       " (104, ' '),\n",
       " (105, 'w'),\n",
       " (106, 'o'),\n",
       " (107, 'r'),\n",
       " (108, 'l'),\n",
       " (109, 'd'),\n",
       " (110, ','),\n",
       " (111, '\\n'),\n",
       " (112, 'n'),\n",
       " (113, 'o'),\n",
       " (114, 'r'),\n",
       " (115, ' '),\n",
       " (116, 'a'),\n",
       " (117, 'g'),\n",
       " (118, 'a'),\n",
       " (119, 'i'),\n",
       " (120, 'n'),\n",
       " (121, 's'),\n",
       " (122, 't'),\n",
       " (123, ' '),\n",
       " (124, 'm'),\n",
       " (125, 'y'),\n",
       " (126, ' '),\n",
       " (127, 'c'),\n",
       " (128, 'o'),\n",
       " (129, 'u'),\n",
       " (130, 's'),\n",
       " (131, 'i'),\n",
       " (132, 'n'),\n",
       " (133, 's'),\n",
       " (134, ' '),\n",
       " (135, 't'),\n",
       " (136, 'o'),\n",
       " (137, 'o'),\n",
       " (138, ','),\n",
       " (139, '\\n')]"
      ]
     },
     "execution_count": 8,
     "metadata": {},
     "output_type": "execute_result"
    }
   ],
   "source": [
    "list(enumerate(str4))"
   ]
  },
  {
   "cell_type": "code",
   "execution_count": 9,
   "id": "b40ee76c",
   "metadata": {},
   "outputs": [
    {
     "data": {
      "text/plain": [
       "'o'"
      ]
     },
     "execution_count": 9,
     "metadata": {},
     "output_type": "execute_result"
    }
   ],
   "source": [
    "str4[4] #indexing-s[index]"
   ]
  },
  {
   "cell_type": "code",
   "execution_count": 10,
   "id": "4fb58309",
   "metadata": {},
   "outputs": [
    {
     "data": {
      "text/plain": [
       "'d'"
      ]
     },
     "execution_count": 10,
     "metadata": {},
     "output_type": "execute_result"
    }
   ],
   "source": [
    "str4[4-1] #slicing [start_index: end_index]"
   ]
  },
  {
   "cell_type": "code",
   "execution_count": 11,
   "id": "759268b9",
   "metadata": {},
   "outputs": [
    {
     "data": {
      "text/plain": [
       "'I'"
      ]
     },
     "execution_count": 11,
     "metadata": {},
     "output_type": "execute_result"
    }
   ],
   "source": [
    "str4[1]"
   ]
  },
  {
   "cell_type": "code",
   "execution_count": 12,
   "id": "3b0fd466",
   "metadata": {},
   "outputs": [
    {
     "data": {
      "text/plain": [
       "','"
      ]
     },
     "execution_count": 12,
     "metadata": {},
     "output_type": "execute_result"
    }
   ],
   "source": [
    "str4[-2]"
   ]
  },
  {
   "cell_type": "code",
   "execution_count": 13,
   "id": "bc2a2f51",
   "metadata": {},
   "outputs": [
    {
     "data": {
      "text/plain": [
       "\"\\nI do not feel good it isn't because i am not physically well,\\nbut i feel like i cannot compete with the world,\\nnor against my cousins too,\\n\""
      ]
     },
     "execution_count": 13,
     "metadata": {},
     "output_type": "execute_result"
    }
   ],
   "source": [
    "str4"
   ]
  },
  {
   "cell_type": "code",
   "execution_count": 14,
   "id": "4c6dfe4a",
   "metadata": {
    "scrolled": true
   },
   "outputs": [
    {
     "data": {
      "text/plain": [
       "'I do not'"
      ]
     },
     "execution_count": 14,
     "metadata": {},
     "output_type": "execute_result"
    }
   ],
   "source": [
    "str4[1:9]"
   ]
  },
  {
   "cell_type": "code",
   "execution_count": 15,
   "id": "077be5cb",
   "metadata": {},
   "outputs": [
    {
     "data": {
      "text/plain": [
       "\"\\nI do not feel good it isn't because i am not physically well,\\nbut i feel like i cannot compete with the world,\\nnor against my cousins \""
      ]
     },
     "execution_count": 15,
     "metadata": {},
     "output_type": "execute_result"
    }
   ],
   "source": [
    "str4[:-5]"
   ]
  },
  {
   "cell_type": "code",
   "execution_count": 16,
   "id": "64f74183",
   "metadata": {},
   "outputs": [
    {
     "data": {
      "text/plain": [
       "\"\\n ontfe odi s' eas  mntpyial el\\nu  ellk  antcmeewt h ol,nraantm osn o,\""
      ]
     },
     "execution_count": 16,
     "metadata": {},
     "output_type": "execute_result"
    }
   ],
   "source": [
    "#skip by 2\n",
    "str4[::2]"
   ]
  },
  {
   "cell_type": "code",
   "execution_count": 77,
   "id": "3a956f10",
   "metadata": {},
   "outputs": [
    {
     "data": {
      "text/plain": [
       "\"\\nI dnot feel good it isn't because i am not physically well,\\nbut i feel like i cannot compete with the world,\\nnor against my cousins too,\\n\""
      ]
     },
     "execution_count": 77,
     "metadata": {},
     "output_type": "execute_result"
    }
   ],
   "source": [
    "#skipping 1 element\n",
    "str4[:4]+str4[6:]"
   ]
  },
  {
   "cell_type": "code",
   "execution_count": 18,
   "id": "ab3e7226",
   "metadata": {},
   "outputs": [
    {
     "data": {
      "text/plain": [
       "'Great'"
      ]
     },
     "execution_count": 18,
     "metadata": {},
     "output_type": "execute_result"
    }
   ],
   "source": [
    "a=\"Great Learning\"\n",
    "a[0:5]"
   ]
  },
  {
   "cell_type": "code",
   "execution_count": 19,
   "id": "e6f47731",
   "metadata": {},
   "outputs": [
    {
     "data": {
      "text/plain": [
       "'Great'"
      ]
     },
     "execution_count": 19,
     "metadata": {},
     "output_type": "execute_result"
    }
   ],
   "source": [
    "a[-14:-9]"
   ]
  },
  {
   "cell_type": "code",
   "execution_count": 20,
   "id": "be8f6f94",
   "metadata": {},
   "outputs": [
    {
     "data": {
      "text/plain": [
       "'Great'"
      ]
     },
     "execution_count": 20,
     "metadata": {},
     "output_type": "execute_result"
    }
   ],
   "source": [
    "a[:-9]"
   ]
  },
  {
   "cell_type": "code",
   "execution_count": 21,
   "id": "6576f52a",
   "metadata": {},
   "outputs": [
    {
     "data": {
      "text/plain": [
       "'Great'"
      ]
     },
     "execution_count": 21,
     "metadata": {},
     "output_type": "execute_result"
    }
   ],
   "source": [
    "a[-14:5]"
   ]
  },
  {
   "cell_type": "code",
   "execution_count": 22,
   "id": "bbf6b129",
   "metadata": {},
   "outputs": [
    {
     "data": {
      "text/plain": [
       "'Great'"
      ]
     },
     "execution_count": 22,
     "metadata": {},
     "output_type": "execute_result"
    }
   ],
   "source": [
    "a[0:-9]"
   ]
  },
  {
   "cell_type": "code",
   "execution_count": 23,
   "id": "fbe75b6c",
   "metadata": {},
   "outputs": [
    {
     "data": {
      "text/plain": [
       "'Ga'"
      ]
     },
     "execution_count": 23,
     "metadata": {},
     "output_type": "execute_result"
    }
   ],
   "source": [
    "a[0:4:3]"
   ]
  },
  {
   "cell_type": "code",
   "execution_count": 24,
   "id": "14acf18f",
   "metadata": {},
   "outputs": [
    {
     "data": {
      "text/plain": [
       "'Great Learning'"
      ]
     },
     "execution_count": 24,
     "metadata": {},
     "output_type": "execute_result"
    }
   ],
   "source": [
    "a[:]"
   ]
  },
  {
   "cell_type": "code",
   "execution_count": 25,
   "id": "96e06888",
   "metadata": {},
   "outputs": [
    {
     "data": {
      "text/plain": [
       "'Great Learnin'"
      ]
     },
     "execution_count": 25,
     "metadata": {},
     "output_type": "execute_result"
    }
   ],
   "source": [
    "a[:-1]"
   ]
  },
  {
   "cell_type": "code",
   "execution_count": 26,
   "id": "361e7479",
   "metadata": {},
   "outputs": [
    {
     "data": {
      "text/plain": [
       "'gninraeL taerG'"
      ]
     },
     "execution_count": 26,
     "metadata": {},
     "output_type": "execute_result"
    }
   ],
   "source": [
    "a[::-1] #ulta"
   ]
  },
  {
   "cell_type": "code",
   "execution_count": 27,
   "id": "5ae4a935",
   "metadata": {},
   "outputs": [
    {
     "data": {
      "text/plain": [
       "'gninrae'"
      ]
     },
     "execution_count": 27,
     "metadata": {},
     "output_type": "execute_result"
    }
   ],
   "source": [
    "a[-1:-8:-1] #Great Learning"
   ]
  },
  {
   "cell_type": "code",
   "execution_count": 28,
   "id": "75b10da9",
   "metadata": {},
   "outputs": [
    {
     "data": {
      "text/plain": [
       "'gire'"
      ]
     },
     "execution_count": 28,
     "metadata": {},
     "output_type": "execute_result"
    }
   ],
   "source": [
    "a[-1:-9:-2]"
   ]
  },
  {
   "cell_type": "code",
   "execution_count": 29,
   "id": "c299611c",
   "metadata": {},
   "outputs": [
    {
     "ename": "TypeError",
     "evalue": "'str' object does not support item assignment",
     "output_type": "error",
     "traceback": [
      "\u001b[1;31m---------------------------------------------------------------------------\u001b[0m",
      "\u001b[1;31mTypeError\u001b[0m                                 Traceback (most recent call last)",
      "Cell \u001b[1;32mIn[29], line 2\u001b[0m\n\u001b[0;32m      1\u001b[0m \u001b[38;5;66;03m#string-immutable-cannot be changed\u001b[39;00m\n\u001b[1;32m----> 2\u001b[0m a[\u001b[38;5;241m0\u001b[39m]\u001b[38;5;241m=\u001b[39m\u001b[38;5;124m'\u001b[39m\u001b[38;5;124mH\u001b[39m\u001b[38;5;124m'\u001b[39m\n",
      "\u001b[1;31mTypeError\u001b[0m: 'str' object does not support item assignment"
     ]
    }
   ],
   "source": [
    "#string-immutable-cannot be changed\n",
    "a[0]='H'"
   ]
  },
  {
   "cell_type": "code",
   "execution_count": 30,
   "id": "6a2ce5bd",
   "metadata": {},
   "outputs": [
    {
     "name": "stdout",
     "output_type": "stream",
     "text": [
      "['__add__', '__class__', '__contains__', '__delattr__', '__dir__', '__doc__', '__eq__', '__format__', '__ge__', '__getattribute__', '__getitem__', '__getnewargs__', '__getstate__', '__gt__', '__hash__', '__init__', '__init_subclass__', '__iter__', '__le__', '__len__', '__lt__', '__mod__', '__mul__', '__ne__', '__new__', '__reduce__', '__reduce_ex__', '__repr__', '__rmod__', '__rmul__', '__setattr__', '__sizeof__', '__str__', '__subclasshook__', 'capitalize', 'casefold', 'center', 'count', 'encode', 'endswith', 'expandtabs', 'find', 'format', 'format_map', 'index', 'isalnum', 'isalpha', 'isascii', 'isdecimal', 'isdigit', 'isidentifier', 'islower', 'isnumeric', 'isprintable', 'isspace', 'istitle', 'isupper', 'join', 'ljust', 'lower', 'lstrip', 'maketrans', 'partition', 'removeprefix', 'removesuffix', 'replace', 'rfind', 'rindex', 'rjust', 'rpartition', 'rsplit', 'rstrip', 'split', 'splitlines', 'startswith', 'strip', 'swapcase', 'title', 'translate', 'upper', 'zfill']\n"
     ]
    }
   ],
   "source": [
    "print(dir(str))"
   ]
  },
  {
   "cell_type": "code",
   "execution_count": 31,
   "id": "f66b1dd8",
   "metadata": {},
   "outputs": [
    {
     "name": "stdout",
     "output_type": "stream",
     "text": [
      "Help on built-in function __init_subclass__:\n",
      "\n",
      "__init_subclass__(...) method of builtins.type instance\n",
      "    This method is called when a class is subclassed.\n",
      "    \n",
      "    The default implementation does nothing. It may be\n",
      "    overridden to extend subclasses.\n",
      "\n"
     ]
    }
   ],
   "source": [
    "help(str.__init_subclass__)"
   ]
  },
  {
   "cell_type": "code",
   "execution_count": 83,
   "id": "55c08f0b",
   "metadata": {},
   "outputs": [
    {
     "data": {
      "text/plain": [
       "'Great learning'"
      ]
     },
     "execution_count": 83,
     "metadata": {},
     "output_type": "execute_result"
    }
   ],
   "source": [
    "a.capitalize()"
   ]
  },
  {
   "cell_type": "code",
   "execution_count": 33,
   "id": "9d796ecc",
   "metadata": {},
   "outputs": [
    {
     "data": {
      "text/plain": [
       "7"
      ]
     },
     "execution_count": 33,
     "metadata": {},
     "output_type": "execute_result"
    }
   ],
   "source": [
    "a.index(\"e\", 4) #where e is after 4 position"
   ]
  },
  {
   "cell_type": "code",
   "execution_count": 34,
   "id": "c55ead6c",
   "metadata": {},
   "outputs": [
    {
     "data": {
      "text/plain": [
       "'Python For Datascience'"
      ]
     },
     "execution_count": 34,
     "metadata": {},
     "output_type": "execute_result"
    }
   ],
   "source": [
    "s=\"pyThon FoR DatASciEncE\"\n",
    "s.title() #to make title the mix as needed"
   ]
  },
  {
   "cell_type": "code",
   "execution_count": 35,
   "id": "5f1e2ff9",
   "metadata": {},
   "outputs": [
    {
     "data": {
      "text/plain": [
       "False"
      ]
     },
     "execution_count": 35,
     "metadata": {},
     "output_type": "execute_result"
    }
   ],
   "source": [
    "s.isupper()"
   ]
  },
  {
   "cell_type": "code",
   "execution_count": 36,
   "id": "7b810a6a",
   "metadata": {},
   "outputs": [
    {
     "data": {
      "text/plain": [
       "False"
      ]
     },
     "execution_count": 36,
     "metadata": {},
     "output_type": "execute_result"
    }
   ],
   "source": [
    "s.islower()"
   ]
  },
  {
   "cell_type": "code",
   "execution_count": 37,
   "id": "d479c9aa",
   "metadata": {},
   "outputs": [
    {
     "data": {
      "text/plain": [
       "False"
      ]
     },
     "execution_count": 37,
     "metadata": {},
     "output_type": "execute_result"
    }
   ],
   "source": [
    "s.istitle()"
   ]
  },
  {
   "cell_type": "code",
   "execution_count": 38,
   "id": "58686071",
   "metadata": {},
   "outputs": [
    {
     "data": {
      "text/plain": [
       "False"
      ]
     },
     "execution_count": 38,
     "metadata": {},
     "output_type": "execute_result"
    }
   ],
   "source": [
    "s[1:].islower()"
   ]
  },
  {
   "cell_type": "code",
   "execution_count": 39,
   "id": "4892616b",
   "metadata": {},
   "outputs": [
    {
     "data": {
      "text/plain": [
       "True"
      ]
     },
     "execution_count": 39,
     "metadata": {},
     "output_type": "execute_result"
    }
   ],
   "source": [
    "s[2].isupper() or s[1:].islower() "
   ]
  },
  {
   "cell_type": "markdown",
   "id": "281c0873",
   "metadata": {},
   "source": [
    "# 6) Finding length of string"
   ]
  },
  {
   "cell_type": "code",
   "execution_count": 40,
   "id": "ba4081b0",
   "metadata": {},
   "outputs": [
    {
     "data": {
      "text/plain": [
       "140"
      ]
     },
     "execution_count": 40,
     "metadata": {},
     "output_type": "execute_result"
    }
   ],
   "source": [
    "len(str4)"
   ]
  },
  {
   "cell_type": "markdown",
   "id": "b0e7b27d",
   "metadata": {},
   "source": [
    "# 7) Converting string to lower and upper case"
   ]
  },
  {
   "cell_type": "code",
   "execution_count": 41,
   "id": "a7b8be1e",
   "metadata": {},
   "outputs": [
    {
     "data": {
      "text/plain": [
       "\"\\ni do not feel good it isn't because i am not physically well,\\nbut i feel like i cannot compete with the world,\\nnor against my cousins too,\\n\""
      ]
     },
     "execution_count": 41,
     "metadata": {},
     "output_type": "execute_result"
    }
   ],
   "source": [
    "str4.lower()"
   ]
  },
  {
   "cell_type": "code",
   "execution_count": 42,
   "id": "8890e216",
   "metadata": {},
   "outputs": [
    {
     "data": {
      "text/plain": [
       "\"\\nI DO NOT FEEL GOOD IT ISN'T BECAUSE I AM NOT PHYSICALLY WELL,\\nBUT I FEEL LIKE I CANNOT COMPETE WITH THE WORLD,\\nNOR AGAINST MY COUSINS TOO,\\n\""
      ]
     },
     "execution_count": 42,
     "metadata": {},
     "output_type": "execute_result"
    }
   ],
   "source": [
    "str4.upper()"
   ]
  },
  {
   "cell_type": "code",
   "execution_count": 43,
   "id": "9433552a",
   "metadata": {},
   "outputs": [
    {
     "data": {
      "text/plain": [
       "'GREAT LEARNING'"
      ]
     },
     "execution_count": 43,
     "metadata": {},
     "output_type": "execute_result"
    }
   ],
   "source": [
    "A=a.upper()\n",
    "A"
   ]
  },
  {
   "cell_type": "code",
   "execution_count": 44,
   "id": "6a19efe9",
   "metadata": {},
   "outputs": [
    {
     "data": {
      "text/plain": [
       "True"
      ]
     },
     "execution_count": 44,
     "metadata": {},
     "output_type": "execute_result"
    }
   ],
   "source": [
    "A.isupper()"
   ]
  },
  {
   "cell_type": "code",
   "execution_count": 45,
   "id": "f2ff4079",
   "metadata": {},
   "outputs": [
    {
     "data": {
      "text/plain": [
       "'great learning'"
      ]
     },
     "execution_count": 45,
     "metadata": {},
     "output_type": "execute_result"
    }
   ],
   "source": [
    "A2=a.lower()\n",
    "A2"
   ]
  },
  {
   "cell_type": "code",
   "execution_count": 46,
   "id": "0f6898bb",
   "metadata": {},
   "outputs": [
    {
     "data": {
      "text/plain": [
       "True"
      ]
     },
     "execution_count": 46,
     "metadata": {},
     "output_type": "execute_result"
    }
   ],
   "source": [
    "A2.islower()"
   ]
  },
  {
   "cell_type": "markdown",
   "id": "f40f2b42",
   "metadata": {},
   "source": [
    "# 8) Replacing string character"
   ]
  },
  {
   "cell_type": "code",
   "execution_count": 47,
   "id": "d7afe54f",
   "metadata": {},
   "outputs": [
    {
     "data": {
      "text/plain": [
       "\"\\nI do not feel good it isn't because i am not phisicalli well,\\nbut i feel like i cannot compete with the world,\\nnor against mi cousins too,\\n\""
      ]
     },
     "execution_count": 47,
     "metadata": {},
     "output_type": "execute_result"
    }
   ],
   "source": [
    "str4.replace('y', 'i')"
   ]
  },
  {
   "cell_type": "code",
   "execution_count": 48,
   "id": "7c98323a",
   "metadata": {},
   "outputs": [
    {
     "data": {
      "text/plain": [
       "'Great Lakes'"
      ]
     },
     "execution_count": 48,
     "metadata": {},
     "output_type": "execute_result"
    }
   ],
   "source": [
    "a.replace(\"Learning\", \"Lakes\")"
   ]
  },
  {
   "cell_type": "code",
   "execution_count": 49,
   "id": "be78d4a0",
   "metadata": {},
   "outputs": [
    {
     "data": {
      "text/plain": [
       "'Great Lakes'"
      ]
     },
     "execution_count": 49,
     "metadata": {},
     "output_type": "execute_result"
    }
   ],
   "source": [
    "a.replace(\"Learning\", \"Lakes\",2)"
   ]
  },
  {
   "cell_type": "markdown",
   "id": "4ccca480",
   "metadata": {},
   "source": [
    "# 9) No. of occurence of a particular word in a string"
   ]
  },
  {
   "cell_type": "code",
   "execution_count": 50,
   "id": "6f4e2f85",
   "metadata": {},
   "outputs": [
    {
     "data": {
      "text/plain": [
       "10"
      ]
     },
     "execution_count": 50,
     "metadata": {},
     "output_type": "execute_result"
    }
   ],
   "source": [
    "str4.count('i')"
   ]
  },
  {
   "cell_type": "code",
   "execution_count": 51,
   "id": "624f7ff1",
   "metadata": {},
   "outputs": [
    {
     "data": {
      "text/plain": [
       "2"
      ]
     },
     "execution_count": 51,
     "metadata": {},
     "output_type": "execute_result"
    }
   ],
   "source": [
    "a.count('a')"
   ]
  },
  {
   "cell_type": "code",
   "execution_count": 52,
   "id": "aff22219",
   "metadata": {
    "scrolled": true
   },
   "outputs": [
    {
     "data": {
      "text/plain": [
       "0"
      ]
     },
     "execution_count": 52,
     "metadata": {},
     "output_type": "execute_result"
    }
   ],
   "source": [
    "a.count('Lakes')"
   ]
  },
  {
   "cell_type": "markdown",
   "id": "cc0efc70",
   "metadata": {},
   "source": [
    "# 10) Finding index of sub string"
   ]
  },
  {
   "cell_type": "code",
   "execution_count": 53,
   "id": "0b114bd9",
   "metadata": {},
   "outputs": [
    {
     "data": {
      "text/plain": [
       "6"
      ]
     },
     "execution_count": 53,
     "metadata": {},
     "output_type": "execute_result"
    }
   ],
   "source": [
    "str4.find('not')"
   ]
  },
  {
   "cell_type": "code",
   "execution_count": 54,
   "id": "94acc8b6",
   "metadata": {},
   "outputs": [
    {
     "data": {
      "text/plain": [
       "4"
      ]
     },
     "execution_count": 54,
     "metadata": {},
     "output_type": "execute_result"
    }
   ],
   "source": [
    "a.find('t')"
   ]
  },
  {
   "cell_type": "code",
   "execution_count": 55,
   "id": "66036b1d",
   "metadata": {},
   "outputs": [
    {
     "data": {
      "text/plain": [
       "-1"
      ]
     },
     "execution_count": 55,
     "metadata": {},
     "output_type": "execute_result"
    }
   ],
   "source": [
    "a.find('Z') #not predent in our string"
   ]
  },
  {
   "cell_type": "markdown",
   "id": "4cce8d2b",
   "metadata": {},
   "source": [
    "# 11) Splitting a string"
   ]
  },
  {
   "cell_type": "code",
   "execution_count": 56,
   "id": "34931a72",
   "metadata": {},
   "outputs": [
    {
     "data": {
      "text/plain": [
       "['\\nI do not feel good ',\n",
       " 't ',\n",
       " \"sn't because \",\n",
       " ' am not phys',\n",
       " 'cally well,\\nbut ',\n",
       " ' feel l',\n",
       " 'ke ',\n",
       " ' cannot compete w',\n",
       " 'th the world,\\nnor aga',\n",
       " 'nst my cous',\n",
       " 'ns too,\\n']"
      ]
     },
     "execution_count": 56,
     "metadata": {},
     "output_type": "execute_result"
    }
   ],
   "source": [
    "str4.split('i')"
   ]
  },
  {
   "cell_type": "code",
   "execution_count": 57,
   "id": "dcf5ada8",
   "metadata": {},
   "outputs": [
    {
     "data": {
      "text/plain": [
       "['Gr', 'at L', 'arning']"
      ]
     },
     "execution_count": 57,
     "metadata": {},
     "output_type": "execute_result"
    }
   ],
   "source": [
    "a.split('e')"
   ]
  },
  {
   "cell_type": "code",
   "execution_count": 58,
   "id": "29093dd3",
   "metadata": {},
   "outputs": [
    {
     "data": {
      "text/plain": [
       "['Great', 'Learning']"
      ]
     },
     "execution_count": 58,
     "metadata": {},
     "output_type": "execute_result"
    }
   ],
   "source": [
    "a.split()"
   ]
  },
  {
   "cell_type": "code",
   "execution_count": 59,
   "id": "7df3a43a",
   "metadata": {},
   "outputs": [
    {
     "data": {
      "text/plain": [
       "['python', 'java', 'c', 'c++', 'r']"
      ]
     },
     "execution_count": 59,
     "metadata": {},
     "output_type": "execute_result"
    }
   ],
   "source": [
    "b='python-java-c-c++-r'\n",
    "c=b.split('-')\n",
    "c"
   ]
  },
  {
   "cell_type": "markdown",
   "id": "6fef3176",
   "metadata": {},
   "source": [
    "# 12) Join"
   ]
  },
  {
   "cell_type": "code",
   "execution_count": 60,
   "id": "89628822",
   "metadata": {},
   "outputs": [
    {
     "data": {
      "text/plain": [
       "'python-java-c-c++-r'"
      ]
     },
     "execution_count": 60,
     "metadata": {},
     "output_type": "execute_result"
    }
   ],
   "source": [
    "\"-\".join(c)"
   ]
  },
  {
   "cell_type": "markdown",
   "id": "b8496e63",
   "metadata": {},
   "source": [
    "# 13) Strip"
   ]
  },
  {
   "cell_type": "code",
   "execution_count": 61,
   "id": "b8d5ac3a",
   "metadata": {},
   "outputs": [
    {
     "data": {
      "text/plain": [
       "'Akshen'"
      ]
     },
     "execution_count": 61,
     "metadata": {},
     "output_type": "execute_result"
    }
   ],
   "source": [
    "s4=\"     ##@   Akshen  $@!\"\n",
    "s4.strip(\"#@ $!\")"
   ]
  },
  {
   "cell_type": "markdown",
   "id": "eeb42bb6",
   "metadata": {},
   "source": [
    "isdigit, isalpha, isascii, isspace, isalnum, isupper, islower, istitle"
   ]
  },
  {
   "cell_type": "code",
   "execution_count": 62,
   "id": "328b8ef7",
   "metadata": {},
   "outputs": [],
   "source": [
    "s5=\"123Akshen\""
   ]
  },
  {
   "cell_type": "code",
   "execution_count": 63,
   "id": "c2f52f20",
   "metadata": {},
   "outputs": [
    {
     "data": {
      "text/plain": [
       "False"
      ]
     },
     "execution_count": 63,
     "metadata": {},
     "output_type": "execute_result"
    }
   ],
   "source": [
    "s5.isdigit()"
   ]
  },
  {
   "cell_type": "code",
   "execution_count": 64,
   "id": "500445d4",
   "metadata": {},
   "outputs": [
    {
     "data": {
      "text/plain": [
       "False"
      ]
     },
     "execution_count": 64,
     "metadata": {},
     "output_type": "execute_result"
    }
   ],
   "source": [
    "s5.isalpha()"
   ]
  },
  {
   "cell_type": "code",
   "execution_count": 65,
   "id": "daa586c5",
   "metadata": {},
   "outputs": [
    {
     "data": {
      "text/plain": [
       "True"
      ]
     },
     "execution_count": 65,
     "metadata": {},
     "output_type": "execute_result"
    }
   ],
   "source": [
    "s5.isascii()"
   ]
  },
  {
   "cell_type": "code",
   "execution_count": 66,
   "id": "492bf28b",
   "metadata": {},
   "outputs": [
    {
     "data": {
      "text/plain": [
       "False"
      ]
     },
     "execution_count": 66,
     "metadata": {},
     "output_type": "execute_result"
    }
   ],
   "source": [
    "s5.isspace()"
   ]
  },
  {
   "cell_type": "code",
   "execution_count": 67,
   "id": "6658b4c5",
   "metadata": {},
   "outputs": [
    {
     "data": {
      "text/plain": [
       "True"
      ]
     },
     "execution_count": 67,
     "metadata": {},
     "output_type": "execute_result"
    }
   ],
   "source": [
    "s5.isalnum()"
   ]
  },
  {
   "cell_type": "markdown",
   "id": "5387acb0",
   "metadata": {},
   "source": [
    "windows + . for emoji"
   ]
  },
  {
   "cell_type": "code",
   "execution_count": 68,
   "id": "466ed13f",
   "metadata": {},
   "outputs": [
    {
     "name": "stdout",
     "output_type": "stream",
     "text": [
      "1 True\n",
      "2 True\n",
      "3 True\n",
      "A False\n",
      "k False\n",
      "s False\n",
      "h False\n",
      "e False\n",
      "n False\n"
     ]
    }
   ],
   "source": [
    "for x in s5:\n",
    "    print(x, x.isdigit())"
   ]
  },
  {
   "cell_type": "code",
   "execution_count": null,
   "id": "4796052c",
   "metadata": {},
   "outputs": [],
   "source": []
  },
  {
   "cell_type": "code",
   "execution_count": null,
   "id": "7cd93d6c",
   "metadata": {},
   "outputs": [],
   "source": []
  },
  {
   "cell_type": "code",
   "execution_count": null,
   "id": "c0b5b099",
   "metadata": {},
   "outputs": [],
   "source": []
  },
  {
   "cell_type": "code",
   "execution_count": 69,
   "id": "a0ff844f",
   "metadata": {},
   "outputs": [
    {
     "data": {
      "text/plain": [
       "'Myself Akshen Dhami, aged 23'"
      ]
     },
     "execution_count": 69,
     "metadata": {},
     "output_type": "execute_result"
    }
   ],
   "source": [
    "Aksh=\"Myself Akshen Dhami, aged 23\"\n",
    "Aksh"
   ]
  },
  {
   "cell_type": "code",
   "execution_count": 70,
   "id": "09ac4eae",
   "metadata": {},
   "outputs": [
    {
     "name": "stdout",
     "output_type": "stream",
     "text": [
      "['__add__', '__class__', '__contains__', '__delattr__', '__dir__', '__doc__', '__eq__', '__format__', '__ge__', '__getattribute__', '__getitem__', '__getnewargs__', '__getstate__', '__gt__', '__hash__', '__init__', '__init_subclass__', '__iter__', '__le__', '__len__', '__lt__', '__mod__', '__mul__', '__ne__', '__new__', '__reduce__', '__reduce_ex__', '__repr__', '__rmod__', '__rmul__', '__setattr__', '__sizeof__', '__str__', '__subclasshook__', 'capitalize', 'casefold', 'center', 'count', 'encode', 'endswith', 'expandtabs', 'find', 'format', 'format_map', 'index', 'isalnum', 'isalpha', 'isascii', 'isdecimal', 'isdigit', 'isidentifier', 'islower', 'isnumeric', 'isprintable', 'isspace', 'istitle', 'isupper', 'join', 'ljust', 'lower', 'lstrip', 'maketrans', 'partition', 'removeprefix', 'removesuffix', 'replace', 'rfind', 'rindex', 'rjust', 'rpartition', 'rsplit', 'rstrip', 'split', 'splitlines', 'startswith', 'strip', 'swapcase', 'title', 'translate', 'upper', 'zfill']\n"
     ]
    }
   ],
   "source": [
    "print(dir(str)) #print directory's string"
   ]
  },
  {
   "cell_type": "code",
   "execution_count": 71,
   "id": "b39f1d74",
   "metadata": {},
   "outputs": [
    {
     "name": "stdout",
     "output_type": "stream",
     "text": [
      "yself Akshen Dhami, aged 23\n",
      "l\n",
      "Myself Akshen Dhami, aged 2\n",
      "Myself Akshen Dhami, aged 23\n",
      " 2\n",
      "efAse hm,ae 3\n",
      "Msl khnDai gd2\n",
      "32 dega ,imahD nehskA flesyM\n",
      "Myself Akshen Dhami, aged 23\n",
      "My Akshen Dhami, aged 23\n",
      "Msl khnDai gd2\n"
     ]
    }
   ],
   "source": [
    "print(Aksh[1:])\n",
    "print(Aksh[5-1])\n",
    "print(Aksh[:-1])\n",
    "print(Aksh[:])\n",
    "print(Aksh[-3:-1])\n",
    "print(Aksh[3::2])\n",
    "print(Aksh[::2])\n",
    "print(Aksh[::-1])\n",
    "print(Aksh[0::])\n",
    "print(Aksh[:2]+Aksh[6:])\n",
    "print(Aksh[0:-1:2])"
   ]
  },
  {
   "cell_type": "code",
   "execution_count": 72,
   "id": "86a075a1",
   "metadata": {},
   "outputs": [
    {
     "ename": "TypeError",
     "evalue": "'str' object does not support item assignment",
     "output_type": "error",
     "traceback": [
      "\u001b[1;31m---------------------------------------------------------------------------\u001b[0m",
      "\u001b[1;31mTypeError\u001b[0m                                 Traceback (most recent call last)",
      "Cell \u001b[1;32mIn[72], line 1\u001b[0m\n\u001b[1;32m----> 1\u001b[0m Aksh[\u001b[38;5;241m0\u001b[39m]\u001b[38;5;241m=\u001b[39m\u001b[38;5;241m2\u001b[39m\n",
      "\u001b[1;31mTypeError\u001b[0m: 'str' object does not support item assignment"
     ]
    }
   ],
   "source": [
    "Aksh[0]=2"
   ]
  },
  {
   "cell_type": "code",
   "execution_count": 84,
   "id": "6e39c79e",
   "metadata": {},
   "outputs": [
    {
     "data": {
      "text/plain": [
       "'Myself akshen dhami, aged 23'"
      ]
     },
     "execution_count": 84,
     "metadata": {},
     "output_type": "execute_result"
    }
   ],
   "source": [
    "Aksh.capitalize()"
   ]
  },
  {
   "cell_type": "code",
   "execution_count": 85,
   "id": "10c640f3",
   "metadata": {},
   "outputs": [
    {
     "data": {
      "text/plain": [
       "'myself akshen dhami, aged 23'"
      ]
     },
     "execution_count": 85,
     "metadata": {},
     "output_type": "execute_result"
    }
   ],
   "source": [
    "Aksh.casefold()"
   ]
  },
  {
   "cell_type": "code",
   "execution_count": 86,
   "id": "fbe33674",
   "metadata": {},
   "outputs": [
    {
     "data": {
      "text/plain": [
       "'Myself Akshen Dhami, aged 23'"
      ]
     },
     "execution_count": 86,
     "metadata": {},
     "output_type": "execute_result"
    }
   ],
   "source": [
    "Aksh.center(25)"
   ]
  },
  {
   "cell_type": "code",
   "execution_count": null,
   "id": "a7bae1b6",
   "metadata": {},
   "outputs": [],
   "source": []
  },
  {
   "cell_type": "code",
   "execution_count": null,
   "id": "226a839d",
   "metadata": {},
   "outputs": [],
   "source": []
  },
  {
   "cell_type": "code",
   "execution_count": null,
   "id": "249e2446",
   "metadata": {},
   "outputs": [],
   "source": []
  }
 ],
 "metadata": {
  "kernelspec": {
   "display_name": "Python 3 (ipykernel)",
   "language": "python",
   "name": "python3"
  },
  "language_info": {
   "codemirror_mode": {
    "name": "ipython",
    "version": 3
   },
   "file_extension": ".py",
   "mimetype": "text/x-python",
   "name": "python",
   "nbconvert_exporter": "python",
   "pygments_lexer": "ipython3",
   "version": "3.11.4"
  }
 },
 "nbformat": 4,
 "nbformat_minor": 5
}
