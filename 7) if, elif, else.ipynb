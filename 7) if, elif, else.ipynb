{
 "cells": [
  {
   "cell_type": "code",
   "execution_count": 3,
   "id": "a7c6ace6",
   "metadata": {},
   "outputs": [
    {
     "name": "stdout",
     "output_type": "stream",
     "text": [
      "enter your nameAkshen\n",
      "Success\n"
     ]
    }
   ],
   "source": [
    "a=str(input('enter your name'))\n",
    "if a=='Akshen':\n",
    "    print('Success')\n",
    "else:\n",
    "    print('Fail')"
   ]
  },
  {
   "cell_type": "markdown",
   "id": "a651c605",
   "metadata": {},
   "source": [
    "# Ages"
   ]
  },
  {
   "cell_type": "code",
   "execution_count": 3,
   "id": "a5a949a2",
   "metadata": {},
   "outputs": [
    {
     "name": "stdout",
     "output_type": "stream",
     "text": [
      "Enter your age: 6\n",
      "Done!\n"
     ]
    }
   ],
   "source": [
    "a=float(input('Enter your age: '))\n",
    "if a>=18:\n",
    "    print('You are eligible')\n",
    "\n",
    "print('Done!')"
   ]
  },
  {
   "cell_type": "code",
   "execution_count": 4,
   "id": "c074b1df",
   "metadata": {},
   "outputs": [
    {
     "name": "stdout",
     "output_type": "stream",
     "text": [
      "Enter your age: 23\n",
      "You are eligible\n",
      "Done!\n"
     ]
    }
   ],
   "source": [
    "a=float(input('Enter your age: '))\n",
    "if a>=18:\n",
    "    print('You are eligible')\n",
    "\n",
    "print('Done!')"
   ]
  },
  {
   "cell_type": "code",
   "execution_count": 6,
   "id": "1b0abbb0",
   "metadata": {},
   "outputs": [
    {
     "name": "stdout",
     "output_type": "stream",
     "text": [
      "Enter your age: 45\n",
      "You are eligible\n",
      "Done!\n"
     ]
    }
   ],
   "source": [
    "a=float(input('Enter your age: '))\n",
    "if a>=18:\n",
    "    print('You are eligible')\n",
    "else:\n",
    "    print('You are not eligible')\n",
    "print('Done!')"
   ]
  },
  {
   "cell_type": "code",
   "execution_count": 7,
   "id": "79ad4adc",
   "metadata": {},
   "outputs": [
    {
     "name": "stdout",
     "output_type": "stream",
     "text": [
      "Enter your age: 4\n",
      "You are not eligible\n",
      "Done!\n"
     ]
    }
   ],
   "source": [
    "a=float(input('Enter your age: '))\n",
    "if a>=18:\n",
    "    print('You are eligible')\n",
    "else:\n",
    "    print('You are not eligible')\n",
    "print('Done!')"
   ]
  },
  {
   "cell_type": "code",
   "execution_count": 8,
   "id": "6caea802",
   "metadata": {},
   "outputs": [
    {
     "name": "stdout",
     "output_type": "stream",
     "text": [
      "Enter your age: 34\n"
     ]
    },
    {
     "data": {
      "text/plain": [
       "'Eligible'"
      ]
     },
     "execution_count": 8,
     "metadata": {},
     "output_type": "execute_result"
    }
   ],
   "source": [
    "a=float(input('Enter your age: '))\n",
    "\"Eligible\" if a>=18 else \"Not eligible\"  # another method"
   ]
  },
  {
   "cell_type": "code",
   "execution_count": 5,
   "id": "98e15c0d",
   "metadata": {},
   "outputs": [
    {
     "name": "stdout",
     "output_type": "stream",
     "text": [
      "Enter your age: 28\n",
      "You are eligible\n",
      "Done!\n"
     ]
    }
   ],
   "source": [
    "a=float(input('Enter your age: '))\n",
    "if (a>=0) and (a<=30):\n",
    "    print('You are eligible')\n",
    "else:\n",
    "    print('You are not eligible')\n",
    "print('Done!')"
   ]
  },
  {
   "cell_type": "code",
   "execution_count": 10,
   "id": "d0e359f0",
   "metadata": {},
   "outputs": [
    {
     "name": "stdout",
     "output_type": "stream",
     "text": [
      "Enter your age: 20\n",
      "You are not eligible\n",
      "Done!\n"
     ]
    }
   ],
   "source": [
    "a=float(input('Enter your age: '))\n",
    "if a>=0 and a<=120:\n",
    "    if a<=18:\n",
    "        print('You are eligible')\n",
    "    else:\n",
    "        print('You are not eligible')\n",
    "else:\n",
    "    print(\"You are not eligible, the end\")\n",
    "print('Done!')"
   ]
  },
  {
   "cell_type": "code",
   "execution_count": 6,
   "id": "07cc2f8f",
   "metadata": {},
   "outputs": [
    {
     "name": "stdout",
     "output_type": "stream",
     "text": [
      "You are not eligible\n",
      "You are eligible\n",
      "You are not eligible, the end\n",
      "You are not eligible\n",
      "Done!\n"
     ]
    }
   ],
   "source": [
    "a=[19,12,130,23]\n",
    "for age in a:\n",
    "    if (age>=0) and (age<=120):\n",
    "        if age<=18:\n",
    "            print('You are eligible')\n",
    "        else:\n",
    "            print('You are not eligible')\n",
    "    else:\n",
    "        print(\"You are not eligible, the end\")\n",
    "print('Done!')"
   ]
  },
  {
   "cell_type": "code",
   "execution_count": 2,
   "id": "ab1955ba",
   "metadata": {},
   "outputs": [
    {
     "name": "stdout",
     "output_type": "stream",
     "text": [
      "Enter your age: 0\n",
      "Invalid Output\n"
     ]
    }
   ],
   "source": [
    "a=float(input('Enter your age: '))\n",
    "if a<=0 or a>=120:\n",
    "    print(\"Invalid Output\")\n",
    "elif a>=18:\n",
    "    print(\"Eligible\")\n",
    "else:\n",
    "    print(\"Not Eligible\")"
   ]
  },
  {
   "cell_type": "code",
   "execution_count": 2,
   "id": "eb2a9f00",
   "metadata": {},
   "outputs": [
    {
     "name": "stdout",
     "output_type": "stream",
     "text": [
      "Enter your age: 121\n",
      "Invalid Output\n"
     ]
    }
   ],
   "source": [
    "a=float(input('Enter your age: '))\n",
    "if a<=0:\n",
    "    print(\"Invalid Output\")\n",
    "elif a>=120:\n",
    "    print(\"Invalid Output\")\n",
    "elif a>=18:\n",
    "    print(\"Eligible\")\n",
    "else:\n",
    "    print(\"Not Eligible\")"
   ]
  },
  {
   "cell_type": "code",
   "execution_count": null,
   "id": "ab532b35",
   "metadata": {},
   "outputs": [],
   "source": []
  },
  {
   "cell_type": "code",
   "execution_count": null,
   "id": "8fba1871",
   "metadata": {},
   "outputs": [],
   "source": []
  },
  {
   "cell_type": "markdown",
   "id": "82ec84e4",
   "metadata": {},
   "source": [
    "# Marks"
   ]
  },
  {
   "cell_type": "code",
   "execution_count": 5,
   "id": "892332ed",
   "metadata": {
    "scrolled": true
   },
   "outputs": [
    {
     "name": "stdout",
     "output_type": "stream",
     "text": [
      "Enter your marks: 55\n",
      "You are fail\n",
      "Your Result\n"
     ]
    }
   ],
   "source": [
    "a=float(input('Enter your marks: '))\n",
    "if a>=60:\n",
    "    print('You are pass')\n",
    "else:\n",
    "    print('You are fail')\n",
    "print(\"Your Result\")"
   ]
  },
  {
   "cell_type": "code",
   "execution_count": 9,
   "id": "a3c26e89",
   "metadata": {},
   "outputs": [
    {
     "name": "stdout",
     "output_type": "stream",
     "text": [
      "Enter your marks: 55\n"
     ]
    },
    {
     "data": {
      "text/plain": [
       "'Fail'"
      ]
     },
     "execution_count": 9,
     "metadata": {},
     "output_type": "execute_result"
    }
   ],
   "source": [
    "a=float(input('Enter your marks: '))\n",
    "\"Pass\" if a>=60 else \"Fail\""
   ]
  },
  {
   "cell_type": "code",
   "execution_count": 20,
   "id": "780c316f",
   "metadata": {},
   "outputs": [
    {
     "name": "stdout",
     "output_type": "stream",
     "text": [
      "Enter your marks: 44\n",
      "You are fail\n"
     ]
    }
   ],
   "source": [
    "a=float(input('Enter your marks: '))\n",
    "if a>=35 and a<=100:\n",
    "    if a>=60:\n",
    "        print('You are pass')\n",
    "    else:\n",
    "        print('You are fail')\n",
    "else:\n",
    "    print(\"Your entered marks aren't in a given value, the end.\")"
   ]
  },
  {
   "cell_type": "code",
   "execution_count": 33,
   "id": "8f8a2363",
   "metadata": {},
   "outputs": [
    {
     "name": "stdout",
     "output_type": "stream",
     "text": [
      "You are eligible\n",
      "You are eligible\n",
      "You are not eligible, the end\n",
      "You are not eligible\n",
      "Done!\n"
     ]
    }
   ],
   "source": [
    "a=[90,82,30,53]\n",
    "for marks in a:\n",
    "    if (marks>=35) and (marks<=100):\n",
    "        if marks>=60:\n",
    "            print('You are eligible')\n",
    "        else:\n",
    "            print('You are not eligible')\n",
    "    else:\n",
    "        print(\"You are not eligible, the end\")\n",
    "print('Done!')"
   ]
  },
  {
   "cell_type": "code",
   "execution_count": 1,
   "id": "d09d3a85",
   "metadata": {},
   "outputs": [
    {
     "name": "stdout",
     "output_type": "stream",
     "text": [
      "Enter your marks: 56\n",
      "Not Eligible\n"
     ]
    }
   ],
   "source": [
    "a=float(input('Enter your marks: '))\n",
    "if a<=0 or a>=100:\n",
    "    print(\"Invalid Output\")\n",
    "elif a>=60:\n",
    "    print(\"Eligible\")\n",
    "else:\n",
    "    print(\"Not Eligible\")"
   ]
  },
  {
   "cell_type": "code",
   "execution_count": 4,
   "id": "31271ed2",
   "metadata": {},
   "outputs": [
    {
     "name": "stdout",
     "output_type": "stream",
     "text": [
      "Enter your marks: 199\n",
      "Invalid Output\n"
     ]
    }
   ],
   "source": [
    "a=float(input('Enter your marks: '))\n",
    "if a<=0:\n",
    "    print(\"Invalid Output\")\n",
    "elif a>=100:\n",
    "    print(\"Invalid Output\")\n",
    "elif a>=60:\n",
    "    print(\"Eligible\")\n",
    "else:\n",
    "    print(\"Not Eligible\")"
   ]
  },
  {
   "cell_type": "code",
   "execution_count": null,
   "id": "e72adcb8",
   "metadata": {},
   "outputs": [],
   "source": []
  },
  {
   "cell_type": "code",
   "execution_count": null,
   "id": "b81ec122",
   "metadata": {},
   "outputs": [],
   "source": []
  },
  {
   "cell_type": "code",
   "execution_count": 23,
   "id": "915fd5f1",
   "metadata": {},
   "outputs": [
    {
     "name": "stdout",
     "output_type": "stream",
     "text": [
      "Stay inside, watch a movie\n"
     ]
    }
   ],
   "source": [
    "a = \"raining\";\n",
    "b = \"not raining\";\n",
    "if a>b:\n",
    "    print(\"Stay inside, watch a movie\")\n",
    "else:\n",
    "    print(\"Play football\")"
   ]
  },
  {
   "cell_type": "code",
   "execution_count": 2,
   "id": "a9af709c",
   "metadata": {},
   "outputs": [
    {
     "name": "stdout",
     "output_type": "stream",
     "text": [
      "b is greater than a\n"
     ]
    }
   ],
   "source": [
    "a=20\n",
    "b=30\n",
    "if a>b:\n",
    "    print(\"a is greater than b\")\n",
    "else:\n",
    "    print(\"b is greater than a\")"
   ]
  },
  {
   "cell_type": "code",
   "execution_count": 3,
   "id": "3195e1a5",
   "metadata": {},
   "outputs": [
    {
     "name": "stdout",
     "output_type": "stream",
     "text": [
      "c is greater than a & b\n"
     ]
    }
   ],
   "source": [
    "a=10\n",
    "b=20\n",
    "c=30\n",
    "if a>b & a>c:\n",
    "    print(\"a is greater than b & c\")\n",
    "elif b>a & b>c:\n",
    "    print(\"b is greater than a & c\")\n",
    "else:\n",
    "    print(\"c is greater than a & b\")\n"
   ]
  },
  {
   "cell_type": "markdown",
   "id": "e0bebe6a",
   "metadata": {},
   "source": [
    "# if with tuple"
   ]
  },
  {
   "cell_type": "code",
   "execution_count": 7,
   "id": "fa01d09a",
   "metadata": {},
   "outputs": [
    {
     "name": "stdout",
     "output_type": "stream",
     "text": [
      "enter the letter-z\n",
      "z is present in tup\n"
     ]
    }
   ],
   "source": [
    "tup=str(input(\"enter the letter-\"))\n",
    "if \"z\" in tup:\n",
    "    print(\"z is present in tup\")\n",
    "else:\n",
    "    print(\"z is absent in tup\")"
   ]
  },
  {
   "cell_type": "code",
   "execution_count": 5,
   "id": "77ef1116",
   "metadata": {},
   "outputs": [
    {
     "data": {
      "text/plain": [
       "tuple"
      ]
     },
     "execution_count": 5,
     "metadata": {},
     "output_type": "execute_result"
    }
   ],
   "source": [
    "type(tup)"
   ]
  },
  {
   "cell_type": "markdown",
   "id": "2f519955",
   "metadata": {},
   "source": [
    "# if with list"
   ]
  },
  {
   "cell_type": "code",
   "execution_count": 6,
   "id": "0c5651cc",
   "metadata": {},
   "outputs": [
    {
     "name": "stdout",
     "output_type": "stream",
     "text": [
      "z is absent in lis\n"
     ]
    }
   ],
   "source": [
    "lis=[\"a\",\"b\",\"c\"]\n",
    "if \"z\" in lis:\n",
    "    print(\"z is present in lis\")\n",
    "else:\n",
    "    print(\"z is absent in lis\")"
   ]
  },
  {
   "cell_type": "code",
   "execution_count": 7,
   "id": "7898cb8f",
   "metadata": {},
   "outputs": [
    {
     "data": {
      "text/plain": [
       "list"
      ]
     },
     "execution_count": 7,
     "metadata": {},
     "output_type": "execute_result"
    }
   ],
   "source": [
    "type(lis)"
   ]
  },
  {
   "cell_type": "code",
   "execution_count": 8,
   "id": "6177be4c",
   "metadata": {},
   "outputs": [
    {
     "data": {
      "text/plain": [
       "['a', 'z', 'c']"
      ]
     },
     "execution_count": 8,
     "metadata": {},
     "output_type": "execute_result"
    }
   ],
   "source": [
    "lis2=['a','b','c']\n",
    "if lis2[1]=='b':\n",
    "    lis2[1]='z'\n",
    "lis2"
   ]
  },
  {
   "cell_type": "code",
   "execution_count": 9,
   "id": "3eeea18c",
   "metadata": {},
   "outputs": [
    {
     "data": {
      "text/plain": [
       "list"
      ]
     },
     "execution_count": 9,
     "metadata": {},
     "output_type": "execute_result"
    }
   ],
   "source": [
    "type(lis2)"
   ]
  },
  {
   "cell_type": "markdown",
   "id": "cf7e601b",
   "metadata": {},
   "source": [
    "# if with dictionary"
   ]
  },
  {
   "cell_type": "code",
   "execution_count": 15,
   "id": "94f87850",
   "metadata": {},
   "outputs": [],
   "source": [
    "dic={'a':10,'b':20,'c':30}\n",
    "dic['c']=40"
   ]
  },
  {
   "cell_type": "code",
   "execution_count": 16,
   "id": "57df32c3",
   "metadata": {},
   "outputs": [
    {
     "data": {
      "text/plain": [
       "{'a': 10, 'b': 20, 'c': 40}"
      ]
     },
     "execution_count": 16,
     "metadata": {},
     "output_type": "execute_result"
    }
   ],
   "source": [
    "dic"
   ]
  },
  {
   "cell_type": "code",
   "execution_count": 12,
   "id": "3b5b761b",
   "metadata": {},
   "outputs": [
    {
     "data": {
      "text/plain": [
       "{'a': 10, 'b': 20, 'c': 90}"
      ]
     },
     "execution_count": 12,
     "metadata": {},
     "output_type": "execute_result"
    }
   ],
   "source": [
    "dic={'a':10,'b':20,'c':30}\n",
    "if dic['c']==30:\n",
    "    dic['c']=dic['c']+60\n",
    "dic"
   ]
  },
  {
   "cell_type": "code",
   "execution_count": 13,
   "id": "a3c54d93",
   "metadata": {},
   "outputs": [
    {
     "data": {
      "text/plain": [
       "dict"
      ]
     },
     "execution_count": 13,
     "metadata": {},
     "output_type": "execute_result"
    }
   ],
   "source": [
    "type(dic)"
   ]
  },
  {
   "cell_type": "markdown",
   "id": "57dd0662",
   "metadata": {},
   "source": [
    "# if with set"
   ]
  },
  {
   "cell_type": "code",
   "execution_count": 14,
   "id": "a2b1d4b8",
   "metadata": {},
   "outputs": [
    {
     "name": "stdout",
     "output_type": "stream",
     "text": [
      "z is absent in set\n"
     ]
    }
   ],
   "source": [
    "se={\"a\",\"b\",\"c\"}\n",
    "if \"z\" in dic:\n",
    "    print(\"z is present in set\")\n",
    "else:\n",
    "    print(\"z is absent in set\")"
   ]
  },
  {
   "cell_type": "code",
   "execution_count": 15,
   "id": "b0941e15",
   "metadata": {},
   "outputs": [
    {
     "data": {
      "text/plain": [
       "set"
      ]
     },
     "execution_count": 15,
     "metadata": {},
     "output_type": "execute_result"
    }
   ],
   "source": [
    "type(se)"
   ]
  },
  {
   "cell_type": "code",
   "execution_count": null,
   "id": "d6729c76",
   "metadata": {},
   "outputs": [],
   "source": []
  }
 ],
 "metadata": {
  "kernelspec": {
   "display_name": "Python 3 (ipykernel)",
   "language": "python",
   "name": "python3"
  },
  "language_info": {
   "codemirror_mode": {
    "name": "ipython",
    "version": 3
   },
   "file_extension": ".py",
   "mimetype": "text/x-python",
   "name": "python",
   "nbconvert_exporter": "python",
   "pygments_lexer": "ipython3",
   "version": "3.11.4"
  }
 },
 "nbformat": 4,
 "nbformat_minor": 5
}
