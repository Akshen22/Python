{
 "cells": [
  {
   "cell_type": "markdown",
   "id": "90b8931c",
   "metadata": {},
   "source": [
    "# Data Structure_List"
   ]
  },
  {
   "cell_type": "markdown",
   "id": "10478d59",
   "metadata": {},
   "source": [
    "list is mutable (can change),.append(), extend, insert, remove, pop, clear, count, index, reverse, sort, copy, min, max, length, sum"
   ]
  },
  {
   "cell_type": "code",
   "execution_count": 1,
   "id": "86011ec0",
   "metadata": {},
   "outputs": [
    {
     "data": {
      "text/plain": [
       "[1, 3, 5, 7, 9]"
      ]
     },
     "execution_count": 1,
     "metadata": {},
     "output_type": "execute_result"
    }
   ],
   "source": [
    "lis1=[1,3,5,7,9]\n",
    "lis1"
   ]
  },
  {
   "cell_type": "code",
   "execution_count": 2,
   "id": "6430aef1",
   "metadata": {},
   "outputs": [
    {
     "data": {
      "text/plain": [
       "[2, 4.6, 'Akshen', (3+6j), True]"
      ]
     },
     "execution_count": 2,
     "metadata": {},
     "output_type": "execute_result"
    }
   ],
   "source": [
    "lis2=[2,4.6,\"Akshen\",3+6j,True]\n",
    "lis2"
   ]
  },
  {
   "cell_type": "code",
   "execution_count": 3,
   "id": "0ccbd031",
   "metadata": {},
   "outputs": [
    {
     "data": {
      "text/plain": [
       "2"
      ]
     },
     "execution_count": 3,
     "metadata": {},
     "output_type": "execute_result"
    }
   ],
   "source": [
    "lis2[0]"
   ]
  },
  {
   "cell_type": "code",
   "execution_count": 4,
   "id": "99e79b76",
   "metadata": {},
   "outputs": [
    {
     "data": {
      "text/plain": [
       "['Akshen', (3+6j), True]"
      ]
     },
     "execution_count": 4,
     "metadata": {},
     "output_type": "execute_result"
    }
   ],
   "source": [
    "lis2[2:]"
   ]
  },
  {
   "cell_type": "code",
   "execution_count": 5,
   "id": "2ebb7246",
   "metadata": {},
   "outputs": [
    {
     "data": {
      "text/plain": [
       "[2, 4.6]"
      ]
     },
     "execution_count": 5,
     "metadata": {},
     "output_type": "execute_result"
    }
   ],
   "source": [
    "lis2[:2]"
   ]
  },
  {
   "cell_type": "code",
   "execution_count": 6,
   "id": "d4119398",
   "metadata": {},
   "outputs": [
    {
     "data": {
      "text/plain": [
       "[2, 4.6, 'Akshen', (3+6j), True]"
      ]
     },
     "execution_count": 6,
     "metadata": {},
     "output_type": "execute_result"
    }
   ],
   "source": [
    "lis2[0:]"
   ]
  },
  {
   "cell_type": "code",
   "execution_count": 7,
   "id": "30e6b254",
   "metadata": {},
   "outputs": [
    {
     "data": {
      "text/plain": [
       "[2, 4.6, 'Akshen', (3+6j), True]"
      ]
     },
     "execution_count": 7,
     "metadata": {},
     "output_type": "execute_result"
    }
   ],
   "source": [
    "lis2[:]"
   ]
  },
  {
   "cell_type": "code",
   "execution_count": 8,
   "id": "0f45a11b",
   "metadata": {},
   "outputs": [
    {
     "data": {
      "text/plain": [
       "'Akshe'"
      ]
     },
     "execution_count": 8,
     "metadata": {},
     "output_type": "execute_result"
    }
   ],
   "source": [
    "lis2[2][:-1]"
   ]
  },
  {
   "cell_type": "code",
   "execution_count": 9,
   "id": "04da89b8",
   "metadata": {},
   "outputs": [
    {
     "data": {
      "text/plain": [
       "list"
      ]
     },
     "execution_count": 9,
     "metadata": {},
     "output_type": "execute_result"
    }
   ],
   "source": [
    "type(lis2)"
   ]
  },
  {
   "cell_type": "code",
   "execution_count": 10,
   "id": "5f78b72c",
   "metadata": {},
   "outputs": [
    {
     "data": {
      "text/plain": [
       "5"
      ]
     },
     "execution_count": 10,
     "metadata": {},
     "output_type": "execute_result"
    }
   ],
   "source": [
    "len(lis1)"
   ]
  },
  {
   "cell_type": "code",
   "execution_count": 11,
   "id": "30dfd8e0",
   "metadata": {},
   "outputs": [
    {
     "data": {
      "text/plain": [
       "1"
      ]
     },
     "execution_count": 11,
     "metadata": {},
     "output_type": "execute_result"
    }
   ],
   "source": [
    "lis1.count(3)"
   ]
  },
  {
   "cell_type": "markdown",
   "id": "8b4e4405",
   "metadata": {},
   "source": [
    "# Extract individual elements"
   ]
  },
  {
   "cell_type": "code",
   "execution_count": 12,
   "id": "924d797e",
   "metadata": {},
   "outputs": [
    {
     "data": {
      "text/plain": [
       "9"
      ]
     },
     "execution_count": 12,
     "metadata": {},
     "output_type": "execute_result"
    }
   ],
   "source": [
    "lis1[4]"
   ]
  },
  {
   "cell_type": "code",
   "execution_count": 13,
   "id": "c090dd22",
   "metadata": {},
   "outputs": [
    {
     "data": {
      "text/plain": [
       "5"
      ]
     },
     "execution_count": 13,
     "metadata": {},
     "output_type": "execute_result"
    }
   ],
   "source": [
    "lis1[-3]"
   ]
  },
  {
   "cell_type": "code",
   "execution_count": 14,
   "id": "65ab89ea",
   "metadata": {},
   "outputs": [
    {
     "data": {
      "text/plain": [
       "[3, 5, 7, 9]"
      ]
     },
     "execution_count": 14,
     "metadata": {},
     "output_type": "execute_result"
    }
   ],
   "source": [
    "lis1[1:6]"
   ]
  },
  {
   "cell_type": "markdown",
   "id": "48f69860",
   "metadata": {},
   "source": [
    "# Basic Operation (Combine/Concatenating)"
   ]
  },
  {
   "cell_type": "code",
   "execution_count": 15,
   "id": "3e3bd606",
   "metadata": {},
   "outputs": [
    {
     "data": {
      "text/plain": [
       "[1, 3, 5, 7, 9, 2, 4.6, 'Akshen', (3+6j), True]"
      ]
     },
     "execution_count": 15,
     "metadata": {},
     "output_type": "execute_result"
    }
   ],
   "source": [
    "lis1+lis2"
   ]
  },
  {
   "cell_type": "code",
   "execution_count": 16,
   "id": "be31f0f5",
   "metadata": {},
   "outputs": [
    {
     "data": {
      "text/plain": [
       "[1, 3, 5, 7, 9, 1, 3, 5, 7, 9, 2, 4.6, 'Akshen', (3+6j), True]"
      ]
     },
     "execution_count": 16,
     "metadata": {},
     "output_type": "execute_result"
    }
   ],
   "source": [
    "lis1*2+lis2"
   ]
  },
  {
   "cell_type": "markdown",
   "id": "7f5ba3e4",
   "metadata": {},
   "source": [
    "# Modify"
   ]
  },
  {
   "cell_type": "code",
   "execution_count": 17,
   "id": "465044bc",
   "metadata": {},
   "outputs": [],
   "source": [
    "lis1[2]=4"
   ]
  },
  {
   "cell_type": "code",
   "execution_count": 18,
   "id": "3b23aee0",
   "metadata": {},
   "outputs": [
    {
     "data": {
      "text/plain": [
       "[1, 3, 4, 7, 9]"
      ]
     },
     "execution_count": 18,
     "metadata": {},
     "output_type": "execute_result"
    }
   ],
   "source": [
    "lis1"
   ]
  },
  {
   "cell_type": "markdown",
   "id": "e6718bbb",
   "metadata": {},
   "source": [
    "# Append/Add"
   ]
  },
  {
   "cell_type": "code",
   "execution_count": 19,
   "id": "fb9a7636",
   "metadata": {},
   "outputs": [
    {
     "data": {
      "text/plain": [
       "[1, 3, 4, 7, 9, 'Family']"
      ]
     },
     "execution_count": 19,
     "metadata": {},
     "output_type": "execute_result"
    }
   ],
   "source": [
    "lis1.append(\"Family\") #single value\n",
    "lis1"
   ]
  },
  {
   "cell_type": "code",
   "execution_count": 20,
   "id": "c4a00703",
   "metadata": {},
   "outputs": [
    {
     "data": {
      "text/plain": [
       "[1, 3, 4, 7, 9, 'Family', 'Family']"
      ]
     },
     "execution_count": 20,
     "metadata": {},
     "output_type": "execute_result"
    }
   ],
   "source": [
    "lis1.append(\"Family\")\n",
    "lis1"
   ]
  },
  {
   "cell_type": "markdown",
   "id": "064bc3de",
   "metadata": {},
   "source": [
    "# Extend"
   ]
  },
  {
   "cell_type": "code",
   "execution_count": 21,
   "id": "cae652a6",
   "metadata": {},
   "outputs": [
    {
     "data": {
      "text/plain": [
       "[1, 3, 4, 7, 9, 'Family', 'Family', 'Family', 'Fam', 'Life']"
      ]
     },
     "execution_count": 21,
     "metadata": {},
     "output_type": "execute_result"
    }
   ],
   "source": [
    "lis1.extend([\"Family\", \"Fam\", \"Life\"]) #multiple value\n",
    "lis1"
   ]
  },
  {
   "cell_type": "markdown",
   "id": "f942a1cd",
   "metadata": {},
   "source": [
    "# Insert"
   ]
  },
  {
   "cell_type": "markdown",
   "id": "7b7c52d7",
   "metadata": {},
   "source": [
    "b.insert(1, \"Data Scientist\") #insert at a given place\n",
    "b"
   ]
  },
  {
   "cell_type": "markdown",
   "id": "048dfe07",
   "metadata": {},
   "source": [
    "# Pop (remove last element)"
   ]
  },
  {
   "cell_type": "code",
   "execution_count": 22,
   "id": "fc9ae3af",
   "metadata": {},
   "outputs": [
    {
     "data": {
      "text/plain": [
       "[1, 3, 4, 7, 9, 'Family', 'Family', 'Family', 'Fam']"
      ]
     },
     "execution_count": 22,
     "metadata": {},
     "output_type": "execute_result"
    }
   ],
   "source": [
    "lis1.pop()\n",
    "lis1"
   ]
  },
  {
   "cell_type": "markdown",
   "id": "e3c2aeed",
   "metadata": {},
   "source": [
    "## remove vs pop vs clear: in remove will remove the place we want to, in pop will remove automatically the last value, in clear it removes all the values"
   ]
  },
  {
   "cell_type": "markdown",
   "id": "98ad5377",
   "metadata": {},
   "source": [
    "# Modifying the list: Reverse, Insert, Remove, Sort"
   ]
  },
  {
   "cell_type": "code",
   "execution_count": 23,
   "id": "a9d2c28f",
   "metadata": {},
   "outputs": [
    {
     "data": {
      "text/plain": [
       "['Fam', 'Family', 'Family', 'Family', 9, 7, 4, 3, 1]"
      ]
     },
     "execution_count": 23,
     "metadata": {},
     "output_type": "execute_result"
    }
   ],
   "source": [
    "lis1.reverse()\n",
    "lis1"
   ]
  },
  {
   "cell_type": "code",
   "execution_count": 24,
   "id": "10bb1b96",
   "metadata": {},
   "outputs": [
    {
     "data": {
      "text/plain": [
       "['Fam', 'Akshen', 'Family', 'Family', 'Family', 9, 7, 4, 3, 1]"
      ]
     },
     "execution_count": 24,
     "metadata": {},
     "output_type": "execute_result"
    }
   ],
   "source": [
    "lis1.insert(1, \"Akshen\")\n",
    "lis1"
   ]
  },
  {
   "cell_type": "code",
   "execution_count": 25,
   "id": "1b52e858",
   "metadata": {},
   "outputs": [
    {
     "data": {
      "text/plain": [
       "['Fam', 'Family', 'Family', 'Family', 9, 7, 4, 3, 1]"
      ]
     },
     "execution_count": 25,
     "metadata": {},
     "output_type": "execute_result"
    }
   ],
   "source": [
    "lis1.remove(\"Akshen\")\n",
    "lis1"
   ]
  },
  {
   "cell_type": "markdown",
   "id": "3453a656",
   "metadata": {},
   "source": [
    "lis1.sort()\n",
    "lis1\n",
    "#it wont run as it will show that numeric and alp cant be sort together"
   ]
  },
  {
   "cell_type": "code",
   "execution_count": 26,
   "id": "d8aa4ec1",
   "metadata": {},
   "outputs": [
    {
     "data": {
      "text/plain": [
       "[2, 3, 4, 6, 7]"
      ]
     },
     "execution_count": 26,
     "metadata": {},
     "output_type": "execute_result"
    }
   ],
   "source": [
    "lis3=[2,4,3,6,7]\n",
    "lis3.sort()\n",
    "lis3"
   ]
  },
  {
   "cell_type": "code",
   "execution_count": 27,
   "id": "a62c8b42",
   "metadata": {},
   "outputs": [
    {
     "data": {
      "text/plain": [
       "['a', 'b', 'c', 'g', 'h', 'r']"
      ]
     },
     "execution_count": 27,
     "metadata": {},
     "output_type": "execute_result"
    }
   ],
   "source": [
    "lis4=['a','g','b','h','c','r']\n",
    "lis4.sort()\n",
    "lis4"
   ]
  },
  {
   "cell_type": "code",
   "execution_count": null,
   "id": "1539fbb6",
   "metadata": {},
   "outputs": [],
   "source": []
  },
  {
   "cell_type": "code",
   "execution_count": 28,
   "id": "1876ac80",
   "metadata": {},
   "outputs": [
    {
     "data": {
      "text/plain": [
       "['Python', 82, 92]"
      ]
     },
     "execution_count": 28,
     "metadata": {},
     "output_type": "execute_result"
    }
   ],
   "source": [
    "b=['Python', 82, 92]\n",
    "b"
   ]
  },
  {
   "cell_type": "code",
   "execution_count": 29,
   "id": "8625fb66",
   "metadata": {},
   "outputs": [
    {
     "data": {
      "text/plain": [
       "['R', 82, 92]"
      ]
     },
     "execution_count": 29,
     "metadata": {},
     "output_type": "execute_result"
    }
   ],
   "source": [
    "b[0]='R'\n",
    "b"
   ]
  },
  {
   "cell_type": "code",
   "execution_count": 48,
   "id": "ad3eb369",
   "metadata": {},
   "outputs": [
    {
     "data": {
      "text/plain": [
       "['Java', 91, 92]"
      ]
     },
     "execution_count": 48,
     "metadata": {},
     "output_type": "execute_result"
    }
   ],
   "source": [
    "b=['Python', 82, 92]\n",
    "b[:2]=[\"Java\", 91]\n",
    "b"
   ]
  },
  {
   "cell_type": "code",
   "execution_count": 49,
   "id": "68219295",
   "metadata": {},
   "outputs": [
    {
     "data": {
      "text/plain": [
       "['Python', 82, 92, ['Java', 91, 70, 75]]"
      ]
     },
     "execution_count": 49,
     "metadata": {},
     "output_type": "execute_result"
    }
   ],
   "source": [
    "b=['Python', 82, 92,[20,50,70,75]]\n",
    "b[3][0:2]=[\"Java\", 91]\n",
    "b"
   ]
  },
  {
   "cell_type": "code",
   "execution_count": 50,
   "id": "b2772b8c",
   "metadata": {},
   "outputs": [
    {
     "name": "stdout",
     "output_type": "stream",
     "text": [
      "Python\n",
      "82\n",
      "92\n",
      "['Java', 91, 70, 75]\n"
     ]
    }
   ],
   "source": [
    "for i in b:\n",
    "    print(i)"
   ]
  },
  {
   "cell_type": "code",
   "execution_count": 51,
   "id": "29839f17",
   "metadata": {},
   "outputs": [
    {
     "data": {
      "text/plain": [
       "4"
      ]
     },
     "execution_count": 51,
     "metadata": {},
     "output_type": "execute_result"
    }
   ],
   "source": [
    "len(b)"
   ]
  },
  {
   "cell_type": "code",
   "execution_count": 52,
   "id": "dbc5e975",
   "metadata": {},
   "outputs": [
    {
     "name": "stdout",
     "output_type": "stream",
     "text": [
      "['__add__', '__class__', '__class_getitem__', '__contains__', '__delattr__', '__delitem__', '__dir__', '__doc__', '__eq__', '__format__', '__ge__', '__getattribute__', '__getitem__', '__getstate__', '__gt__', '__hash__', '__iadd__', '__imul__', '__init__', '__init_subclass__', '__iter__', '__le__', '__len__', '__lt__', '__mul__', '__ne__', '__new__', '__reduce__', '__reduce_ex__', '__repr__', '__reversed__', '__rmul__', '__setattr__', '__setitem__', '__sizeof__', '__str__', '__subclasshook__', 'append', 'clear', 'copy', 'count', 'extend', 'index', 'insert', 'pop', 'remove', 'reverse', 'sort']\n"
     ]
    }
   ],
   "source": [
    "print(dir(list))"
   ]
  },
  {
   "cell_type": "markdown",
   "id": "c20b63a7",
   "metadata": {},
   "source": [
    "'append', 'clear', 'copy', 'count', 'extend', 'index', 'insert', 'pop', 'remove', 'reverse', 'sort'"
   ]
  },
  {
   "cell_type": "code",
   "execution_count": null,
   "id": "a48fa0b9",
   "metadata": {},
   "outputs": [],
   "source": []
  },
  {
   "cell_type": "markdown",
   "id": "e9eea548",
   "metadata": {},
   "source": [
    "# Insert"
   ]
  },
  {
   "cell_type": "code",
   "execution_count": 53,
   "id": "ad41296a",
   "metadata": {},
   "outputs": [
    {
     "data": {
      "text/plain": [
       "['Python', 'Data Scientist', 82, 92, ['Java', 91, 70, 75]]"
      ]
     },
     "execution_count": 53,
     "metadata": {},
     "output_type": "execute_result"
    }
   ],
   "source": [
    "b.insert(1, \"Data Scientist\") #insert at a given place\n",
    "b"
   ]
  },
  {
   "cell_type": "code",
   "execution_count": 54,
   "id": "4ef9aca5",
   "metadata": {},
   "outputs": [
    {
     "data": {
      "text/plain": [
       "['Python', 'Data Scientist', 'Family', 82, 92, ['Java', 91, 70, 75]]"
      ]
     },
     "execution_count": 54,
     "metadata": {},
     "output_type": "execute_result"
    }
   ],
   "source": [
    "b.insert(2,'Family')\n",
    "b"
   ]
  },
  {
   "cell_type": "code",
   "execution_count": 55,
   "id": "c3601a69",
   "metadata": {},
   "outputs": [
    {
     "data": {
      "text/plain": [
       "1"
      ]
     },
     "execution_count": 55,
     "metadata": {},
     "output_type": "execute_result"
    }
   ],
   "source": [
    "b.count(\"Family\")"
   ]
  },
  {
   "cell_type": "code",
   "execution_count": 56,
   "id": "32c4bdb2",
   "metadata": {},
   "outputs": [
    {
     "data": {
      "text/plain": [
       "2"
      ]
     },
     "execution_count": 56,
     "metadata": {},
     "output_type": "execute_result"
    }
   ],
   "source": [
    "b.index(\"Family\")"
   ]
  },
  {
   "cell_type": "code",
   "execution_count": 57,
   "id": "7f281bfb",
   "metadata": {},
   "outputs": [
    {
     "ename": "TypeError",
     "evalue": "'str' object does not support item assignment",
     "output_type": "error",
     "traceback": [
      "\u001b[1;31m---------------------------------------------------------------------------\u001b[0m",
      "\u001b[1;31mTypeError\u001b[0m                                 Traceback (most recent call last)",
      "Cell \u001b[1;32mIn[57], line 1\u001b[0m\n\u001b[1;32m----> 1\u001b[0m b[\u001b[38;5;241m2\u001b[39m][\u001b[38;5;241m2\u001b[39m:\u001b[38;5;241m3\u001b[39m]\u001b[38;5;241m=\u001b[39m[\u001b[38;5;124m'\u001b[39m\u001b[38;5;124my\u001b[39m\u001b[38;5;124m'\u001b[39m]\n\u001b[0;32m      2\u001b[0m b[\u001b[38;5;241m3\u001b[39m][\u001b[38;5;241m0\u001b[39m:\u001b[38;5;241m2\u001b[39m]\u001b[38;5;241m=\u001b[39m[\u001b[38;5;124m\"\u001b[39m\u001b[38;5;124mJava\u001b[39m\u001b[38;5;124m\"\u001b[39m, \u001b[38;5;241m91\u001b[39m]\n",
      "\u001b[1;31mTypeError\u001b[0m: 'str' object does not support item assignment"
     ]
    }
   ],
   "source": [
    "b[2][2:3]=['y']\n",
    "b[3][0:2]=[\"Java\", 91]"
   ]
  },
  {
   "cell_type": "code",
   "execution_count": 60,
   "id": "dc5b3012",
   "metadata": {},
   "outputs": [
    {
     "data": {
      "text/plain": [
       "['Python', 'Data Scientist', 'Fayilyyily', 82, 92, ['Java', 91, 70, 75]]"
      ]
     },
     "execution_count": 60,
     "metadata": {},
     "output_type": "execute_result"
    }
   ],
   "source": [
    "b[2] = b[2] + 'y' + b[2][3:]\n",
    "b"
   ]
  },
  {
   "cell_type": "code",
   "execution_count": 61,
   "id": "5ae970d2",
   "metadata": {},
   "outputs": [
    {
     "name": "stdout",
     "output_type": "stream",
     "text": [
      "[10, 20, 30] + [40, 50, 60] = [10, 20, 30, 40, 50, 60]\n",
      "[10, 20, 30] * 5 = [10, 20, 30, 10, 20, 30, 10, 20, 30, 10, 20, 30, 10, 20, 30]\n"
     ]
    }
   ],
   "source": [
    "#: + and *\n",
    "list1= [10,20,30]\n",
    "list2=[40,50,60]\n",
    "\n",
    "print(list1, \"+\", list2, \"=\", list1+list2)\n",
    "print(list1, \"*\", \"5\", \"=\", list1*5)"
   ]
  },
  {
   "cell_type": "code",
   "execution_count": 62,
   "id": "72d0f77a",
   "metadata": {},
   "outputs": [
    {
     "data": {
      "text/plain": [
       "['Python', 'Data Scientist', 'Fayilyyily', 82, ['Java', 91, 70, 75]]"
      ]
     },
     "execution_count": 62,
     "metadata": {},
     "output_type": "execute_result"
    }
   ],
   "source": [
    "b.remove(92)\n",
    "b"
   ]
  },
  {
   "cell_type": "code",
   "execution_count": null,
   "id": "4a4c1088",
   "metadata": {},
   "outputs": [],
   "source": []
  },
  {
   "cell_type": "code",
   "execution_count": 63,
   "id": "666d803f",
   "metadata": {},
   "outputs": [
    {
     "data": {
      "text/plain": [
       "['Java', 91, 70, 75]"
      ]
     },
     "execution_count": 63,
     "metadata": {},
     "output_type": "execute_result"
    }
   ],
   "source": [
    "b.pop()"
   ]
  },
  {
   "cell_type": "code",
   "execution_count": 64,
   "id": "86f6d243",
   "metadata": {},
   "outputs": [
    {
     "data": {
      "text/plain": [
       "82"
      ]
     },
     "execution_count": 64,
     "metadata": {},
     "output_type": "execute_result"
    }
   ],
   "source": [
    "b.pop()"
   ]
  },
  {
   "cell_type": "code",
   "execution_count": 65,
   "id": "05227c66",
   "metadata": {},
   "outputs": [
    {
     "data": {
      "text/plain": [
       "['Python', 'Data Scientist', 'Fayilyyily']"
      ]
     },
     "execution_count": 65,
     "metadata": {},
     "output_type": "execute_result"
    }
   ],
   "source": [
    "b"
   ]
  },
  {
   "cell_type": "code",
   "execution_count": 66,
   "id": "bfe9a5d2",
   "metadata": {},
   "outputs": [
    {
     "name": "stdout",
     "output_type": "stream",
     "text": [
      "Fayilyyily\n",
      "Data Scientist\n",
      "Python\n"
     ]
    }
   ],
   "source": [
    "for i in range (3):\n",
    "    print(b.pop())"
   ]
  },
  {
   "cell_type": "code",
   "execution_count": 67,
   "id": "393c08bd",
   "metadata": {},
   "outputs": [
    {
     "data": {
      "text/plain": [
       "[]"
      ]
     },
     "execution_count": 67,
     "metadata": {},
     "output_type": "execute_result"
    }
   ],
   "source": [
    "b"
   ]
  },
  {
   "cell_type": "code",
   "execution_count": 71,
   "id": "5b4aa2a8",
   "metadata": {},
   "outputs": [
    {
     "name": "stdout",
     "output_type": "stream",
     "text": [
      "0\n",
      "1\n"
     ]
    }
   ],
   "source": [
    "i=['Java', [91, 70,], 7,82,'Data Scientist', 'ml']\n",
    "for i in range(2):\n",
    "    print(i)"
   ]
  },
  {
   "cell_type": "code",
   "execution_count": 72,
   "id": "5af4d4dd",
   "metadata": {},
   "outputs": [
    {
     "data": {
      "text/plain": [
       "[]"
      ]
     },
     "execution_count": 72,
     "metadata": {},
     "output_type": "execute_result"
    }
   ],
   "source": [
    "d=['Java', [91, 70,], 7, 'ml']\n",
    "d.clear()\n",
    "d"
   ]
  },
  {
   "cell_type": "code",
   "execution_count": 73,
   "id": "2a8e3f2a",
   "metadata": {},
   "outputs": [
    {
     "data": {
      "text/plain": [
       "['Java',\n",
       " [91, 70],\n",
       " 7,\n",
       " 82,\n",
       " 'Data Scientist',\n",
       " 'ml',\n",
       " 'Java',\n",
       " [91, 70],\n",
       " 7,\n",
       " 82,\n",
       " 'Data Scientist',\n",
       " 'ml']"
      ]
     },
     "execution_count": 73,
     "metadata": {},
     "output_type": "execute_result"
    }
   ],
   "source": [
    "d=['Java', [91, 70,], 7,82,'Data Scientist', 'ml']\n",
    "d.extend(['Java', [91, 70,], 7,82,'Data Scientist', 'ml'])\n",
    "d"
   ]
  },
  {
   "cell_type": "code",
   "execution_count": 74,
   "id": "8186a0f8",
   "metadata": {},
   "outputs": [
    {
     "data": {
      "text/plain": [
       "['ml',\n",
       " 'Data Scientist',\n",
       " 82,\n",
       " 7,\n",
       " [91, 70],\n",
       " 'Java',\n",
       " 'ml',\n",
       " 'Data Scientist',\n",
       " 82,\n",
       " 7,\n",
       " [91, 70],\n",
       " 'Java']"
      ]
     },
     "execution_count": 74,
     "metadata": {},
     "output_type": "execute_result"
    }
   ],
   "source": [
    "d.reverse()\n",
    "d"
   ]
  },
  {
   "cell_type": "code",
   "execution_count": 75,
   "id": "58a3387e",
   "metadata": {},
   "outputs": [
    {
     "ename": "TypeError",
     "evalue": "'<' not supported between instances of 'int' and 'str'",
     "output_type": "error",
     "traceback": [
      "\u001b[1;31m---------------------------------------------------------------------------\u001b[0m",
      "\u001b[1;31mTypeError\u001b[0m                                 Traceback (most recent call last)",
      "Cell \u001b[1;32mIn[75], line 1\u001b[0m\n\u001b[1;32m----> 1\u001b[0m d\u001b[38;5;241m.\u001b[39msort()\n\u001b[0;32m      2\u001b[0m d\n",
      "\u001b[1;31mTypeError\u001b[0m: '<' not supported between instances of 'int' and 'str'"
     ]
    }
   ],
   "source": [
    "d.sort()\n",
    "d"
   ]
  },
  {
   "cell_type": "code",
   "execution_count": 76,
   "id": "70e3f097",
   "metadata": {},
   "outputs": [
    {
     "data": {
      "text/plain": [
       "[1, 4, 5, 6.7]"
      ]
     },
     "execution_count": 76,
     "metadata": {},
     "output_type": "execute_result"
    }
   ],
   "source": [
    "e=[1,4,5,6.7]\n",
    "e.sort()\n",
    "e"
   ]
  },
  {
   "cell_type": "code",
   "execution_count": 78,
   "id": "f6f03d9c",
   "metadata": {},
   "outputs": [
    {
     "data": {
      "text/plain": [
       "['Akshen', 'Dhami', 'maher']"
      ]
     },
     "execution_count": 78,
     "metadata": {},
     "output_type": "execute_result"
    }
   ],
   "source": [
    "f=['Akshen','maher','Dhami']\n",
    "f.sort()\n",
    "f"
   ]
  },
  {
   "cell_type": "code",
   "execution_count": 77,
   "id": "fd3f4f05",
   "metadata": {},
   "outputs": [
    {
     "data": {
      "text/plain": [
       "[6.7, 5, 4, 1]"
      ]
     },
     "execution_count": 77,
     "metadata": {},
     "output_type": "execute_result"
    }
   ],
   "source": [
    "e=[1,4,5,6.7]\n",
    "e.sort(reverse=True)\n",
    "e"
   ]
  },
  {
   "cell_type": "code",
   "execution_count": 79,
   "id": "6b924561",
   "metadata": {},
   "outputs": [
    {
     "data": {
      "text/plain": [
       "[6.7, 5, 4, 1]"
      ]
     },
     "execution_count": 79,
     "metadata": {},
     "output_type": "execute_result"
    }
   ],
   "source": [
    "g=e\n",
    "g"
   ]
  },
  {
   "cell_type": "code",
   "execution_count": 80,
   "id": "deeeba92",
   "metadata": {},
   "outputs": [
    {
     "data": {
      "text/plain": [
       "[6.7, 5, 4, 1, 77]"
      ]
     },
     "execution_count": 80,
     "metadata": {},
     "output_type": "execute_result"
    }
   ],
   "source": [
    "e.append(77)\n",
    "e"
   ]
  },
  {
   "cell_type": "code",
   "execution_count": 81,
   "id": "798c8c48",
   "metadata": {},
   "outputs": [
    {
     "data": {
      "text/plain": [
       "[6.7, 5, 4, 1, 77]"
      ]
     },
     "execution_count": 81,
     "metadata": {},
     "output_type": "execute_result"
    }
   ],
   "source": [
    "g"
   ]
  },
  {
   "cell_type": "code",
   "execution_count": 82,
   "id": "be4b575a",
   "metadata": {},
   "outputs": [
    {
     "name": "stdout",
     "output_type": "stream",
     "text": [
      "1886737352448\n",
      "1886737352448\n"
     ]
    }
   ],
   "source": [
    "print(id(e))\n",
    "print(id(g))\n",
    "#whatever u save in e will automatically get saved in g as id are same.If u want to add, copy to e, it won't get saved to g"
   ]
  },
  {
   "cell_type": "code",
   "execution_count": 83,
   "id": "63c2b3f8",
   "metadata": {},
   "outputs": [
    {
     "data": {
      "text/plain": [
       "[6.7, 5, 4, 1, 77]"
      ]
     },
     "execution_count": 83,
     "metadata": {},
     "output_type": "execute_result"
    }
   ],
   "source": [
    "g=e.copy()\n",
    "e"
   ]
  },
  {
   "cell_type": "code",
   "execution_count": 84,
   "id": "c5703f31",
   "metadata": {},
   "outputs": [
    {
     "data": {
      "text/plain": [
       "[6.7, 5, 4, 1, 77, 99]"
      ]
     },
     "execution_count": 84,
     "metadata": {},
     "output_type": "execute_result"
    }
   ],
   "source": [
    "e.append(99)\n",
    "e"
   ]
  },
  {
   "cell_type": "code",
   "execution_count": 85,
   "id": "30dea1e5",
   "metadata": {},
   "outputs": [
    {
     "data": {
      "text/plain": [
       "[6.7, 5, 4, 1, 77]"
      ]
     },
     "execution_count": 85,
     "metadata": {},
     "output_type": "execute_result"
    }
   ],
   "source": [
    "g"
   ]
  },
  {
   "cell_type": "code",
   "execution_count": null,
   "id": "4dd0a539",
   "metadata": {},
   "outputs": [],
   "source": []
  }
 ],
 "metadata": {
  "kernelspec": {
   "display_name": "Python 3 (ipykernel)",
   "language": "python",
   "name": "python3"
  },
  "language_info": {
   "codemirror_mode": {
    "name": "ipython",
    "version": 3
   },
   "file_extension": ".py",
   "mimetype": "text/x-python",
   "name": "python",
   "nbconvert_exporter": "python",
   "pygments_lexer": "ipython3",
   "version": "3.11.4"
  }
 },
 "nbformat": 4,
 "nbformat_minor": 5
}
