{
 "cells": [
  {
   "cell_type": "markdown",
   "id": "620e5438",
   "metadata": {},
   "source": [
    "union, intersection, intersection_update, difference, difference_update, symmetric_difference, symmetric_difference_update, isdisjoint, issubset, issuperset, add, update, remove, discard, pop, clear, copy"
   ]
  },
  {
   "cell_type": "code",
   "execution_count": 1,
   "id": "53ee4f49",
   "metadata": {},
   "outputs": [
    {
     "name": "stdout",
     "output_type": "stream",
     "text": [
      "['__and__', '__class__', '__class_getitem__', '__contains__', '__delattr__', '__dir__', '__doc__', '__eq__', '__format__', '__ge__', '__getattribute__', '__gt__', '__hash__', '__iand__', '__init__', '__init_subclass__', '__ior__', '__isub__', '__iter__', '__ixor__', '__le__', '__len__', '__lt__', '__ne__', '__new__', '__or__', '__rand__', '__reduce__', '__reduce_ex__', '__repr__', '__ror__', '__rsub__', '__rxor__', '__setattr__', '__sizeof__', '__str__', '__sub__', '__subclasshook__', '__xor__', 'add', 'clear', 'copy', 'difference', 'difference_update', 'discard', 'intersection', 'intersection_update', 'isdisjoint', 'issubset', 'issuperset', 'pop', 'remove', 'symmetric_difference', 'symmetric_difference_update', 'union', 'update']\n"
     ]
    }
   ],
   "source": [
    "print(dir(set))"
   ]
  },
  {
   "cell_type": "code",
   "execution_count": 2,
   "id": "849be252",
   "metadata": {},
   "outputs": [
    {
     "data": {
      "text/plain": [
       "dict"
      ]
     },
     "execution_count": 2,
     "metadata": {},
     "output_type": "execute_result"
    }
   ],
   "source": [
    "#automatically it will be empty\n",
    "s={}\n",
    "type(s)"
   ]
  },
  {
   "cell_type": "code",
   "execution_count": 3,
   "id": "6c69d8e1",
   "metadata": {},
   "outputs": [
    {
     "data": {
      "text/plain": [
       "set"
      ]
     },
     "execution_count": 3,
     "metadata": {},
     "output_type": "execute_result"
    }
   ],
   "source": [
    "a={10}\n",
    "type(a)"
   ]
  },
  {
   "cell_type": "code",
   "execution_count": 13,
   "id": "be57736d",
   "metadata": {},
   "outputs": [
    {
     "data": {
      "text/plain": [
       "{10, 10.5, 40, 92, 'c', 'java', 'python'}"
      ]
     },
     "execution_count": 13,
     "metadata": {},
     "output_type": "execute_result"
    }
   ],
   "source": [
    "b={\"python\",10.5, 92, \"java\", \"c\", 40, 10} #unordered\n",
    "b "
   ]
  },
  {
   "cell_type": "code",
   "execution_count": 14,
   "id": "daeb9a43",
   "metadata": {},
   "outputs": [
    {
     "data": {
      "text/plain": [
       "{10, 10.5, 40, 92, 'c', 'java', 'python'}"
      ]
     },
     "execution_count": 14,
     "metadata": {},
     "output_type": "execute_result"
    }
   ],
   "source": [
    "b"
   ]
  },
  {
   "cell_type": "code",
   "execution_count": 5,
   "id": "9ef9c9dd",
   "metadata": {},
   "outputs": [
    {
     "ename": "TypeError",
     "evalue": "'set' object is not subscriptable",
     "output_type": "error",
     "traceback": [
      "\u001b[1;31m---------------------------------------------------------------------------\u001b[0m",
      "\u001b[1;31mTypeError\u001b[0m                                 Traceback (most recent call last)",
      "Cell \u001b[1;32mIn[5], line 1\u001b[0m\n\u001b[1;32m----> 1\u001b[0m \u001b[43mb\u001b[49m\u001b[43m[\u001b[49m\u001b[38;5;241;43m0\u001b[39;49m\u001b[43m]\u001b[49m\n",
      "\u001b[1;31mTypeError\u001b[0m: 'set' object is not subscriptable"
     ]
    }
   ],
   "source": [
    "b[0] #cannot do indexing and slicing"
   ]
  },
  {
   "cell_type": "code",
   "execution_count": 6,
   "id": "cc1b773d",
   "metadata": {},
   "outputs": [
    {
     "data": {
      "text/plain": [
       "{10, 40, 92, 'c', 'java', 'python'}"
      ]
     },
     "execution_count": 6,
     "metadata": {},
     "output_type": "execute_result"
    }
   ],
   "source": [
    "c={\"python\", 92, \"java\", \"c\", 40, 10, 'python'} #cannot store duplicate values\n",
    "c"
   ]
  },
  {
   "cell_type": "code",
   "execution_count": 7,
   "id": "ae4c6f68",
   "metadata": {},
   "outputs": [
    {
     "ename": "TypeError",
     "evalue": "unhashable type: 'list'",
     "output_type": "error",
     "traceback": [
      "\u001b[1;31m---------------------------------------------------------------------------\u001b[0m",
      "\u001b[1;31mTypeError\u001b[0m                                 Traceback (most recent call last)",
      "Cell \u001b[1;32mIn[7], line 1\u001b[0m\n\u001b[1;32m----> 1\u001b[0m c\u001b[38;5;241m=\u001b[39m{\u001b[38;5;124m\"\u001b[39m\u001b[38;5;124mpython\u001b[39m\u001b[38;5;124m\"\u001b[39m, \u001b[38;5;241m92\u001b[39m, \u001b[38;5;124m\"\u001b[39m\u001b[38;5;124mjava\u001b[39m\u001b[38;5;124m\"\u001b[39m, \u001b[38;5;124m\"\u001b[39m\u001b[38;5;124mc\u001b[39m\u001b[38;5;124m\"\u001b[39m,[\u001b[38;5;241m40\u001b[39m, \u001b[38;5;241m10\u001b[39m], \u001b[38;5;124m'\u001b[39m\u001b[38;5;124mpython\u001b[39m\u001b[38;5;124m'\u001b[39m}\n",
      "\u001b[1;31mTypeError\u001b[0m: unhashable type: 'list'"
     ]
    }
   ],
   "source": [
    "c={\"python\", 92, \"java\", \"c\",[40, 10], 'python'} #cannot store list(mutable data type)\n",
    " "
   ]
  },
  {
   "cell_type": "code",
   "execution_count": 8,
   "id": "93cbc4d1",
   "metadata": {},
   "outputs": [
    {
     "ename": "TypeError",
     "evalue": "'set' object does not support item assignment",
     "output_type": "error",
     "traceback": [
      "\u001b[1;31m---------------------------------------------------------------------------\u001b[0m",
      "\u001b[1;31mTypeError\u001b[0m                                 Traceback (most recent call last)",
      "Cell \u001b[1;32mIn[8], line 1\u001b[0m\n\u001b[1;32m----> 1\u001b[0m c[\u001b[38;5;124m\"\u001b[39m\u001b[38;5;124mpython\u001b[39m\u001b[38;5;124m\"\u001b[39m]\u001b[38;5;241m=\u001b[39m \u001b[38;5;241m25\u001b[39m\n",
      "\u001b[1;31mTypeError\u001b[0m: 'set' object does not support item assignment"
     ]
    }
   ],
   "source": [
    "c[\"python\"]= 25"
   ]
  },
  {
   "cell_type": "code",
   "execution_count": 22,
   "id": "d8cd92a4",
   "metadata": {
    "scrolled": false
   },
   "outputs": [
    {
     "name": "stdout",
     "output_type": "stream",
     "text": [
      "A: {10, 20, 5, 30}\n",
      "B: {40, 20, 30}\n",
      "C: {1, 2, 3, 4}\n",
      "D: {10, 5}\n",
      "A.union(B): {20, 5, 40, 10, 30}\n",
      "A.intersection(B): {20, 30}\n",
      "A-B:  {10, 5}\n",
      "A.difference(B): {10, 5}\n",
      "B-A: {40}\n",
      "B.difference(A): {40}\n",
      "unique value from A & B: {5, 40, 10}\n",
      "unique value from B & A: {5, 40, 10}\n",
      "isdisjoint: False\n",
      "isdisjoint: True\n",
      "issubset: True\n",
      "issuperset: True\n",
      "{10, 5}\n",
      "A.difference_update(B): None\n",
      "A: {5, 10}\n",
      "B: {40, 20, 30}\n",
      "set()\n",
      "None\n",
      "A: set()\n",
      "B: {40, 20, 30}\n",
      "{40, 20, 30}\n",
      "None\n"
     ]
    }
   ],
   "source": [
    "A={10,20,30,5}\n",
    "print('A:',A)\n",
    "B={20,30,40}\n",
    "print('B:',B)\n",
    "C={1,2,3,4}\n",
    "print('C:',C)\n",
    "D={5,10}\n",
    "print('D:',D)\n",
    "print('A.union(B):',A.union(B))\n",
    "print('A.intersection(B):',A.intersection(B))\n",
    "print('A-B: ',A-B)\n",
    "print('A.difference(B):',A.difference(B))\n",
    "print('B-A:',B-A)\n",
    "print('B.difference(A):',B.difference(A))\n",
    "print('unique value from A & B:',A.symmetric_difference(B)) #opposite of intersection\n",
    "print('unique value from B & A:',B.symmetric_difference(A))\n",
    "print('isdisjoint:',A.isdisjoint(B)) #common=False, diff=True\n",
    "print('isdisjoint:',A.isdisjoint(C))\n",
    "print('issubset:',D.issubset(A))\n",
    "print('issuperset:',A.issuperset(D))\n",
    "print(A.difference(B))\n",
    "print('A.difference_update(B):',A.difference_update(B))\n",
    "print('A:',A)\n",
    "print('B:',B)\n",
    "print(A.intersection(B))\n",
    "print(A.intersection_update(B))\n",
    "print('A:',A)\n",
    "print('B:',B)\n",
    "print(A.symmetric_difference(B))\n",
    "print(A.symmetric_difference_update(B))"
   ]
  },
  {
   "cell_type": "code",
   "execution_count": 12,
   "id": "4f343c63",
   "metadata": {},
   "outputs": [
    {
     "name": "stdout",
     "output_type": "stream",
     "text": [
      "set()\n"
     ]
    }
   ],
   "source": [
    "print(A.difference(B))"
   ]
  },
  {
   "cell_type": "code",
   "execution_count": 13,
   "id": "d22d5289",
   "metadata": {},
   "outputs": [
    {
     "name": "stdout",
     "output_type": "stream",
     "text": [
      "None\n"
     ]
    }
   ],
   "source": [
    "print(A.difference_update(B))"
   ]
  },
  {
   "cell_type": "code",
   "execution_count": 10,
   "id": "1da472ba",
   "metadata": {},
   "outputs": [
    {
     "name": "stdout",
     "output_type": "stream",
     "text": [
      "{40, 20, 30}\n"
     ]
    }
   ],
   "source": [
    "print(A.intersection(B))"
   ]
  },
  {
   "cell_type": "code",
   "execution_count": 15,
   "id": "371df487",
   "metadata": {},
   "outputs": [
    {
     "name": "stdout",
     "output_type": "stream",
     "text": [
      "None\n",
      "{40, 20, 30}\n"
     ]
    }
   ],
   "source": [
    "print(A.intersection_update(B))\n",
    "print(A)"
   ]
  },
  {
   "cell_type": "code",
   "execution_count": 10,
   "id": "f187999b",
   "metadata": {},
   "outputs": [
    {
     "data": {
      "text/plain": [
       "set()"
      ]
     },
     "execution_count": 10,
     "metadata": {},
     "output_type": "execute_result"
    }
   ],
   "source": [
    "D.clear()\n",
    "D"
   ]
  },
  {
   "cell_type": "code",
   "execution_count": 11,
   "id": "23e7a016",
   "metadata": {},
   "outputs": [
    {
     "data": {
      "text/plain": [
       "{1, 2, 3, 4}"
      ]
     },
     "execution_count": 11,
     "metadata": {},
     "output_type": "execute_result"
    }
   ],
   "source": [
    "C"
   ]
  },
  {
   "cell_type": "code",
   "execution_count": 25,
   "id": "ca087a32",
   "metadata": {},
   "outputs": [
    {
     "name": "stdout",
     "output_type": "stream",
     "text": [
      "{1, 2, 3, 4, 40, 20, 30}\n",
      "{40, 20, 30}\n",
      "{1, 2, 3, 4}\n",
      "{1, 2, 3, 4, 40, 20, 30}\n",
      "None\n"
     ]
    }
   ],
   "source": [
    "E=C\n",
    "print(E)\n",
    "print(B)\n",
    "print(E.symmetric_difference(B))\n",
    "print(E)\n",
    "print(E.symmetric_difference_update(B))"
   ]
  },
  {
   "cell_type": "markdown",
   "id": "82918241",
   "metadata": {},
   "source": [
    "add, update"
   ]
  },
  {
   "cell_type": "code",
   "execution_count": 14,
   "id": "f8e4274f",
   "metadata": {},
   "outputs": [
    {
     "data": {
      "text/plain": [
       "{20, 30, 40, 100}"
      ]
     },
     "execution_count": 14,
     "metadata": {},
     "output_type": "execute_result"
    }
   ],
   "source": [
    "A.add(100)\n",
    "A"
   ]
  },
  {
   "cell_type": "code",
   "execution_count": 27,
   "id": "d058d68d",
   "metadata": {},
   "outputs": [
    {
     "data": {
      "text/plain": [
       "{20, 25, 30, 40}"
      ]
     },
     "execution_count": 27,
     "metadata": {},
     "output_type": "execute_result"
    }
   ],
   "source": [
    "A.add(25)\n",
    "A"
   ]
  },
  {
   "cell_type": "code",
   "execution_count": 16,
   "id": "78e43c8a",
   "metadata": {},
   "outputs": [
    {
     "data": {
      "text/plain": [
       "{100, 101, 20, 25, 30, 40, 'Aug23', 'Python'}"
      ]
     },
     "execution_count": 16,
     "metadata": {},
     "output_type": "execute_result"
    }
   ],
   "source": [
    "A.update({101, \"Python\", \"Aug23\"})\n",
    "A"
   ]
  },
  {
   "cell_type": "markdown",
   "id": "80fd90f2",
   "metadata": {},
   "source": [
    "remove, discard, pop"
   ]
  },
  {
   "cell_type": "code",
   "execution_count": 31,
   "id": "61b67601",
   "metadata": {},
   "outputs": [
    {
     "data": {
      "text/plain": [
       "{20, 25, 30, 40}"
      ]
     },
     "execution_count": 31,
     "metadata": {},
     "output_type": "execute_result"
    }
   ],
   "source": [
    "A.remove(101)\n",
    "A"
   ]
  },
  {
   "cell_type": "code",
   "execution_count": 18,
   "id": "858a9be1",
   "metadata": {},
   "outputs": [
    {
     "ename": "KeyError",
     "evalue": "200",
     "output_type": "error",
     "traceback": [
      "\u001b[1;31m---------------------------------------------------------------------------\u001b[0m",
      "\u001b[1;31mKeyError\u001b[0m                                  Traceback (most recent call last)",
      "Cell \u001b[1;32mIn[18], line 1\u001b[0m\n\u001b[1;32m----> 1\u001b[0m \u001b[43mA\u001b[49m\u001b[38;5;241;43m.\u001b[39;49m\u001b[43mremove\u001b[49m\u001b[43m(\u001b[49m\u001b[38;5;241;43m200\u001b[39;49m\u001b[43m)\u001b[49m\n\u001b[0;32m      2\u001b[0m A\n",
      "\u001b[1;31mKeyError\u001b[0m: 200"
     ]
    }
   ],
   "source": [
    "A.remove(200)\n",
    "A"
   ]
  },
  {
   "cell_type": "code",
   "execution_count": 34,
   "id": "eace872c",
   "metadata": {},
   "outputs": [
    {
     "data": {
      "text/plain": [
       "{20, 25, 30, 40}"
      ]
     },
     "execution_count": 34,
     "metadata": {},
     "output_type": "execute_result"
    }
   ],
   "source": [
    "A.discard(101)\n",
    "A"
   ]
  },
  {
   "cell_type": "code",
   "execution_count": 20,
   "id": "38a776b4",
   "metadata": {},
   "outputs": [
    {
     "data": {
      "text/plain": [
       "{20, 25, 30, 40, 'Aug23', 'Python'}"
      ]
     },
     "execution_count": 20,
     "metadata": {},
     "output_type": "execute_result"
    }
   ],
   "source": [
    "A.discard(101)\n",
    "A"
   ]
  },
  {
   "cell_type": "code",
   "execution_count": 21,
   "id": "f13963bb",
   "metadata": {},
   "outputs": [
    {
     "data": {
      "text/plain": [
       "{20, 25, 30, 40, 'Python'}"
      ]
     },
     "execution_count": 21,
     "metadata": {},
     "output_type": "execute_result"
    }
   ],
   "source": [
    "A.pop() #randomly removes\n",
    "A"
   ]
  },
  {
   "cell_type": "code",
   "execution_count": 22,
   "id": "e4828e37",
   "metadata": {},
   "outputs": [
    {
     "data": {
      "text/plain": [
       "set()"
      ]
     },
     "execution_count": 22,
     "metadata": {},
     "output_type": "execute_result"
    }
   ],
   "source": [
    "A.clear()\n",
    "A"
   ]
  },
  {
   "cell_type": "code",
   "execution_count": 24,
   "id": "c4ba53d1",
   "metadata": {},
   "outputs": [
    {
     "ename": "TypeError",
     "evalue": "set.pop() takes no arguments (1 given)",
     "output_type": "error",
     "traceback": [
      "\u001b[1;31m---------------------------------------------------------------------------\u001b[0m",
      "\u001b[1;31mTypeError\u001b[0m                                 Traceback (most recent call last)",
      "Cell \u001b[1;32mIn[24], line 1\u001b[0m\n\u001b[1;32m----> 1\u001b[0m \u001b[43mA\u001b[49m\u001b[38;5;241;43m.\u001b[39;49m\u001b[43mpop\u001b[49m\u001b[43m(\u001b[49m\u001b[38;5;241;43m101\u001b[39;49m\u001b[43m)\u001b[49m\n\u001b[0;32m      2\u001b[0m A\n",
      "\u001b[1;31mTypeError\u001b[0m: set.pop() takes no arguments (1 given)"
     ]
    }
   ],
   "source": [
    "A.pop(101)\n",
    "A"
   ]
  },
  {
   "cell_type": "code",
   "execution_count": 26,
   "id": "a33bdeaf",
   "metadata": {},
   "outputs": [
    {
     "ename": "TypeError",
     "evalue": "set.remove() takes exactly one argument (0 given)",
     "output_type": "error",
     "traceback": [
      "\u001b[1;31m---------------------------------------------------------------------------\u001b[0m",
      "\u001b[1;31mTypeError\u001b[0m                                 Traceback (most recent call last)",
      "Cell \u001b[1;32mIn[26], line 1\u001b[0m\n\u001b[1;32m----> 1\u001b[0m \u001b[43mA\u001b[49m\u001b[38;5;241;43m.\u001b[39;49m\u001b[43mremove\u001b[49m\u001b[43m(\u001b[49m\u001b[43m)\u001b[49m\n\u001b[0;32m      2\u001b[0m A\n",
      "\u001b[1;31mTypeError\u001b[0m: set.remove() takes exactly one argument (0 given)"
     ]
    }
   ],
   "source": [
    "A.remove()\n",
    "A"
   ]
  },
  {
   "cell_type": "code",
   "execution_count": 27,
   "id": "228b6c32",
   "metadata": {},
   "outputs": [
    {
     "data": {
      "text/plain": [
       "set()"
      ]
     },
     "execution_count": 27,
     "metadata": {},
     "output_type": "execute_result"
    }
   ],
   "source": [
    "A.discard(101)\n",
    "A"
   ]
  },
  {
   "cell_type": "code",
   "execution_count": null,
   "id": "f1b8f69e",
   "metadata": {},
   "outputs": [],
   "source": []
  }
 ],
 "metadata": {
  "kernelspec": {
   "display_name": "Python 3 (ipykernel)",
   "language": "python",
   "name": "python3"
  },
  "language_info": {
   "codemirror_mode": {
    "name": "ipython",
    "version": 3
   },
   "file_extension": ".py",
   "mimetype": "text/x-python",
   "name": "python",
   "nbconvert_exporter": "python",
   "pygments_lexer": "ipython3",
   "version": "3.11.4"
  }
 },
 "nbformat": 4,
 "nbformat_minor": 5
}
